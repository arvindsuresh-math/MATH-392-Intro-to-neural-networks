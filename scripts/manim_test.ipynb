{
 "cells": [
  {
   "cell_type": "code",
   "execution_count": 3,
   "metadata": {},
   "outputs": [],
   "source": [
    "from manim import *\n",
    "import numpy as np\n",
    "\n",
    "config.media_width = \"75%\"\n",
    "config.verbosity = \"WARNING\""
   ]
  },
  {
   "cell_type": "code",
   "execution_count": 4,
   "metadata": {},
   "outputs": [
    {
     "data": {
      "text/html": [
       "<pre style=\"white-space:pre;overflow-x:auto;line-height:normal;font-family:Menlo,'DejaVu Sans Mono',consolas,'Courier New',monospace\">Manim Community <span style=\"color: #008000; text-decoration-color: #008000\">v0.19.0</span>\n",
       "\n",
       "</pre>\n"
      ],
      "text/plain": [
       "Manim Community \u001b[32mv0.\u001b[0m\u001b[32m19.0\u001b[0m\n",
       "\n"
      ]
     },
     "metadata": {},
     "output_type": "display_data"
    },
    {
     "name": "stderr",
     "output_type": "stream",
     "text": [
      "                                                                     \r"
     ]
    },
    {
     "data": {
      "text/html": [
       "<video src=\"media/jupyter/CircleToSquare@2025-01-31@19-59-21.mp4\" controls autoplay loop style=\"max-width: 75%;\"  >\n",
       "      Your browser does not support the <code>video</code> element.\n",
       "    </video>"
      ],
      "text/plain": [
       "<IPython.core.display.Video object>"
      ]
     },
     "metadata": {},
     "output_type": "display_data"
    }
   ],
   "source": [
    "%%manim -qm CircleToSquare\n",
    "\n",
    "class CircleToSquare(Scene):\n",
    "    def construct(self):\n",
    "        blue_circle = Circle(color=BLUE, fill_opacity=0.5)\n",
    "        green_square = Square(color=GREEN, fill_opacity=0.8)\n",
    "        self.play(Create(blue_circle))\n",
    "        self.wait()\n",
    "        \n",
    "        self.play(Transform(blue_circle, green_square))\n",
    "        self.wait()"
   ]
  },
  {
   "cell_type": "code",
   "execution_count": 5,
   "metadata": {},
   "outputs": [
    {
     "data": {
      "text/html": [
       "<pre style=\"white-space:pre;overflow-x:auto;line-height:normal;font-family:Menlo,'DejaVu Sans Mono',consolas,'Courier New',monospace\">Manim Community <span style=\"color: #008000; text-decoration-color: #008000\">v0.19.0</span>\n",
       "\n",
       "</pre>\n"
      ],
      "text/plain": [
       "Manim Community \u001b[32mv0.\u001b[0m\u001b[32m19.0\u001b[0m\n",
       "\n"
      ]
     },
     "metadata": {},
     "output_type": "display_data"
    },
    {
     "name": "stderr",
     "output_type": "stream",
     "text": [
      "                                                                       \r"
     ]
    },
    {
     "data": {
      "text/html": [
       "<video src=\"media/jupyter/TriangleToCircleToSquare@2025-01-31@19-59-21.mp4\" controls autoplay loop style=\"max-width: 75%;\"  >\n",
       "      Your browser does not support the <code>video</code> element.\n",
       "    </video>"
      ],
      "text/plain": [
       "<IPython.core.display.Video object>"
      ]
     },
     "metadata": {},
     "output_type": "display_data"
    }
   ],
   "source": [
    "class TriangleToCircleToSquare(Scene):\n",
    "    def construct(self):\n",
    "        shape = Triangle(color=RED, fill_opacity=0.5)\n",
    "        self.play(Create(shape))\n",
    "        self.wait()\n",
    "\n",
    "        # Transform the same mobject into a blue circle\n",
    "        self.play(Transform(shape, Circle(color=BLUE, fill_opacity=0.5)))\n",
    "        self.wait()\n",
    "\n",
    "        # Transform the same mobject into a green square\n",
    "        self.play(Transform(shape, Square(color=GREEN, fill_opacity=0.8)))\n",
    "        self.wait()\n",
    "\n",
    "%manim -qm TriangleToCircleToSquare"
   ]
  },
  {
   "cell_type": "code",
   "execution_count": 6,
   "metadata": {},
   "outputs": [],
   "source": [
    "class LinearRegressionDemo(Scene):\n",
    "    \"\"\"\n",
    "    This class demonstrates a simplified linear regression concept using Manim.\n",
    "    It will show a set of points, the line of best fit, and visualize how mean squared error is computed.\n",
    "    \"\"\"\n",
    "    def construct(self):\n",
    "        # SECTION 1: CREATE AXES AND LABELS\n",
    "        # ---------------------------------\n",
    "        # This sets up the coordinate plane on which we'll draw points and the regression line.\n",
    "        axes = Axes(\n",
    "            x_range=[-0.5, 12, 1],    # Range of x-values (start, end, step)\n",
    "            y_range=[-0.5, 6, 1],    # Range of y-values (start, end, step)\n",
    "            x_length=12,             # Width of the x-axis\n",
    "            y_length=6,             # Height of the y-axis\n",
    "            tips=True,              # Add arrow tips to axes\n",
    "        ).to_edge(LEFT)             # Move axes to the left side\n",
    "\n",
    "        x_label = axes.get_x_axis_label(\"x\")  # Label for x-axis\n",
    "        y_label = axes.get_y_axis_label(\"y\")  # Label for y-axis\n",
    "\n",
    "        self.play(Create(axes), Write(x_label), Write(y_label))\n",
    "        self.wait()\n",
    "\n",
    "        # SECTION 2: GENERATE POINTS\n",
    "        # --------------------------\n",
    "        # Suppose we have some data points that roughly follow a linear pattern.\n",
    "        # We'll place them in the coordinate plane and store them for later reference.\n",
    "        # Generate x values: 20 points equally spaced from 0 to 10\n",
    "        x_vals = np.linspace(0, 10, 20)\n",
    "        \n",
    "        # Generate y values with noise: y = 0.8x + 0.3 + random_noise\n",
    "        np.random.seed(42)  # For reproducibility\n",
    "        mu, sigma = 0, 1\n",
    "        y_vals = 0.5 * x_vals + 0.3 + np.random.normal(mu, sigma, 20)\n",
    "        \n",
    "        # Combine into data points\n",
    "        data_points = list(zip(x_vals, y_vals))\n",
    "\n",
    "        # Convert these tuples into Dot mobjects positioned on our axes.\n",
    "        dots = VGroup()\n",
    "        for (x_val, y_val) in data_points:\n",
    "            dot = Dot(axes.coords_to_point(x_val, y_val), color=YELLOW)\n",
    "            dots.add(dot)\n",
    "\n",
    "        self.play(*[Create(dot) for dot in dots], run_time=2)\n",
    "        self.wait()\n",
    "\n",
    "        # SECTION 3: DRAW A LINE OF BEST FIT\n",
    "        # ----------------------------------\n",
    "        # For demonstration, let's just specify a \"best fit\" line rather than computing it.\n",
    "        # We'll treat y = 0.8x + 0.3 as our approximate best fit.\n",
    "        line_of_best_fit = axes.plot(\n",
    "            lambda x: 0.5*x + 0.3,\n",
    "            color=BLUE\n",
    "        )\n",
    "        \n",
    "        self.play(Create(line_of_best_fit), run_time=2)\n",
    "        self.wait()\n",
    "\n",
    "        # SECTION 4: SHOW ERRORS (RESIDUALS)\n",
    "        # ----------------------------------\n",
    "        # We'll illustrate vertical distances from each point to the line, representing errors.\n",
    "        residual_lines = VGroup()\n",
    "        for (x_val, y_val) in data_points:\n",
    "            actual_point = axes.coords_to_point(x_val, y_val)\n",
    "            pred_point   = axes.coords_to_point(x_val, 0.5*x_val + 0.3)  # Evaluate line at x_val\n",
    "            # Draw a vertical line between actual y and predicted y\n",
    "            res_line = Line(start=actual_point, end=pred_point, color=RED)\n",
    "            residual_lines.add(res_line)\n",
    "\n",
    "        self.play(*[Create(line) for line in residual_lines], run_time=3)\n",
    "        self.wait()\n",
    "\n",
    "        # SECTION 5: MEAN SQUARED ERROR (MSE) VISUALIZATION\n",
    "        # -------------------------------------------------\n",
    "        # To illustrate MSE, let's show small squares whose side lengths are proportional to each residual.\n",
    "        # We'll also place a formula on the screen for MSE, but keep it simple for demonstration.\n",
    "        squares = VGroup()\n",
    "        for i, (x_val, y_val) in enumerate(data_points):\n",
    "            actual_y = y_val\n",
    "            pred_y   = 0.5*x_val + 0.3\n",
    "            residual = actual_y - pred_y     # difference between actual and predicted\n",
    "            size     = abs(residual)         # We'll represent it as the length of a square's side\n",
    "            # We'll place the square so it's centered around the midpoint of the line.\n",
    "            mid_y = (actual_y + pred_y) / 2\n",
    "            square_center = axes.coords_to_point(x_val, mid_y)\n",
    "            # Construct the square\n",
    "            sq = Square(side_length=size, color=ORANGE).move_to(square_center)\n",
    "            squares.add(sq)\n",
    "\n",
    "        mse_text = MathTex(\n",
    "            r\"\\text{MSE} = \\frac{1}{n}\\sum (y_i - \\hat{y}_i)^2\"\n",
    "        ).to_edge(UP).shift(RIGHT*1)\n",
    "\n",
    "        self.play(Create(mse_text))\n",
    "        self.play(*[Create(sq) for sq in squares], run_time=3)\n",
    "        self.wait()\n",
    "\n",
    "        # SECTION 6: CLEANUP / END\n",
    "        # ------------------------\n",
    "        # Fade out everything to wrap up the scene.\n",
    "        self.play(\n",
    "            FadeOut(squares),\n",
    "            FadeOut(residual_lines),\n",
    "            FadeOut(dots),\n",
    "            FadeOut(line_of_best_fit),\n",
    "            FadeOut(mse_text),\n",
    "            FadeOut(axes),\n",
    "            FadeOut(x_label),\n",
    "            FadeOut(y_label),\n",
    "            run_time=2\n",
    "        )\n",
    "        self.wait()\n"
   ]
  },
  {
   "cell_type": "code",
   "execution_count": 7,
   "metadata": {},
   "outputs": [
    {
     "data": {
      "text/html": [
       "<pre style=\"white-space:pre;overflow-x:auto;line-height:normal;font-family:Menlo,'DejaVu Sans Mono',consolas,'Courier New',monospace\">Manim Community <span style=\"color: #008000; text-decoration-color: #008000\">v0.19.0</span>\n",
       "\n",
       "</pre>\n"
      ],
      "text/plain": [
       "Manim Community \u001b[32mv0.\u001b[0m\u001b[32m19.0\u001b[0m\n",
       "\n"
      ]
     },
     "metadata": {},
     "output_type": "display_data"
    },
    {
     "name": "stderr",
     "output_type": "stream",
     "text": [
      "                                                                                                                            \r"
     ]
    },
    {
     "data": {
      "text/html": [
       "<video src=\"media/jupyter/LinearRegressionDemo@2025-01-31@19-59-22.mp4\" controls autoplay loop style=\"max-width: 75%;\"  >\n",
       "      Your browser does not support the <code>video</code> element.\n",
       "    </video>"
      ],
      "text/plain": [
       "<IPython.core.display.Video object>"
      ]
     },
     "metadata": {},
     "output_type": "display_data"
    }
   ],
   "source": [
    "%manim -ql LinearRegressionDemo"
   ]
  },
  {
   "cell_type": "code",
   "execution_count": 68,
   "metadata": {},
   "outputs": [
    {
     "data": {
      "text/html": [
       "<pre style=\"white-space:pre;overflow-x:auto;line-height:normal;font-family:Menlo,'DejaVu Sans Mono',consolas,'Courier New',monospace\">Manim Community <span style=\"color: #008000; text-decoration-color: #008000\">v0.19.0</span>\n",
       "\n",
       "</pre>\n"
      ],
      "text/plain": [
       "Manim Community \u001b[32mv0.\u001b[0m\u001b[32m19.0\u001b[0m\n",
       "\n"
      ]
     },
     "metadata": {},
     "output_type": "display_data"
    },
    {
     "name": "stderr",
     "output_type": "stream",
     "text": [
      "                                                                                                                                                                                                 \r"
     ]
    },
    {
     "data": {
      "text/html": [
       "<video src=\"media/jupyter/NeuralNetworkGraph@2025-01-31@20-38-19.mp4\" controls autoplay loop style=\"max-width: 75%;\"  >\n",
       "      Your browser does not support the <code>video</code> element.\n",
       "    </video>"
      ],
      "text/plain": [
       "<IPython.core.display.Video object>"
      ]
     },
     "metadata": {},
     "output_type": "display_data"
    }
   ],
   "source": [
    "from manim import *\n",
    "\n",
    "class NeuralNetworkGraph(Scene):\n",
    "    def construct(self):\n",
    "        # Define positions\n",
    "        left1_pos = LEFT * 3 + UP * 2\n",
    "        left2_pos = LEFT * 3 \n",
    "        left3_pos = LEFT * 3 + DOWN * 2  # Bias vertex position\n",
    "        middle_pos = ORIGIN\n",
    "        right_pos = RIGHT * 3\n",
    "\n",
    "        # Create vertices\n",
    "        v1 = Circle(radius=0.25).move_to(left1_pos)\n",
    "        v2 = Circle(radius=0.25).move_to(left2_pos)\n",
    "        v3 = Circle(radius=0.25).move_to(left3_pos)  # New bias vertex\n",
    "        v4 = Circle(radius=0.25).move_to(middle_pos)\n",
    "        v5 = Circle(radius=0.25).move_to(right_pos)\n",
    "\n",
    "        # Create vertex labels\n",
    "        l1 = MathTex(\"x_1\", font_size=24).move_to(v1.get_center())\n",
    "        l2 = MathTex(\"x_2\", font_size=24).move_to(v2.get_center())\n",
    "        l3 = MathTex(\"1\", font_size=24).move_to(v3.get_center())  # Bias label\n",
    "        l4 = MathTex(\"z\", font_size=24).move_to(v4.get_center())  # Simplified middle label\n",
    "        l5 = MathTex(\"y\", font_size=24).move_to(v5.get_center())  # New output label\n",
    "\n",
    "        \n",
    "        e1 = Arrow(v1.get_right(), v4.get_left(), buff=0.1, tip_length=0.2)\n",
    "        e2 = Arrow(v2.get_right(), v4.get_left(), buff=0.1, tip_length=0.2)\n",
    "        e3 = Arrow(v3.get_right(), v4.get_left(), buff=0.1, tip_length=0.2)  # New bias arrow\n",
    "        e4 = Arrow(v4.get_right(), v5.get_left(), buff=0.1, tip_length=0.2)\n",
    "\n",
    "        # Create edge labels with adjusted positions\n",
    "        w1 = MathTex(\"w_1\", font_size=24).next_to(e1, UP, buff=0.1)\n",
    "        w2 = MathTex(\"w_2\", font_size=24).next_to(e2, UP, buff=0.1)\n",
    "        b = MathTex(\"b\", font_size=24).next_to(e3, DOWN, buff=0.1)  # Bias weight label\n",
    "        sigma = MathTex(\"\\\\sigma\", font_size=24).next_to(e4, UP, buff=0.1)\n",
    "\n",
    "        # Create the initial network\n",
    "        self.play(\n",
    "            *[Create(v) for v in [v1, v2, v3, v4, v5]],\n",
    "            *[Write(l) for l in [l1, l2, l3, l4, l5]],\n",
    "            *[Create(e) for e in [e1, e2, e3, e4]],\n",
    "            *[Write(w) for w in [w1, w2, b, sigma]]\n",
    "        )\n",
    "        \n",
    "        # Create initial group of all elements\n",
    "        network_group = VGroup(v1, v2, v3, v4, v5, l1, l2, l3, l4, l5, e1, e2, e3, e4, w1, w2, b, sigma)\n",
    "\n",
    "        # Define vector elements as complete LaTeX expressions\n",
    "        row_vector = MathTex(r\"\\left[ x_1 \\quad x_2 \\quad 1 \\right]\", font_size=24)\n",
    "        col_vector = MathTex(r\"\\begin{bmatrix} w_1 \\\\ w_2 \\\\ b \\end{bmatrix}\", font_size=24)\n",
    "        dot_product = MathTex(\n",
    "            r\"\\left[ x_1 \\quad x_2 \\quad 1 \\right] \\begin{bmatrix} w_1 \\\\ w_2 \\\\ b \\end{bmatrix} = z\",\n",
    "            font_size=24\n",
    "        )\n",
    "\n",
    "        # Position vectors (initially out of view)\n",
    "        row_vector.to_edge(UP).shift(UP)\n",
    "        col_vector.next_to(row_vector, RIGHT)\n",
    "        dot_product.to_edge(UP)\n",
    "\n",
    "        # Animations\n",
    "        self.play(\n",
    "            network_group.animate.to_edge(DOWN),\n",
    "            run_time=2\n",
    "        )\n",
    "\n",
    "        # Reposition the vector equation to appear immediately above the network.\n",
    "        # Instead of using to_edge(UP), position the vectors relative to the network group.\n",
    "        row_vector.next_to(network_group, UP, buff=0.5)\n",
    "        col_vector.next_to(row_vector, RIGHT, buff=0.5)\n",
    "        dot_product.next_to(network_group, UP, buff=0.5)\n",
    "\n",
    "        # Fade the row and column vectors in\n",
    "        self.play(\n",
    "            FadeIn(row_vector),\n",
    "            FadeIn(col_vector),\n",
    "            run_time=2\n",
    "        )\n",
    "\n",
    "        # Show multiplication and result. Use ReplacementTransform for a smooth transformation.\n",
    "        self.play(\n",
    "            ReplacementTransform(\n",
    "                VGroup(row_vector, col_vector),\n",
    "                dot_product\n",
    "            ),\n",
    "            run_time=2\n",
    "        )\n",
    "\n",
    "        # Transform resulting \"z\" into the middle vertex label\n",
    "        final_z = l4.copy()\n",
    "        self.play(\n",
    "            ReplacementTransform(dot_product[-1], final_z),\n",
    "            run_time=1.5\n",
    "        )\n",
    "\n",
    "%manim -ql NeuralNetworkGraph"
   ]
  },
  {
   "cell_type": "code",
   "execution_count": 72,
   "metadata": {},
   "outputs": [
    {
     "data": {
      "text/html": [
       "<pre style=\"white-space:pre;overflow-x:auto;line-height:normal;font-family:Menlo,'DejaVu Sans Mono',consolas,'Courier New',monospace\">Manim Community <span style=\"color: #008000; text-decoration-color: #008000\">v0.19.0</span>\n",
       "\n",
       "</pre>\n"
      ],
      "text/plain": [
       "Manim Community \u001b[32mv0.\u001b[0m\u001b[32m19.0\u001b[0m\n",
       "\n"
      ]
     },
     "metadata": {},
     "output_type": "display_data"
    },
    {
     "name": "stderr",
     "output_type": "stream",
     "text": [
      "                                                                                                        \r"
     ]
    },
    {
     "data": {
      "text/html": [
       "<video src=\"media/jupyter/NeuralNetworkGraph2@2025-01-31@20-49-46.mp4\" controls autoplay loop style=\"max-width: 75%;\"  >\n",
       "      Your browser does not support the <code>video</code> element.\n",
       "    </video>"
      ],
      "text/plain": [
       "<IPython.core.display.Video object>"
      ]
     },
     "metadata": {},
     "output_type": "display_data"
    }
   ],
   "source": [
    "# In this modification, the labels inside the vertices and on the edges float up to form the \n",
    "# row vector (for the x_i’s and bias) and the column vector (for the weights and bias). \n",
    "# Also, the dot product equation is shown without “z” initially; later, “z” appears and floats \n",
    "# down into the middle vertex.\n",
    "\n",
    "class NeuralNetworkGraph2(Scene):\n",
    "    def construct(self):\n",
    "        # Define positions\n",
    "        left1_pos = LEFT * 3 + UP * 2\n",
    "        left2_pos = LEFT * 3 \n",
    "        left3_pos = LEFT * 3 + DOWN * 2  # Bias vertex position\n",
    "        middle_pos = ORIGIN\n",
    "        right_pos = RIGHT * 3\n",
    "\n",
    "        # Create vertices\n",
    "        v1 = Circle(radius=0.25).move_to(left1_pos)\n",
    "        v2 = Circle(radius=0.25).move_to(left2_pos)\n",
    "        v3 = Circle(radius=0.25).move_to(left3_pos)  # Bias vertex\n",
    "        v4 = Circle(radius=0.25).move_to(middle_pos)\n",
    "        v5 = Circle(radius=0.25).move_to(right_pos)\n",
    "\n",
    "        # Create vertex labels\n",
    "        l1 = MathTex(\"x_1\", font_size=24).move_to(v1.get_center())\n",
    "        l2 = MathTex(\"x_2\", font_size=24).move_to(v2.get_center())\n",
    "        l3 = MathTex(\"1\", font_size=24).move_to(v3.get_center())  # Bias label\n",
    "        l4 = MathTex(\"z\", font_size=24).move_to(v4.get_center())  # Middle vertex label (to be transformed into later)\n",
    "        l5 = MathTex(\"y\", font_size=24).move_to(v5.get_center())\n",
    "\n",
    "        # Create edges\n",
    "        e1 = Arrow(v1.get_right(), v4.get_left(), buff=0.1, tip_length=0.2)\n",
    "        e2 = Arrow(v2.get_right(), v4.get_left(), buff=0.1, tip_length=0.2)\n",
    "        e3 = Arrow(v3.get_right(), v4.get_left(), buff=0.1, tip_length=0.2)\n",
    "        e4 = Arrow(v4.get_right(), v5.get_left(), buff=0.1, tip_length=0.2)\n",
    "\n",
    "        # Create edge labels\n",
    "        w1 = MathTex(\"w_1\", font_size=24).next_to(e1, UP, buff=0.1)\n",
    "        w2 = MathTex(\"w_2\", font_size=24).next_to(e2, UP, buff=0.1)\n",
    "        b  = MathTex(\"b\", font_size=24).next_to(e3, DOWN, buff=0.1)\n",
    "        sigma = MathTex(r\"\\sigma\", font_size=24).next_to(e4, UP, buff=0.1)\n",
    "\n",
    "        # Create the initial network\n",
    "        self.play(\n",
    "            *[Create(v) for v in [v1, v2, v3, v4, v5]],\n",
    "            *[Write(label) for label in [l1, l2, l3, l4, l5]],\n",
    "            *[Create(edge) for edge in [e1, e2, e3, e4]],\n",
    "            *[Write(txt) for txt in [w1, w2, b, sigma]]\n",
    "        )\n",
    "        \n",
    "        network_group = VGroup(v1, v2, v3, v4, v5, l1, l2, l3, l4, l5, e1, e2, e3, e4, w1, w2, b, sigma)\n",
    "        \n",
    "        # Instead of making the labels float up to form vectors, we will have them float up and form\n",
    "        # the typical linear model equation, and then have \"z\" (from the equation) float down into the middle vertex.\n",
    "\n",
    "        # Remove the previous vector definitions and animations.\n",
    "        # Instead, define an equation without the \"z\" on the left.\n",
    "        eq_no_z = MathTex(\"w_1\", \"x_1\", \"+\", \"w_2\", \"x_2\", \"+\", \"b\", font_size=24)\n",
    "        eq_no_z.next_to(network_group, UP, buff=0.5)\n",
    "\n",
    "        # Animate the formation of the equation from the existing labels.\n",
    "        self.play(\n",
    "            TransformFromCopy(w1, eq_no_z[0]),\n",
    "            TransformFromCopy(l1, eq_no_z[1]),\n",
    "            Write(eq_no_z[2]),\n",
    "            TransformFromCopy(w2, eq_no_z[3]),\n",
    "            TransformFromCopy(l2, eq_no_z[4]),\n",
    "            Write(eq_no_z[5]),\n",
    "            TransformFromCopy(b,  eq_no_z[6]),\n",
    "            run_time=2\n",
    "        )\n",
    "\n",
    "        # Now, create the full linear model equation by adding \"z =\" on the left.\n",
    "        z_eq = MathTex(\"z\", \"=\", \"w_1\", \"x_1\", \"+\", \"w_2\", \"x_2\", \"+\", \"b\", font_size=24)\n",
    "        z_eq.move_to(eq_no_z.get_center())\n",
    "\n",
    "        # Fade in the \"z\" and \"=\" so that the full equation appears.\n",
    "        self.play(\n",
    "            FadeIn(z_eq[:2]),\n",
    "            run_time=1\n",
    "        )\n",
    "\n",
    "        # Finally, animate the \"z\" from the equation to float down into the middle vertex.\n",
    "        final_z = l4.copy()\n",
    "        self.play(\n",
    "            ReplacementTransform(z_eq[0], final_z),\n",
    "            run_time=1.5\n",
    "        )\n",
    "\n",
    "%manim -ql NeuralNetworkGraph2"
   ]
  },
  {
   "cell_type": "code",
   "execution_count": null,
   "metadata": {},
   "outputs": [],
   "source": []
  },
  {
   "cell_type": "code",
   "execution_count": null,
   "metadata": {},
   "outputs": [],
   "source": []
  }
 ],
 "metadata": {
  "kernelspec": {
   "display_name": "math392",
   "language": "python",
   "name": "python3"
  },
  "language_info": {
   "codemirror_mode": {
    "name": "ipython",
    "version": 3
   },
   "file_extension": ".py",
   "mimetype": "text/x-python",
   "name": "python",
   "nbconvert_exporter": "python",
   "pygments_lexer": "ipython3",
   "version": "3.11.8"
  }
 },
 "nbformat": 4,
 "nbformat_minor": 2
}
