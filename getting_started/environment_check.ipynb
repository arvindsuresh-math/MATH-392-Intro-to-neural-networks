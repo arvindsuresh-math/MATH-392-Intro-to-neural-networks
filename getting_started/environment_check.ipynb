{
 "cells": [
  {
   "cell_type": "markdown",
   "metadata": {},
   "source": [
    "## Environment Check\n",
    "\n",
    "Click on `Select Kernel` > `Python Environments` > `math392` from the dropdown list.\n",
    "\n",
    "Then, run the code cell below to import the main packages and print their version numbers."
   ]
  },
  {
   "cell_type": "code",
   "execution_count": null,
   "metadata": {},
   "outputs": [],
   "source": [
    "# Importing the main packages\n",
    "import numpy as np\n",
    "import pandas as pd\n",
    "import matplotlib\n",
    "import torch\n",
    "import sklearn\n",
    "import seaborn as sns\n",
    "\n",
    "# Printing the version numbers\n",
    "print(f\"numpy version: {np.__version__}\")\n",
    "print(f\"pandas version: {pd.__version__}\")\n",
    "print(f\"matplotlib version: {matplotlib.__version__}\")\n",
    "print(f\"torch version: {torch.__version__}\")\n",
    "print(f\"scikit-learn version: {sklearn.__version__}\")\n",
    "print(f\"seaborn version: {sns.__version__}\")"
   ]
  },
  {
   "cell_type": "markdown",
   "metadata": {},
   "source": [
    "If all the packages are imported successfully, you should get the following output:\n",
    "```\n",
    "numpy version: 1.26.4\n",
    "pandas version: 2.2.3\n",
    "matplotlib version: 3.10.0\n",
    "torch version: 2.5.1\n",
    "scikit-learn version: 1.5.2\n",
    "seaborn version: 0.13.2\n",
    "```"
   ]
  }
 ],
 "metadata": {
  "kernelspec": {
   "display_name": "math392",
   "language": "python",
   "name": "python3"
  },
  "language_info": {
   "codemirror_mode": {
    "name": "ipython",
    "version": 3
   },
   "file_extension": ".py",
   "mimetype": "text/x-python",
   "name": "python",
   "nbconvert_exporter": "python",
   "pygments_lexer": "ipython3",
   "version": "3.11.11"
  }
 },
 "nbformat": 4,
 "nbformat_minor": 2
}
