{
 "cells": [
  {
   "cell_type": "markdown",
   "metadata": {},
   "source": [
    "# Feature target relationships\n",
    "In this notebook:\n",
    "- We will go over some of the ways to analyze the relationships between features, and between features and targets, mainly focussing on covariance on correlation. \n",
    "- We will also look at some of the ways to visualize these relationships, such as scatterplots, kdeplots, and heatmaps."
   ]
  }
 ],
 "metadata": {
  "language_info": {
   "name": "python"
  }
 },
 "nbformat": 4,
 "nbformat_minor": 2
}
