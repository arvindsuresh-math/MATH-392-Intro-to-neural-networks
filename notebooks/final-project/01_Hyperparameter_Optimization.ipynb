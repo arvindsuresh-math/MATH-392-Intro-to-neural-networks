{
 "cells": [
  {
   "cell_type": "markdown",
   "id": "e31291da",
   "metadata": {},
   "source": [
    "# Notebook 1: Hyperparameter Optimization\n",
    "\n",
    "**Goal:** Find the best combination of learning rates (head and backbone) and weight decay for a specific experimental setup by running short training trials.\n",
    "\n",
    "**Setup for this Run:**\n",
    "*   **Model:** [Specify e.g., ResNet18]\n",
    "*   **Unfreeze Strategy:** [Specify e.g., 'mid']\n",
    "*   **Data Augmentation:** [Specify e.g., True/False]\n",
    "\n",
    "This notebook will:\n",
    "1. Define the experimental setup parameters.\n",
    "2. Define a grid of hyperparameter combinations to test.\n",
    "3. Run a short training loop (e.g., 5-10 epochs) for each combination on the validation set.\n",
    "4. Record the validation performance for each combination.\n",
    "5. Identify and save the best hyperparameter combination based on validation accuracy.\n",
    "6. Save the full HPO history."
   ]
  },
  {
   "cell_type": "code",
   "execution_count": 1,
   "id": "795290b4",
   "metadata": {},
   "outputs": [],
   "source": [
    "# --- Imports ---\n",
    "import torch\n",
    "import torch.nn as nn\n",
    "import torch.optim as optim\n",
    "import time\n",
    "import os\n",
    "from tqdm.notebook import tqdm # For progress bars\n",
    "import utils"
   ]
  },
  {
   "cell_type": "code",
   "execution_count": 2,
   "id": "35ccc957",
   "metadata": {},
   "outputs": [
    {
     "name": "stdout",
     "output_type": "stream",
     "text": [
      "Using device: mps\n"
     ]
    }
   ],
   "source": [
    "# --- Device Setup ---\n",
    "if torch.backends.mps.is_available() and torch.backends.mps.is_built():\n",
    "    device = torch.device(\"mps\")\n",
    "elif torch.cuda.is_available():\n",
    "    device = torch.device(\"cuda\")\n",
    "else:\n",
    "    device = torch.device(\"cpu\")\n",
    "print(f\"Using device: {device}\")"
   ]
  },
  {
   "cell_type": "code",
   "execution_count": 3,
   "id": "cfd35ff4",
   "metadata": {},
   "outputs": [
    {
     "name": "stdout",
     "output_type": "stream",
     "text": [
      "Dataset split: Train samples = 2944, Val samples = 736\n"
     ]
    }
   ],
   "source": [
    "train_dataset, val_dataset = utils.get_datasets(\n",
    "    task = 'trainval',\n",
    "    augment_train=True,\n",
    "    )"
   ]
  },
  {
   "cell_type": "markdown",
   "id": "9ff98324",
   "metadata": {},
   "source": [
    "We will examine 12 distinct \"setups\". Each setup will be a combination of the following:\n",
    "1. `MODEL_NAME`: Either ResNet18 (`resnet`) or MobileNet_V3_Small (`mobilenet`).\n",
    "2. `UNFREEZE_STRATEGY`: Either `head` (if training only the modified head), or `mid` (if training the head + a couple layers behind it), or `deep` (if training more layers behind it).\n",
    "3. `AUGMENT_TRAIN`: Either `True` (if using data augmentation for training) or `False` (if not using data augmentation).\n",
    "\n",
    "The particular setup will be denoted by a string `SETUP_ID` that combines these three parameters.\n",
    "For example:\n",
    "- if we are working with ResNet18, training a couple layers behind the head, and using data augmentation, then `SETUP_ID = resnet_mid_aug`.\n",
    "- if we are working with MobileNet_V3_Small, training only the head, and not using data augmentation, then `SETUP_ID = mobilenet_head_noaug`."
   ]
  },
  {
   "cell_type": "code",
   "execution_count": 4,
   "id": "36efa399",
   "metadata": {},
   "outputs": [],
   "source": [
    "# --- Define Setup for this Notebook Run ---\n",
    "\n",
    "# Unique identifier for this experimental setup (used for saving files)\n",
    "SETUP_ID = 'resnet_mid_aug' # <<< CHANGE THIS FOR EACH EXPERIMENT RUN >>>\n",
    "\n",
    "MODEL_NAME = 'resnet'        # 'resnet18' or 'mobilenet'\n",
    "UNFREEZE_STRATEGY = 'mid'    # 'head', 'mid', or 'deep'\n",
    "AUGMENT_TRAIN = True         # True or False\n",
    "\n",
    "# HPO Parameters\n",
    "NUM_EPOCHS_HPO = 2            # Number of epochs to train *each* hyperparameter config\n",
    "BATCH_SIZE = 64               # Batch size for HPO runs"
   ]
  },
  {
   "cell_type": "code",
   "execution_count": 5,
   "id": "9421fe3c",
   "metadata": {},
   "outputs": [],
   "source": [
    "# --- Unfreeze Strategy Mapping ---\n",
    "# Define which layers/blocks correspond to each strategy\n",
    "# (Ensure these names/substrings match model.named_parameters())\n",
    "resnet_unfreeze_map = {\n",
    "    'head': ['fc.'],\n",
    "    'mid':  ['fc.', 'layer4.'],\n",
    "    'deep': ['fc.', 'layer4.', 'layer3.']\n",
    "}\n",
    "mobilenet_unfreeze_map = {\n",
    "    'head': ['classifier.3.'], # Example names, verify with model structure\n",
    "    'mid':  ['classifier.3.', 'features.10.', 'features.11.', 'features.12.'],\n",
    "    'deep': ['classifier.3.', 'features.8.', 'features.9.', 'features.10.', 'features.11.', 'features.12.']\n",
    "}\n",
    "\n",
    "# Select the appropriate unfreeze list based on setup\n",
    "if MODEL_NAME == 'resnet':\n",
    "    layers_to_unfreeze = resnet_unfreeze_map[UNFREEZE_STRATEGY]\n",
    "elif MODEL_NAME == 'mobilenet':\n",
    "    layers_to_unfreeze = mobilenet_unfreeze_map[UNFREEZE_STRATEGY]"
   ]
  },
  {
   "cell_type": "code",
   "execution_count": 6,
   "id": "c75912b7",
   "metadata": {},
   "outputs": [
    {
     "name": "stdout",
     "output_type": "stream",
     "text": [
      "Setup ID: resnet_mid_aug\n",
      "Model: resnet, Unfreeze: mid, Augment: True\n",
      "Layers to unfreeze contain: ['fc.', 'layer4.']\n",
      "HPO Epochs per config: 2\n"
     ]
    }
   ],
   "source": [
    "print(f\"Setup ID: {SETUP_ID}\")\n",
    "print(f\"Model: {MODEL_NAME}, Unfreeze: {UNFREEZE_STRATEGY}, Augment: {AUGMENT_TRAIN}\")\n",
    "print(f\"Layers to unfreeze contain: {layers_to_unfreeze}\")\n",
    "print(f\"HPO Epochs per config: {NUM_EPOCHS_HPO}\")"
   ]
  },
  {
   "cell_type": "code",
   "execution_count": 7,
   "id": "98fdbd75",
   "metadata": {},
   "outputs": [
    {
     "name": "stdout",
     "output_type": "stream",
     "text": [
      "Generated 8 hyperparameter configurations to test:\n"
     ]
    },
    {
     "data": {
      "text/plain": [
       "[{'lr_backbone': 0.0001, 'lr_head': 0.005, 'weight_decay': 0.01},\n",
       " {'lr_backbone': 0.0001, 'lr_head': 0.005, 'weight_decay': 0},\n",
       " {'lr_backbone': 0.0001, 'lr_head': 0.001, 'weight_decay': 0.01},\n",
       " {'lr_backbone': 0.0001, 'lr_head': 0.001, 'weight_decay': 0},\n",
       " {'lr_backbone': 5e-05, 'lr_head': 0.005, 'weight_decay': 0.01},\n",
       " {'lr_backbone': 5e-05, 'lr_head': 0.005, 'weight_decay': 0},\n",
       " {'lr_backbone': 5e-05, 'lr_head': 0.001, 'weight_decay': 0.01},\n",
       " {'lr_backbone': 5e-05, 'lr_head': 0.001, 'weight_decay': 0}]"
      ]
     },
     "execution_count": 7,
     "metadata": {},
     "output_type": "execute_result"
    }
   ],
   "source": [
    "from sklearn.model_selection import ParameterGrid\n",
    "\n",
    "hyperparams = {'lr_head': [5e-3, 1e-3],\n",
    "               'lr_backbone': [1e-4, 5e-5],\n",
    "               'weight_decay': [0.01, 0]}\n",
    "hpo_configs = list(ParameterGrid(hyperparams))\n",
    "\n",
    "print(f\"Generated {len(hpo_configs)} hyperparameter configurations to test:\")\n",
    "hpo_configs"
   ]
  },
  {
   "cell_type": "code",
   "execution_count": 8,
   "id": "22a5ef04",
   "metadata": {},
   "outputs": [],
   "source": [
    "model, weights_obj = utils.get_model(MODEL_NAME)"
   ]
  },
  {
   "cell_type": "code",
   "execution_count": 9,
   "id": "7336f148",
   "metadata": {},
   "outputs": [],
   "source": [
    "train_loader = utils.get_dataloaders(task='train', dataset=train_dataset, batch_size=BATCH_SIZE)\n",
    "val_loader = utils.get_dataloaders(task='val', dataset=val_dataset, batch_size=BATCH_SIZE)\n",
    "\n",
    "# 3. Adapt Head and Apply Unfreeze Strategy\n",
    "model = utils.adapt_model_head(model, MODEL_NAME)\n",
    "model = utils.apply_unfreeze_logic(model, layers_to_unfreeze)\n",
    "model.to(device) # Move model to device *after* modifications\n",
    "\n",
    "# 4. Setup Optimizer using current config\n",
    "config = hpo_configs[0]  # Example: using the first config for setup\n",
    "optimizer = utils.get_optimizer(\n",
    "    model=model,\n",
    "    lr_head=config['lr_head'],\n",
    "    lr_backbone=config['lr_backbone'],\n",
    "    weight_decay=config['weight_decay']\n",
    ")\n",
    "\n",
    "# 5. Define Loss Function\n",
    "criterion = nn.CrossEntropyLoss()"
   ]
  },
  {
   "cell_type": "code",
   "execution_count": 10,
   "id": "2a970edc",
   "metadata": {},
   "outputs": [
    {
     "data": {
      "text/plain": [
       "ResNet(\n",
       "  (conv1): Conv2d(3, 64, kernel_size=(7, 7), stride=(2, 2), padding=(3, 3), bias=False)\n",
       "  (bn1): BatchNorm2d(64, eps=1e-05, momentum=0.1, affine=True, track_running_stats=True)\n",
       "  (relu): ReLU(inplace=True)\n",
       "  (maxpool): MaxPool2d(kernel_size=3, stride=2, padding=1, dilation=1, ceil_mode=False)\n",
       "  (layer1): Sequential(\n",
       "    (0): BasicBlock(\n",
       "      (conv1): Conv2d(64, 64, kernel_size=(3, 3), stride=(1, 1), padding=(1, 1), bias=False)\n",
       "      (bn1): BatchNorm2d(64, eps=1e-05, momentum=0.1, affine=True, track_running_stats=True)\n",
       "      (relu): ReLU(inplace=True)\n",
       "      (conv2): Conv2d(64, 64, kernel_size=(3, 3), stride=(1, 1), padding=(1, 1), bias=False)\n",
       "      (bn2): BatchNorm2d(64, eps=1e-05, momentum=0.1, affine=True, track_running_stats=True)\n",
       "    )\n",
       "    (1): BasicBlock(\n",
       "      (conv1): Conv2d(64, 64, kernel_size=(3, 3), stride=(1, 1), padding=(1, 1), bias=False)\n",
       "      (bn1): BatchNorm2d(64, eps=1e-05, momentum=0.1, affine=True, track_running_stats=True)\n",
       "      (relu): ReLU(inplace=True)\n",
       "      (conv2): Conv2d(64, 64, kernel_size=(3, 3), stride=(1, 1), padding=(1, 1), bias=False)\n",
       "      (bn2): BatchNorm2d(64, eps=1e-05, momentum=0.1, affine=True, track_running_stats=True)\n",
       "    )\n",
       "  )\n",
       "  (layer2): Sequential(\n",
       "    (0): BasicBlock(\n",
       "      (conv1): Conv2d(64, 128, kernel_size=(3, 3), stride=(2, 2), padding=(1, 1), bias=False)\n",
       "      (bn1): BatchNorm2d(128, eps=1e-05, momentum=0.1, affine=True, track_running_stats=True)\n",
       "      (relu): ReLU(inplace=True)\n",
       "      (conv2): Conv2d(128, 128, kernel_size=(3, 3), stride=(1, 1), padding=(1, 1), bias=False)\n",
       "      (bn2): BatchNorm2d(128, eps=1e-05, momentum=0.1, affine=True, track_running_stats=True)\n",
       "      (downsample): Sequential(\n",
       "        (0): Conv2d(64, 128, kernel_size=(1, 1), stride=(2, 2), bias=False)\n",
       "        (1): BatchNorm2d(128, eps=1e-05, momentum=0.1, affine=True, track_running_stats=True)\n",
       "      )\n",
       "    )\n",
       "    (1): BasicBlock(\n",
       "      (conv1): Conv2d(128, 128, kernel_size=(3, 3), stride=(1, 1), padding=(1, 1), bias=False)\n",
       "      (bn1): BatchNorm2d(128, eps=1e-05, momentum=0.1, affine=True, track_running_stats=True)\n",
       "      (relu): ReLU(inplace=True)\n",
       "      (conv2): Conv2d(128, 128, kernel_size=(3, 3), stride=(1, 1), padding=(1, 1), bias=False)\n",
       "      (bn2): BatchNorm2d(128, eps=1e-05, momentum=0.1, affine=True, track_running_stats=True)\n",
       "    )\n",
       "  )\n",
       "  (layer3): Sequential(\n",
       "    (0): BasicBlock(\n",
       "      (conv1): Conv2d(128, 256, kernel_size=(3, 3), stride=(2, 2), padding=(1, 1), bias=False)\n",
       "      (bn1): BatchNorm2d(256, eps=1e-05, momentum=0.1, affine=True, track_running_stats=True)\n",
       "      (relu): ReLU(inplace=True)\n",
       "      (conv2): Conv2d(256, 256, kernel_size=(3, 3), stride=(1, 1), padding=(1, 1), bias=False)\n",
       "      (bn2): BatchNorm2d(256, eps=1e-05, momentum=0.1, affine=True, track_running_stats=True)\n",
       "      (downsample): Sequential(\n",
       "        (0): Conv2d(128, 256, kernel_size=(1, 1), stride=(2, 2), bias=False)\n",
       "        (1): BatchNorm2d(256, eps=1e-05, momentum=0.1, affine=True, track_running_stats=True)\n",
       "      )\n",
       "    )\n",
       "    (1): BasicBlock(\n",
       "      (conv1): Conv2d(256, 256, kernel_size=(3, 3), stride=(1, 1), padding=(1, 1), bias=False)\n",
       "      (bn1): BatchNorm2d(256, eps=1e-05, momentum=0.1, affine=True, track_running_stats=True)\n",
       "      (relu): ReLU(inplace=True)\n",
       "      (conv2): Conv2d(256, 256, kernel_size=(3, 3), stride=(1, 1), padding=(1, 1), bias=False)\n",
       "      (bn2): BatchNorm2d(256, eps=1e-05, momentum=0.1, affine=True, track_running_stats=True)\n",
       "    )\n",
       "  )\n",
       "  (layer4): Sequential(\n",
       "    (0): BasicBlock(\n",
       "      (conv1): Conv2d(256, 512, kernel_size=(3, 3), stride=(2, 2), padding=(1, 1), bias=False)\n",
       "      (bn1): BatchNorm2d(512, eps=1e-05, momentum=0.1, affine=True, track_running_stats=True)\n",
       "      (relu): ReLU(inplace=True)\n",
       "      (conv2): Conv2d(512, 512, kernel_size=(3, 3), stride=(1, 1), padding=(1, 1), bias=False)\n",
       "      (bn2): BatchNorm2d(512, eps=1e-05, momentum=0.1, affine=True, track_running_stats=True)\n",
       "      (downsample): Sequential(\n",
       "        (0): Conv2d(256, 512, kernel_size=(1, 1), stride=(2, 2), bias=False)\n",
       "        (1): BatchNorm2d(512, eps=1e-05, momentum=0.1, affine=True, track_running_stats=True)\n",
       "      )\n",
       "    )\n",
       "    (1): BasicBlock(\n",
       "      (conv1): Conv2d(512, 512, kernel_size=(3, 3), stride=(1, 1), padding=(1, 1), bias=False)\n",
       "      (bn1): BatchNorm2d(512, eps=1e-05, momentum=0.1, affine=True, track_running_stats=True)\n",
       "      (relu): ReLU(inplace=True)\n",
       "      (conv2): Conv2d(512, 512, kernel_size=(3, 3), stride=(1, 1), padding=(1, 1), bias=False)\n",
       "      (bn2): BatchNorm2d(512, eps=1e-05, momentum=0.1, affine=True, track_running_stats=True)\n",
       "    )\n",
       "  )\n",
       "  (avgpool): AdaptiveAvgPool2d(output_size=(1, 1))\n",
       "  (fc): Linear(in_features=512, out_features=37, bias=True)\n",
       ")"
      ]
     },
     "execution_count": 10,
     "metadata": {},
     "output_type": "execute_result"
    }
   ],
   "source": [
    "model"
   ]
  },
  {
   "cell_type": "code",
   "execution_count": 11,
   "id": "2a178a1b",
   "metadata": {},
   "outputs": [],
   "source": [
    "def run_hpo_trial(config: dict, hpo_epochs: int):\n",
    "    \"\"\"\n",
    "    Trains a model configuration for a fixed number of epochs\n",
    "    and returns the final validation accuracy.\n",
    "    \"\"\"\n",
    "    print(f\"--- Testing Config: {config} ---\")\n",
    "    start_time_trial = time.time()\n",
    "\n",
    "    # 1. Load Model and Weights Object\n",
    "    model, weights_obj = utils.get_model(MODEL_NAME)\n",
    "\n",
    "    # 2. Load Datasets and DataLoaders\n",
    "    # Use specified augmentation setting for training set\n",
    "    train_dataset, val_dataset = utils.get_datasets(\n",
    "        task = 'trainval',\n",
    "        augment_train=AUGMENT_TRAIN,\n",
    "        weights_obj=weights_obj\n",
    "        )\n",
    "    \n",
    "    train_loader = utils.get_dataloaders(task='train', dataset=train_dataset, batch_size=BATCH_SIZE)\n",
    "    val_loader = utils.get_dataloaders(task='val', dataset=val_dataset, batch_size=BATCH_SIZE)\n",
    "\n",
    "    # 3. Adapt Head and Apply Unfreeze Strategy\n",
    "    model = utils.adapt_model_head(model, MODEL_NAME)\n",
    "    model = utils.apply_unfreeze_logic(model, layers_to_unfreeze)\n",
    "    model.to(device) # Move model to device *after* modifications\n",
    "\n",
    "    # 4. Setup Optimizer using current config\n",
    "    optimizer = utils.get_optimizer(\n",
    "        model=model,\n",
    "        lr_head=config['lr_head'],\n",
    "        lr_backbone=config['lr_backbone'],\n",
    "        weight_decay=config['weight_decay']\n",
    "    )\n",
    "\n",
    "    # 5. Define Loss Function\n",
    "    criterion = nn.CrossEntropyLoss()\n",
    "\n",
    "    # 6. Simple Training Loop for HPO Epochs\n",
    "    for epoch in range(hpo_epochs):\n",
    "        model.train()\n",
    "        running_loss = 0.0\n",
    "        # Simple progress bar for training\n",
    "        train_pbar = tqdm(train_loader, desc=f\"Epoch {epoch+1}/{hpo_epochs} Train\", leave=False)\n",
    "        for inputs, labels in train_pbar:\n",
    "            inputs, labels = inputs.to(device), labels.to(device)\n",
    "\n",
    "            optimizer.zero_grad()\n",
    "            outputs = model(inputs)\n",
    "            loss = criterion(outputs, labels)\n",
    "            loss.backward()\n",
    "            optimizer.step()\n",
    "            running_loss += loss.item()\n",
    "            train_pbar.set_postfix(loss=loss.item())\n",
    "\n",
    "        # 7. Validation Step (after each epoch, but only record the last one for HPO)\n",
    "        model.eval()\n",
    "        val_loss = 0.0\n",
    "        correct = 0\n",
    "        total = 0\n",
    "        # Simple progress bar for validation\n",
    "        val_pbar = tqdm(val_loader, desc=f\"Epoch {epoch+1}/{hpo_epochs} Val\", leave=False)\n",
    "        with torch.no_grad():\n",
    "            for inputs, labels in val_pbar:\n",
    "                inputs, labels = inputs.to(device), labels.to(device)\n",
    "                outputs = model(inputs)\n",
    "                loss = criterion(outputs, labels)\n",
    "                val_loss += loss.item()\n",
    "                _, predicted = torch.max(outputs.data, 1)\n",
    "                total += labels.size(0)\n",
    "                correct += (predicted == labels).sum().item()\n",
    "\n",
    "        # Calculate validation accuracy for this epoch\n",
    "        epoch_val_acc = 100 * correct / total\n",
    "        epoch_val_loss = val_loss / len(val_loader)\n",
    "        print(f\"Epoch {epoch+1}/{hpo_epochs} - Val Loss: {epoch_val_loss:.4f}, Val Acc: {epoch_val_acc:.2f}%\")\n",
    "\n",
    "        # Store the results of the *last* epoch for this trial\n",
    "        if epoch == hpo_epochs - 1:\n",
    "             final_val_acc = epoch_val_acc\n",
    "             final_val_loss = epoch_val_loss\n",
    "\n",
    "\n",
    "    end_time_trial = time.time()\n",
    "    print(f\"--- Finished Config. Time: {end_time_trial - start_time_trial:.2f}s. Final Val Acc: {final_val_acc:.2f}% ---\")\n",
    "\n",
    "    # Return results for this configuration trial\n",
    "    return {\n",
    "        'config': config,\n",
    "        'final_val_accuracy': final_val_acc,\n",
    "        'final_val_loss': final_val_loss,\n",
    "        'time_taken_secs': end_time_trial - start_time_trial\n",
    "    }"
   ]
  },
  {
   "cell_type": "code",
   "execution_count": 13,
   "id": "2ee5dcb3",
   "metadata": {},
   "outputs": [
    {
     "name": "stdout",
     "output_type": "stream",
     "text": [
      "Starting HPO loop for 8 configurations...\n",
      "\n",
      ">>> Running HPO Trial 1/8\n",
      "--- Testing Config: {'lr_backbone': 0.0001, 'lr_head': 0.005, 'weight_decay': 0.01} ---\n",
      "Dataset split: Train samples = 2944, Val samples = 736\n"
     ]
    },
    {
     "data": {
      "application/vnd.jupyter.widget-view+json": {
       "model_id": "d77d1a0cbd764debb131f4b22eb4d052",
       "version_major": 2,
       "version_minor": 0
      },
      "text/plain": [
       "Epoch 1/1 Train:   0%|          | 0/46 [00:00<?, ?it/s]"
      ]
     },
     "metadata": {},
     "output_type": "display_data"
    },
    {
     "data": {
      "application/vnd.jupyter.widget-view+json": {
       "model_id": "db3f974d98994be4a221f15262101a5c",
       "version_major": 2,
       "version_minor": 0
      },
      "text/plain": [
       "Epoch 1/1 Val:   0%|          | 0/6 [00:00<?, ?it/s]"
      ]
     },
     "metadata": {},
     "output_type": "display_data"
    },
    {
     "name": "stdout",
     "output_type": "stream",
     "text": [
      "Epoch 1/1 - Val Loss: 0.5029, Val Acc: 85.60%\n",
      "--- Finished Config. Time: 44.87s. Final Val Acc: 85.60% ---\n",
      "\n",
      ">>> Running HPO Trial 2/8\n",
      "--- Testing Config: {'lr_backbone': 0.0001, 'lr_head': 0.005, 'weight_decay': 0} ---\n",
      "Dataset split: Train samples = 2944, Val samples = 736\n"
     ]
    },
    {
     "data": {
      "application/vnd.jupyter.widget-view+json": {
       "model_id": "4868fa8eca5340049ee75928952008d8",
       "version_major": 2,
       "version_minor": 0
      },
      "text/plain": [
       "Epoch 1/1 Train:   0%|          | 0/46 [00:00<?, ?it/s]"
      ]
     },
     "metadata": {},
     "output_type": "display_data"
    },
    {
     "data": {
      "application/vnd.jupyter.widget-view+json": {
       "model_id": "645ab0ddc64f4f4890ada24c6f2b448b",
       "version_major": 2,
       "version_minor": 0
      },
      "text/plain": [
       "Epoch 1/1 Val:   0%|          | 0/6 [00:00<?, ?it/s]"
      ]
     },
     "metadata": {},
     "output_type": "display_data"
    },
    {
     "name": "stdout",
     "output_type": "stream",
     "text": [
      "Epoch 1/1 - Val Loss: 0.5666, Val Acc: 80.98%\n",
      "--- Finished Config. Time: 41.27s. Final Val Acc: 80.98% ---\n",
      "\n",
      ">>> Running HPO Trial 3/8\n",
      "--- Testing Config: {'lr_backbone': 0.0001, 'lr_head': 0.001, 'weight_decay': 0.01} ---\n",
      "Dataset split: Train samples = 2944, Val samples = 736\n"
     ]
    },
    {
     "data": {
      "application/vnd.jupyter.widget-view+json": {
       "model_id": "7e0610f50c7c4b87b122b29d25cb43ab",
       "version_major": 2,
       "version_minor": 0
      },
      "text/plain": [
       "Epoch 1/1 Train:   0%|          | 0/46 [00:00<?, ?it/s]"
      ]
     },
     "metadata": {},
     "output_type": "display_data"
    },
    {
     "data": {
      "application/vnd.jupyter.widget-view+json": {
       "model_id": "12ce49d1bec444a89a32e9c374db2b48",
       "version_major": 2,
       "version_minor": 0
      },
      "text/plain": [
       "Epoch 1/1 Val:   0%|          | 0/6 [00:00<?, ?it/s]"
      ]
     },
     "metadata": {},
     "output_type": "display_data"
    },
    {
     "name": "stdout",
     "output_type": "stream",
     "text": [
      "Epoch 1/1 - Val Loss: 0.7269, Val Acc: 80.71%\n",
      "--- Finished Config. Time: 39.08s. Final Val Acc: 80.71% ---\n",
      "\n",
      ">>> Running HPO Trial 4/8\n",
      "--- Testing Config: {'lr_backbone': 0.0001, 'lr_head': 0.001, 'weight_decay': 0} ---\n",
      "Dataset split: Train samples = 2944, Val samples = 736\n"
     ]
    },
    {
     "data": {
      "application/vnd.jupyter.widget-view+json": {
       "model_id": "eb47de01dcd84d488ddd61c9997e9b2c",
       "version_major": 2,
       "version_minor": 0
      },
      "text/plain": [
       "Epoch 1/1 Train:   0%|          | 0/46 [00:00<?, ?it/s]"
      ]
     },
     "metadata": {},
     "output_type": "display_data"
    },
    {
     "data": {
      "application/vnd.jupyter.widget-view+json": {
       "model_id": "ece8466ea41d42e199d0484ec8ce026b",
       "version_major": 2,
       "version_minor": 0
      },
      "text/plain": [
       "Epoch 1/1 Val:   0%|          | 0/6 [00:00<?, ?it/s]"
      ]
     },
     "metadata": {},
     "output_type": "display_data"
    },
    {
     "name": "stdout",
     "output_type": "stream",
     "text": [
      "Epoch 1/1 - Val Loss: 0.6979, Val Acc: 82.07%\n",
      "--- Finished Config. Time: 44.79s. Final Val Acc: 82.07% ---\n",
      "\n",
      ">>> Running HPO Trial 5/8\n",
      "--- Testing Config: {'lr_backbone': 5e-05, 'lr_head': 0.005, 'weight_decay': 0.01} ---\n",
      "Dataset split: Train samples = 2944, Val samples = 736\n"
     ]
    },
    {
     "data": {
      "application/vnd.jupyter.widget-view+json": {
       "model_id": "c37c317e2eb84cafb78099cef8a42ef6",
       "version_major": 2,
       "version_minor": 0
      },
      "text/plain": [
       "Epoch 1/1 Train:   0%|          | 0/46 [00:00<?, ?it/s]"
      ]
     },
     "metadata": {},
     "output_type": "display_data"
    },
    {
     "data": {
      "application/vnd.jupyter.widget-view+json": {
       "model_id": "06f49e2c41fb4ae1abd9a7717ff92f0f",
       "version_major": 2,
       "version_minor": 0
      },
      "text/plain": [
       "Epoch 1/1 Val:   0%|          | 0/6 [00:00<?, ?it/s]"
      ]
     },
     "metadata": {},
     "output_type": "display_data"
    },
    {
     "name": "stdout",
     "output_type": "stream",
     "text": [
      "Epoch 1/1 - Val Loss: 0.5151, Val Acc: 82.34%\n",
      "--- Finished Config. Time: 45.20s. Final Val Acc: 82.34% ---\n",
      "\n",
      ">>> Running HPO Trial 6/8\n",
      "--- Testing Config: {'lr_backbone': 5e-05, 'lr_head': 0.005, 'weight_decay': 0} ---\n",
      "Dataset split: Train samples = 2944, Val samples = 736\n"
     ]
    },
    {
     "data": {
      "application/vnd.jupyter.widget-view+json": {
       "model_id": "ce1bdf8ba15e48aba9037e1981caa985",
       "version_major": 2,
       "version_minor": 0
      },
      "text/plain": [
       "Epoch 1/1 Train:   0%|          | 0/46 [00:00<?, ?it/s]"
      ]
     },
     "metadata": {},
     "output_type": "display_data"
    },
    {
     "data": {
      "application/vnd.jupyter.widget-view+json": {
       "model_id": "075baed3d6e14bbd973561dd7bb7c70f",
       "version_major": 2,
       "version_minor": 0
      },
      "text/plain": [
       "Epoch 1/1 Val:   0%|          | 0/6 [00:00<?, ?it/s]"
      ]
     },
     "metadata": {},
     "output_type": "display_data"
    },
    {
     "name": "stdout",
     "output_type": "stream",
     "text": [
      "Epoch 1/1 - Val Loss: 0.5282, Val Acc: 82.88%\n",
      "--- Finished Config. Time: 45.70s. Final Val Acc: 82.88% ---\n",
      "\n",
      ">>> Running HPO Trial 7/8\n",
      "--- Testing Config: {'lr_backbone': 5e-05, 'lr_head': 0.001, 'weight_decay': 0.01} ---\n",
      "Dataset split: Train samples = 2944, Val samples = 736\n"
     ]
    },
    {
     "data": {
      "application/vnd.jupyter.widget-view+json": {
       "model_id": "2706f7ed89fd4a659a3928eaed2677a3",
       "version_major": 2,
       "version_minor": 0
      },
      "text/plain": [
       "Epoch 1/1 Train:   0%|          | 0/46 [00:00<?, ?it/s]"
      ]
     },
     "metadata": {},
     "output_type": "display_data"
    },
    {
     "data": {
      "application/vnd.jupyter.widget-view+json": {
       "model_id": "b979fa210e3044e48c3c3694420472e2",
       "version_major": 2,
       "version_minor": 0
      },
      "text/plain": [
       "Epoch 1/1 Val:   0%|          | 0/6 [00:00<?, ?it/s]"
      ]
     },
     "metadata": {},
     "output_type": "display_data"
    },
    {
     "name": "stdout",
     "output_type": "stream",
     "text": [
      "Epoch 1/1 - Val Loss: 0.8852, Val Acc: 78.80%\n",
      "--- Finished Config. Time: 44.94s. Final Val Acc: 78.80% ---\n",
      "\n",
      ">>> Running HPO Trial 8/8\n",
      "--- Testing Config: {'lr_backbone': 5e-05, 'lr_head': 0.001, 'weight_decay': 0} ---\n",
      "Dataset split: Train samples = 2944, Val samples = 736\n"
     ]
    },
    {
     "data": {
      "application/vnd.jupyter.widget-view+json": {
       "model_id": "42f0767e989945d3bc6fad4680812759",
       "version_major": 2,
       "version_minor": 0
      },
      "text/plain": [
       "Epoch 1/1 Train:   0%|          | 0/46 [00:00<?, ?it/s]"
      ]
     },
     "metadata": {},
     "output_type": "display_data"
    },
    {
     "data": {
      "application/vnd.jupyter.widget-view+json": {
       "model_id": "b20bb6e9688945c0bb8b9ae33a6b09b4",
       "version_major": 2,
       "version_minor": 0
      },
      "text/plain": [
       "Epoch 1/1 Val:   0%|          | 0/6 [00:00<?, ?it/s]"
      ]
     },
     "metadata": {},
     "output_type": "display_data"
    },
    {
     "name": "stdout",
     "output_type": "stream",
     "text": [
      "Epoch 1/1 - Val Loss: 0.9305, Val Acc: 78.40%\n",
      "--- Finished Config. Time: 44.56s. Final Val Acc: 78.40% ---\n",
      "\n",
      "<<< HPO Loop Finished! Total Time: 5.84 minutes >>>\n"
     ]
    }
   ],
   "source": [
    "print(f\"Starting HPO loop for {len(hpo_configs)} configurations...\")\n",
    "hpo_results = []\n",
    "total_hpo_start_time = time.time()\n",
    "\n",
    "# Iterate through all defined hyperparameter configurations\n",
    "for i, config in enumerate(hpo_configs):\n",
    "    print(f\"\\n>>> Running HPO Trial {i+1}/{len(hpo_configs)}\")\n",
    "    trial_result = run_hpo_trial(config, hpo_epochs=1)\n",
    "    hpo_results.append(trial_result)\n",
    "\n",
    "total_hpo_end_time = time.time()\n",
    "print(f\"\\n<<< HPO Loop Finished! Total Time: {(total_hpo_end_time - total_hpo_start_time)/60:.2f} minutes >>>\")"
   ]
  },
  {
   "cell_type": "code",
   "execution_count": 14,
   "id": "5771ad58",
   "metadata": {},
   "outputs": [
    {
     "name": "stdout",
     "output_type": "stream",
     "text": [
      "\n",
      "--- HPO Results ---\n",
      "Best Validation Accuracy: 85.60%\n",
      "Best Hyperparameters Found: {'lr_backbone': 0.0001, 'lr_head': 0.005, 'weight_decay': 0.01}\n",
      "Full HPO history saved to: hpo_history_resnet_mid_aug.json\n",
      "Best hyperparameters saved to: best_params_resnet_mid_aug.json\n"
     ]
    }
   ],
   "source": [
    "# Find the best configuration based on final validation accuracy\n",
    "best_trial = None\n",
    "best_val_accuracy = -1.0\n",
    "\n",
    "for trial in hpo_results:\n",
    "    if trial['final_val_accuracy'] > best_val_accuracy:\n",
    "        best_val_accuracy = trial['final_val_accuracy']\n",
    "        best_trial = trial\n",
    "\n",
    "# Extract the best hyperparameter configuration\n",
    "best_hyperparameters = best_trial['config'] if best_trial else None\n",
    "\n",
    "print(\"\\n--- HPO Results ---\")\n",
    "if best_hyperparameters:\n",
    "    print(f\"Best Validation Accuracy: {best_val_accuracy:.2f}%\")\n",
    "    print(f\"Best Hyperparameters Found: {best_hyperparameters}\")\n",
    "else:\n",
    "    print(\"No successful trials completed.\")\n",
    "\n",
    "# Define filenames for saving results\n",
    "hpo_history_filename = f\"hpo_history_{SETUP_ID}.json\"\n",
    "best_params_filename = f\"best_params_{SETUP_ID}.json\"\n",
    "\n",
    "# Save the full HPO history (list of dictionaries)\n",
    "utils.save_json(hpo_results, hpo_history_filename)\n",
    "print(f\"Full HPO history saved to: {hpo_history_filename}\")\n",
    "\n",
    "# Save only the best hyperparameter configuration\n",
    "if best_hyperparameters:\n",
    "    utils.save_json(best_hyperparameters, best_params_filename)\n",
    "    print(f\"Best hyperparameters saved to: {best_params_filename}\")"
   ]
  },
  {
   "cell_type": "code",
   "execution_count": 15,
   "id": "95a8f86e",
   "metadata": {},
   "outputs": [
    {
     "data": {
      "image/png": "[encoded data removed]",
      "text/plain": [
       "<Figure size 1000x600 with 1 Axes>"
      ]
     },
     "metadata": {},
     "output_type": "display_data"
    },
    {
     "name": "stderr",
     "output_type": "stream",
     "text": [
      "/var/folders/br/143tjw8148nftd61z3w9qzv40000gp/T/ipykernel_83855/1625762140.py:25: FutureWarning: \n",
      "\n",
      "The `ci` parameter is deprecated. Use `errorbar=None` for the same effect.\n",
      "\n",
      "  sns.lineplot(data=hpo_df, x='weight_decay', y='val_accuracy', hue='lr_head', marker='o', ci=None) # Use lineplot if WD is treated categorically or has few values\n"
     ]
    },
    {
     "data": {
      "image/png": "[encoded data removed]",
      "text/plain": [
       "<Figure size 1000x600 with 1 Axes>"
      ]
     },
     "metadata": {},
     "output_type": "display_data"
    }
   ],
   "source": [
    "import pandas as pd\n",
    "import matplotlib.pyplot as plt\n",
    "import seaborn as sns\n",
    "\n",
    "# Convert results to a Pandas DataFrame for easier plotting\n",
    "hpo_df = pd.DataFrame([{**d['config'],\n",
    "                        'val_accuracy': d['final_val_accuracy'],\n",
    "                        'val_loss': d['final_val_loss']}\n",
    "                       for d in hpo_results])\n",
    "\n",
    "# Example Plot: Validation Accuracy vs Head Learning Rate, colored by Backbone LR\n",
    "plt.figure(figsize=(10, 6))\n",
    "sns.scatterplot(data=hpo_df, x='lr_head', y='val_accuracy', hue='lr_backbone', size='weight_decay', style='weight_decay', s=150)\n",
    "plt.xscale('log') # Learning rates often plotted on log scale\n",
    "plt.title(f'HPO Results ({SETUP_ID}): Val Accuracy vs. Head LR')\n",
    "plt.xlabel('Head Learning Rate (Log Scale)')\n",
    "plt.ylabel('Validation Accuracy (%)')\n",
    "plt.grid(True, which=\"both\", ls=\"--\", alpha=0.5)\n",
    "plt.legend(title='Backbone LR / WD', bbox_to_anchor=(1.05, 1), loc='upper left')\n",
    "plt.tight_layout()\n",
    "plt.show()\n",
    "\n",
    "# Example Plot: Validation Accuracy vs Weight Decay, colored by Head LR\n",
    "plt.figure(figsize=(10, 6))\n",
    "sns.lineplot(data=hpo_df, x='weight_decay', y='val_accuracy', hue='lr_head', marker='o', ci=None) # Use lineplot if WD is treated categorically or has few values\n",
    "# or use scatterplot if WD is continuous\n",
    "# sns.scatterplot(data=hpo_df, x='weight_decay', y='val_accuracy', hue='lr_head', size='lr_backbone', style='lr_backbone', s=150)\n",
    "plt.title(f'HPO Results ({SETUP_ID}): Val Accuracy vs. Weight Decay')\n",
    "plt.xlabel('Weight Decay')\n",
    "plt.ylabel('Validation Accuracy (%)')\n",
    "plt.grid(True, which=\"both\", ls=\"--\", alpha=0.5)\n",
    "plt.legend(title='Head LR', bbox_to_anchor=(1.05, 1), loc='upper left')\n",
    "plt.tight_layout()\n",
    "plt.show()"
   ]
  },
  {
   "cell_type": "markdown",
   "id": "c2185c78",
   "metadata": {},
   "source": [
    "## HPO Summary\n",
    "\n",
    "The hyperparameter optimization for setup `[SETUP_ID]` is complete.\n",
    "\n",
    "*   The best validation accuracy achieved during HPO was **[Insert Best Accuracy]%**.\n",
    "*   The best hyperparameters found are: **[Insert Best Hyperparameters Dict]**.\n",
    "*   These best parameters have been saved to `best_params_[SETUP_ID].json`.\n",
    "*   The full history of all HPO trials is saved in `hpo_history_[SETUP_ID].json`.\n",
    "\n",
    "Proceed to `02_Final_Training.ipynb` using the saved best parameters."
   ]
  }
 ],
 "metadata": {
  "kernelspec": {
   "display_name": "math392",
   "language": "python",
   "name": "python3"
  },
  "language_info": {
   "codemirror_mode": {
    "name": "ipython",
    "version": 3
   },
   "file_extension": ".py",
   "mimetype": "text/x-python",
   "name": "python",
   "nbconvert_exporter": "python",
   "pygments_lexer": "ipython3",
   "version": "3.11.11"
  }
 },
 "nbformat": 4,
 "nbformat_minor": 5
}
