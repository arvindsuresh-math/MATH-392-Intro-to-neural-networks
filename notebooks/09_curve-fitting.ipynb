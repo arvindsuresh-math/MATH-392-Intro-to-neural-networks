{
 "cells": [
  {
   "cell_type": "markdown",
   "metadata": {},
   "source": [
    "# Curve fitting\n",
    "In this notebook:\n",
    "- We discuss Lagrange's interpolation theorem on finding polynomials that interpolate a set of points in the plane.\n",
    "- We discuss polynomial regression, which is a method of fitting a polynomial to a set of points in the plane.\n",
    "- We discuss the bias-variance tradeoff in regression problems, and discuss the concept of over-fitting and under-fitting. "
   ]
  }
 ],
 "metadata": {
  "language_info": {
   "name": "python"
  }
 },
 "nbformat": 4,
 "nbformat_minor": 2
}
