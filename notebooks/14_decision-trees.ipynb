{
 "cells": [
  {
   "cell_type": "markdown",
   "metadata": {},
   "source": [
    "# Decision trees\n",
    "\n",
    "### Topics\n",
    "- Gini impurity vs Entropy\n",
    "- Splitting datasets to reduce entropy/impurity\n",
    "- Decision tree algorithm\n",
    "- Mitigating overfitting (random forests)"
   ]
  }
 ],
 "metadata": {
  "language_info": {
   "name": "python"
  }
 },
 "nbformat": 4,
 "nbformat_minor": 2
}
