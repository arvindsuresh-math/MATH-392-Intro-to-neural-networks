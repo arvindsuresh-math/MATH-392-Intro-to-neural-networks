{
 "cells": [
  {
   "cell_type": "code",
   "execution_count": 1,
   "id": "0bb3bf11",
   "metadata": {},
   "outputs": [],
   "source": [
    "import pandas as pd\n",
    "import numpy as np\n",
    "import matplotlib.pyplot as plt\n",
    "import seaborn as sns"
   ]
  },
  {
   "cell_type": "code",
   "execution_count": 2,
   "id": "fb8920c0",
   "metadata": {},
   "outputs": [],
   "source": [
    "df = pd.read_csv('../data/classification/presidential_election_popular_vote/all_years.csv')"
   ]
  },
  {
   "cell_type": "code",
   "execution_count": 4,
   "id": "43fd14f3",
   "metadata": {},
   "outputs": [
    {
     "data": {
      "text/plain": [
       "Index(['fips', 'totalvotes', 'dem', 'repub', 'other', 'pop_tot', 'pop_male',\n",
       "       'pop_female', 'hispanic', 'labor_total', 'labor_armed',\n",
       "       'labor_employed', 'labor_unemployed', 'income_median',\n",
       "       'income_percapita', 'income_poverty', 'native_yes', 'native_no',\n",
       "       'houses_tot', 'income_10', 'income_10-15', 'income_15-25', 'income_25',\n",
       "       'marital_single', 'marital_married', 'marital_sepdiv', 'marital_widow',\n",
       "       'edu_low', 'edu_mid', 'edu_high', 'edu_low_age_18', 'edu_low_age_45',\n",
       "       'edu_low_age_65', 'edu_mid_age_18', 'edu_mid_age_45', 'edu_mid_age_65',\n",
       "       'edu_high_age_18', 'edu_high_age_45', 'edu_high_age_65',\n",
       "       'race_wht_total', 'race_wht_male', 'race_wht_female', 'race_blk_total',\n",
       "       'race_blk_male', 'race_blk_female', 'race_other_total',\n",
       "       'race_other_male', 'race_other_female', 'CENSUSAREA', 'pop_density',\n",
       "       'year'],\n",
       "      dtype='object')"
      ]
     },
     "execution_count": 4,
     "metadata": {},
     "output_type": "execute_result"
    }
   ],
   "source": [
    "df.drop(columns = ['mode'], inplace=True)\n",
    "df.columns"
   ]
  },
  {
   "cell_type": "code",
   "execution_count": 5,
   "id": "a194a41a",
   "metadata": {},
   "outputs": [
    {
     "data": {
      "text/html": [
       "<div>\n",
       "<style scoped>\n",
       "    .dataframe tbody tr th:only-of-type {\n",
       "        vertical-align: middle;\n",
       "    }\n",
       "\n",
       "    .dataframe tbody tr th {\n",
       "        vertical-align: top;\n",
       "    }\n",
       "\n",
       "    .dataframe thead th {\n",
       "        text-align: right;\n",
       "    }\n",
       "</style>\n",
       "<table border=\"1\" class=\"dataframe\">\n",
       "  <thead>\n",
       "    <tr style=\"text-align: right;\">\n",
       "      <th></th>\n",
       "      <th>fips</th>\n",
       "      <th>totalvotes</th>\n",
       "      <th>dem</th>\n",
       "      <th>repub</th>\n",
       "      <th>other</th>\n",
       "      <th>pop_tot</th>\n",
       "      <th>pop_male</th>\n",
       "      <th>pop_female</th>\n",
       "      <th>hispanic</th>\n",
       "      <th>labor_total</th>\n",
       "      <th>...</th>\n",
       "      <th>race_wht_female</th>\n",
       "      <th>race_blk_total</th>\n",
       "      <th>race_blk_male</th>\n",
       "      <th>race_blk_female</th>\n",
       "      <th>race_other_total</th>\n",
       "      <th>race_other_male</th>\n",
       "      <th>race_other_female</th>\n",
       "      <th>CENSUSAREA</th>\n",
       "      <th>pop_density</th>\n",
       "      <th>year</th>\n",
       "    </tr>\n",
       "  </thead>\n",
       "  <tbody>\n",
       "    <tr>\n",
       "      <th>9525</th>\n",
       "      <td>6095</td>\n",
       "      <td>205877</td>\n",
       "      <td>131639</td>\n",
       "      <td>69306</td>\n",
       "      <td>4932</td>\n",
       "      <td>450995</td>\n",
       "      <td>225302</td>\n",
       "      <td>225693</td>\n",
       "      <td>126198</td>\n",
       "      <td>229557.0</td>\n",
       "      <td>...</td>\n",
       "      <td>103500</td>\n",
       "      <td>59699</td>\n",
       "      <td>29677</td>\n",
       "      <td>30022</td>\n",
       "      <td>183721</td>\n",
       "      <td>91550</td>\n",
       "      <td>92171</td>\n",
       "      <td>906.234</td>\n",
       "      <td>497.658441</td>\n",
       "      <td>2020</td>\n",
       "    </tr>\n",
       "    <tr>\n",
       "      <th>11557</th>\n",
       "      <td>42061</td>\n",
       "      <td>22792</td>\n",
       "      <td>5445</td>\n",
       "      <td>17061</td>\n",
       "      <td>286</td>\n",
       "      <td>44123</td>\n",
       "      <td>23607</td>\n",
       "      <td>20516</td>\n",
       "      <td>931</td>\n",
       "      <td>19332.0</td>\n",
       "      <td>...</td>\n",
       "      <td>19668</td>\n",
       "      <td>2062</td>\n",
       "      <td>1920</td>\n",
       "      <td>142</td>\n",
       "      <td>2112</td>\n",
       "      <td>1406</td>\n",
       "      <td>706</td>\n",
       "      <td>889.262</td>\n",
       "      <td>49.617548</td>\n",
       "      <td>2020</td>\n",
       "    </tr>\n",
       "    <tr>\n",
       "      <th>4823</th>\n",
       "      <td>32011</td>\n",
       "      <td>808</td>\n",
       "      <td>107</td>\n",
       "      <td>663</td>\n",
       "      <td>38</td>\n",
       "      <td>1761</td>\n",
       "      <td>911</td>\n",
       "      <td>850</td>\n",
       "      <td>52</td>\n",
       "      <td>915.0</td>\n",
       "      <td>...</td>\n",
       "      <td>829</td>\n",
       "      <td>10</td>\n",
       "      <td>10</td>\n",
       "      <td>0</td>\n",
       "      <td>73</td>\n",
       "      <td>52</td>\n",
       "      <td>21</td>\n",
       "      <td>4179.941</td>\n",
       "      <td>0.421298</td>\n",
       "      <td>2012</td>\n",
       "    </tr>\n",
       "    <tr>\n",
       "      <th>504</th>\n",
       "      <td>13307</td>\n",
       "      <td>1111</td>\n",
       "      <td>515</td>\n",
       "      <td>588</td>\n",
       "      <td>8</td>\n",
       "      <td>2727</td>\n",
       "      <td>1270</td>\n",
       "      <td>1457</td>\n",
       "      <td>138</td>\n",
       "      <td>1226.0</td>\n",
       "      <td>...</td>\n",
       "      <td>877</td>\n",
       "      <td>935</td>\n",
       "      <td>537</td>\n",
       "      <td>398</td>\n",
       "      <td>260</td>\n",
       "      <td>78</td>\n",
       "      <td>182</td>\n",
       "      <td>209.118</td>\n",
       "      <td>13.040484</td>\n",
       "      <td>2008</td>\n",
       "    </tr>\n",
       "    <tr>\n",
       "      <th>1020</th>\n",
       "      <td>21125</td>\n",
       "      <td>22500</td>\n",
       "      <td>4618</td>\n",
       "      <td>17660</td>\n",
       "      <td>222</td>\n",
       "      <td>58155</td>\n",
       "      <td>28574</td>\n",
       "      <td>29581</td>\n",
       "      <td>714</td>\n",
       "      <td>25950.0</td>\n",
       "      <td>...</td>\n",
       "      <td>28842</td>\n",
       "      <td>490</td>\n",
       "      <td>256</td>\n",
       "      <td>234</td>\n",
       "      <td>1100</td>\n",
       "      <td>595</td>\n",
       "      <td>505</td>\n",
       "      <td>433.953</td>\n",
       "      <td>134.012209</td>\n",
       "      <td>2008</td>\n",
       "    </tr>\n",
       "    <tr>\n",
       "      <th>3381</th>\n",
       "      <td>8113</td>\n",
       "      <td>4256</td>\n",
       "      <td>2992</td>\n",
       "      <td>1154</td>\n",
       "      <td>110</td>\n",
       "      <td>7597</td>\n",
       "      <td>3999</td>\n",
       "      <td>3598</td>\n",
       "      <td>706</td>\n",
       "      <td>4846.0</td>\n",
       "      <td>...</td>\n",
       "      <td>3463</td>\n",
       "      <td>17</td>\n",
       "      <td>8</td>\n",
       "      <td>9</td>\n",
       "      <td>246</td>\n",
       "      <td>120</td>\n",
       "      <td>126</td>\n",
       "      <td>1288.581</td>\n",
       "      <td>5.895632</td>\n",
       "      <td>2012</td>\n",
       "    </tr>\n",
       "    <tr>\n",
       "      <th>10910</th>\n",
       "      <td>30059</td>\n",
       "      <td>1110</td>\n",
       "      <td>258</td>\n",
       "      <td>833</td>\n",
       "      <td>19</td>\n",
       "      <td>1948</td>\n",
       "      <td>1057</td>\n",
       "      <td>891</td>\n",
       "      <td>50</td>\n",
       "      <td>1037.0</td>\n",
       "      <td>...</td>\n",
       "      <td>854</td>\n",
       "      <td>1</td>\n",
       "      <td>1</td>\n",
       "      <td>0</td>\n",
       "      <td>148</td>\n",
       "      <td>111</td>\n",
       "      <td>37</td>\n",
       "      <td>2394.744</td>\n",
       "      <td>0.813448</td>\n",
       "      <td>2020</td>\n",
       "    </tr>\n",
       "    <tr>\n",
       "      <th>794</th>\n",
       "      <td>19081</td>\n",
       "      <td>5930</td>\n",
       "      <td>2805</td>\n",
       "      <td>3016</td>\n",
       "      <td>109</td>\n",
       "      <td>11505</td>\n",
       "      <td>5753</td>\n",
       "      <td>5752</td>\n",
       "      <td>367</td>\n",
       "      <td>6170.0</td>\n",
       "      <td>...</td>\n",
       "      <td>5515</td>\n",
       "      <td>14</td>\n",
       "      <td>9</td>\n",
       "      <td>5</td>\n",
       "      <td>470</td>\n",
       "      <td>238</td>\n",
       "      <td>232</td>\n",
       "      <td>571.005</td>\n",
       "      <td>20.148685</td>\n",
       "      <td>2008</td>\n",
       "    </tr>\n",
       "    <tr>\n",
       "      <th>5005</th>\n",
       "      <td>37089</td>\n",
       "      <td>52392</td>\n",
       "      <td>18642</td>\n",
       "      <td>32994</td>\n",
       "      <td>756</td>\n",
       "      <td>108642</td>\n",
       "      <td>52551</td>\n",
       "      <td>56091</td>\n",
       "      <td>10701</td>\n",
       "      <td>49306.0</td>\n",
       "      <td>...</td>\n",
       "      <td>50979</td>\n",
       "      <td>3476</td>\n",
       "      <td>1752</td>\n",
       "      <td>1724</td>\n",
       "      <td>5924</td>\n",
       "      <td>2536</td>\n",
       "      <td>3388</td>\n",
       "      <td>375.229</td>\n",
       "      <td>289.535191</td>\n",
       "      <td>2012</td>\n",
       "    </tr>\n",
       "    <tr>\n",
       "      <th>9197</th>\n",
       "      <td>54059</td>\n",
       "      <td>9510</td>\n",
       "      <td>1370</td>\n",
       "      <td>7911</td>\n",
       "      <td>229</td>\n",
       "      <td>24741</td>\n",
       "      <td>12024</td>\n",
       "      <td>12717</td>\n",
       "      <td>0</td>\n",
       "      <td>8261.0</td>\n",
       "      <td>...</td>\n",
       "      <td>12074</td>\n",
       "      <td>655</td>\n",
       "      <td>264</td>\n",
       "      <td>391</td>\n",
       "      <td>372</td>\n",
       "      <td>120</td>\n",
       "      <td>252</td>\n",
       "      <td>423.979</td>\n",
       "      <td>58.354305</td>\n",
       "      <td>2016</td>\n",
       "    </tr>\n",
       "  </tbody>\n",
       "</table>\n",
       "<p>10 rows × 51 columns</p>\n",
       "</div>"
      ],
      "text/plain": [
       "        fips  totalvotes     dem  repub  other  pop_tot  pop_male  pop_female  \\\n",
       "9525    6095      205877  131639  69306   4932   450995    225302      225693   \n",
       "11557  42061       22792    5445  17061    286    44123     23607       20516   \n",
       "4823   32011         808     107    663     38     1761       911         850   \n",
       "504    13307        1111     515    588      8     2727      1270        1457   \n",
       "1020   21125       22500    4618  17660    222    58155     28574       29581   \n",
       "3381    8113        4256    2992   1154    110     7597      3999        3598   \n",
       "10910  30059        1110     258    833     19     1948      1057         891   \n",
       "794    19081        5930    2805   3016    109    11505      5753        5752   \n",
       "5005   37089       52392   18642  32994    756   108642     52551       56091   \n",
       "9197   54059        9510    1370   7911    229    24741     12024       12717   \n",
       "\n",
       "       hispanic  labor_total  ...  race_wht_female  race_blk_total  \\\n",
       "9525     126198     229557.0  ...           103500           59699   \n",
       "11557       931      19332.0  ...            19668            2062   \n",
       "4823         52        915.0  ...              829              10   \n",
       "504         138       1226.0  ...              877             935   \n",
       "1020        714      25950.0  ...            28842             490   \n",
       "3381        706       4846.0  ...             3463              17   \n",
       "10910        50       1037.0  ...              854               1   \n",
       "794         367       6170.0  ...             5515              14   \n",
       "5005      10701      49306.0  ...            50979            3476   \n",
       "9197          0       8261.0  ...            12074             655   \n",
       "\n",
       "       race_blk_male  race_blk_female  race_other_total  race_other_male  \\\n",
       "9525           29677            30022            183721            91550   \n",
       "11557           1920              142              2112             1406   \n",
       "4823              10                0                73               52   \n",
       "504              537              398               260               78   \n",
       "1020             256              234              1100              595   \n",
       "3381               8                9               246              120   \n",
       "10910              1                0               148              111   \n",
       "794                9                5               470              238   \n",
       "5005            1752             1724              5924             2536   \n",
       "9197             264              391               372              120   \n",
       "\n",
       "       race_other_female  CENSUSAREA  pop_density  year  \n",
       "9525               92171     906.234   497.658441  2020  \n",
       "11557                706     889.262    49.617548  2020  \n",
       "4823                  21    4179.941     0.421298  2012  \n",
       "504                  182     209.118    13.040484  2008  \n",
       "1020                 505     433.953   134.012209  2008  \n",
       "3381                 126    1288.581     5.895632  2012  \n",
       "10910                 37    2394.744     0.813448  2020  \n",
       "794                  232     571.005    20.148685  2008  \n",
       "5005                3388     375.229   289.535191  2012  \n",
       "9197                 252     423.979    58.354305  2016  \n",
       "\n",
       "[10 rows x 51 columns]"
      ]
     },
     "execution_count": 5,
     "metadata": {},
     "output_type": "execute_result"
    }
   ],
   "source": [
    "df.sample(10)"
   ]
  },
  {
   "cell_type": "code",
   "execution_count": 8,
   "id": "fdd97f72",
   "metadata": {},
   "outputs": [
    {
     "data": {
      "text/plain": [
       "year\n",
       "2008    3106\n",
       "2012    3106\n",
       "2016    3106\n",
       "2020    3106\n",
       "Name: count, dtype: int64"
      ]
     },
     "execution_count": 8,
     "metadata": {},
     "output_type": "execute_result"
    }
   ],
   "source": [
    "df['year'].value_counts()"
   ]
  },
  {
   "cell_type": "markdown",
   "id": "93817ef3",
   "metadata": {},
   "source": [
    "#### Possibilities for splitting into train and test sets\n",
    "1. Splits evenly across all 4 years (80\\% train, 20\\% test)\n",
    "2. For each year, split into train and test sets (80\\% train, 20\\% test) while preserving the class distribution\n",
    "3. Use 3 years as train sets, use the fourth as test set. "
   ]
  },
  {
   "cell_type": "code",
   "execution_count": 15,
   "id": "b508343e",
   "metadata": {},
   "outputs": [],
   "source": [
    "df['winner'] = 0\n",
    "indx = np.where(df['dem'] > df['repub'])[0].tolist()\n",
    "df.loc[indx, 'winner'] = 1"
   ]
  },
  {
   "cell_type": "code",
   "execution_count": 16,
   "id": "b9fef2bb",
   "metadata": {},
   "outputs": [
    {
     "data": {
      "text/plain": [
       "winner\n",
       "0    9855\n",
       "1    2569\n",
       "Name: count, dtype: int64"
      ]
     },
     "execution_count": 16,
     "metadata": {},
     "output_type": "execute_result"
    }
   ],
   "source": [
    "df['winner'].value_counts()"
   ]
  },
  {
   "cell_type": "code",
   "execution_count": 18,
   "id": "308fc48a",
   "metadata": {},
   "outputs": [],
   "source": [
    "# add a column for probability of voting democrat\n",
    "df['log_odd_dem_repub'] = np.log(df['dem'] / df['repub'])\n"
   ]
  },
  {
   "cell_type": "code",
   "execution_count": 19,
   "id": "1cca6d74",
   "metadata": {},
   "outputs": [
    {
     "data": {
      "image/png": "[encoded data removed]",
      "text/plain": [
       "<Figure size 1000x600 with 1 Axes>"
      ]
     },
     "metadata": {},
     "output_type": "display_data"
    }
   ],
   "source": [
    "fig = plt.figure(figsize=(10, 6))\n",
    "\n",
    "#plot histogram of log odds of dem vs repub\n",
    "sns.histplot(df['log_odd_dem_repub'], bins=30, kde=True)\n",
    "plt.title('Log Odds of Voting Democrat vs Republican')\n",
    "plt.xlabel('Log Odds of Voting Democrat vs Republican')\n",
    "plt.ylabel('Density')\n",
    "plt.axvline(0, color='red', linestyle='--')\n",
    "plt.axvline(df['log_odd_dem_repub'].mean(), color='blue', linestyle='--')\n",
    "plt.axvline(df['log_odd_dem_repub'].median(), color='green', linestyle='--')\n",
    "plt.legend({'Mean': df['log_odd_dem_repub'].mean(), 'Median': df['log_odd_dem_repub'].median()})\n",
    "plt.show()"
   ]
  },
  {
   "cell_type": "code",
   "execution_count": null,
   "id": "58e80529",
   "metadata": {},
   "outputs": [],
   "source": [
    "# compute vote share of each county out of total votes\n",
    "\n",
    "df['country_totalvotes'] = df.groupby(['year'])['totalvotes'].transform('sum')\n"
   ]
  },
  {
   "cell_type": "code",
   "execution_count": 22,
   "id": "52c4eccd",
   "metadata": {},
   "outputs": [
    {
     "data": {
      "text/plain": [
       "country_totalvotes\n",
       "129082149    3106\n",
       "127064331    3106\n",
       "134417118    3106\n",
       "156178393    3106\n",
       "Name: count, dtype: int64"
      ]
     },
     "execution_count": 22,
     "metadata": {},
     "output_type": "execute_result"
    }
   ],
   "source": [
    "df['country_totalvotes'].value_counts()"
   ]
  },
  {
   "cell_type": "code",
   "execution_count": 29,
   "id": "f03bee4f",
   "metadata": {},
   "outputs": [
    {
     "data": {
      "image/png": "[encoded data removed]",
      "text/plain": [
       "<Figure size 1000x600 with 1 Axes>"
      ]
     },
     "metadata": {},
     "output_type": "display_data"
    }
   ],
   "source": [
    "#compute the vote share of each county\n",
    "from matplotlib.pyplot import yscale\n",
    "\n",
    "\n",
    "df['vote_share'] = df['totalvotes'] / df['country_totalvotes']\n",
    "palette = {1: \"steelblue\", 0: \"indianred\"}\n",
    "fig = plt.figure(figsize=(10, 6))\n",
    "#set yscale to log\n",
    "plt.yscale('log')\n",
    "#plot histogram of vote share\n",
    "sns.histplot(data = df, \n",
    "             x='vote_share',\n",
    "             stat='density',\n",
    "             hue='winner', \n",
    "             palette=palette)\n",
    "plt.title('Vote Share of Each County')\n",
    "plt.xlabel('Vote Share of Each County')\n",
    "plt.ylabel('Density')\n",
    "plt.axvline(0, color='red', linestyle='--')\n",
    "plt.axvline(df['vote_share'].mean(), color='blue', linestyle='--')\n",
    "plt.axvline(df['vote_share'].median(), color='green', linestyle='--')\n",
    "plt.legend({'Mean': df['vote_share'].mean(), 'Median': df['vote_share'].median()})\n",
    "plt.show()"
   ]
  },
  {
   "cell_type": "code",
   "execution_count": 30,
   "id": "24fd6e28",
   "metadata": {},
   "outputs": [],
   "source": [
    "df_2008 = df[df['year'] == 2008]\n",
    "df_2012 = df[df['year'] == 2012]\n",
    "df_2016 = df[df['year'] == 2016]\n",
    "df_2020 = df[df['year'] == 2020]"
   ]
  },
  {
   "cell_type": "code",
   "execution_count": 31,
   "id": "676a4a3b",
   "metadata": {},
   "outputs": [],
   "source": [
    "df_train = pd.concat([df_2008, df_2012, df_2016])\n",
    "df_test = df_2020"
   ]
  },
  {
   "cell_type": "code",
   "execution_count": 32,
   "id": "a6139d4e",
   "metadata": {},
   "outputs": [
    {
     "data": {
      "text/plain": [
       "Index(['fips', 'totalvotes', 'dem', 'repub', 'other', 'pop_tot', 'pop_male',\n",
       "       'pop_female', 'hispanic', 'labor_total', 'labor_armed',\n",
       "       'labor_employed', 'labor_unemployed', 'income_median',\n",
       "       'income_percapita', 'income_poverty', 'native_yes', 'native_no',\n",
       "       'houses_tot', 'income_10', 'income_10-15', 'income_15-25', 'income_25',\n",
       "       'marital_single', 'marital_married', 'marital_sepdiv', 'marital_widow',\n",
       "       'edu_low', 'edu_mid', 'edu_high', 'edu_low_age_18', 'edu_low_age_45',\n",
       "       'edu_low_age_65', 'edu_mid_age_18', 'edu_mid_age_45', 'edu_mid_age_65',\n",
       "       'edu_high_age_18', 'edu_high_age_45', 'edu_high_age_65',\n",
       "       'race_wht_total', 'race_wht_male', 'race_wht_female', 'race_blk_total',\n",
       "       'race_blk_male', 'race_blk_female', 'race_other_total',\n",
       "       'race_other_male', 'race_other_female', 'CENSUSAREA', 'pop_density',\n",
       "       'year', 'winner', 'prob_dem', 'prob_repub', 'log_odd_dem_repub',\n",
       "       'country_totalvotes', 'vote_share'],\n",
       "      dtype='object')"
      ]
     },
     "execution_count": 32,
     "metadata": {},
     "output_type": "execute_result"
    }
   ],
   "source": [
    "df_train.columns"
   ]
  },
  {
   "cell_type": "code",
   "execution_count": null,
   "id": "8b883cc4",
   "metadata": {},
   "outputs": [],
   "source": [
    "features = ['pop_tot','hispanic', 'labor_armed',\n",
    "       'labor_employed', 'labor_unemployed',  'income_poverty', 'native_yes', \n",
    "       'houses_tot', 'income_10', 'income_10-15', 'income_15-25', 'income_25',\n",
    "       'marital_single', 'marital_married', 'marital_sepdiv', 'marital_widow', 'edu_low_age_18', 'edu_low_age_45',\n",
    "       'edu_low_age_65', 'edu_mid_age_18', 'edu_mid_age_45', 'edu_mid_age_65',\n",
    "       'edu_high_age_18', 'edu_high_age_45', 'edu_high_age_65', 'race_wht_male', 'race_wht_female', \n",
    "       'race_blk_male', 'race_blk_female', \n",
    "       'race_other_male', 'race_other_female']"
   ]
  },
  {
   "cell_type": "code",
   "execution_count": 34,
   "id": "6efca2d8",
   "metadata": {},
   "outputs": [],
   "source": [
    "X_train = df_train[features]\n",
    "X_test = df_test[features]"
   ]
  },
  {
   "cell_type": "code",
   "execution_count": 37,
   "id": "e332a530",
   "metadata": {},
   "outputs": [
    {
     "data": {
      "text/plain": [
       "((9318, 35), (3106, 35))"
      ]
     },
     "execution_count": 37,
     "metadata": {},
     "output_type": "execute_result"
    }
   ],
   "source": [
    "X_train.shape, X_test.shape"
   ]
  },
  {
   "cell_type": "code",
   "execution_count": 35,
   "id": "72fc30f2",
   "metadata": {},
   "outputs": [],
   "source": [
    "target = 'dem'\n",
    "y_train = df_train[target]\n",
    "y_test = df_test[target]"
   ]
  },
  {
   "cell_type": "code",
   "execution_count": 36,
   "id": "5791077f",
   "metadata": {},
   "outputs": [
    {
     "name": "stdout",
     "output_type": "stream",
     "text": [
      "Train MSE: 77084556.58435394\n",
      "Test MSE: 184140121.14516467\n"
     ]
    }
   ],
   "source": [
    "#run a linear regression model \n",
    "from sklearn.linear_model import LinearRegression\n",
    "from sklearn.metrics import mean_squared_error, r2_score\n",
    "\n",
    "model = LinearRegression()\n",
    "model.fit(X_train, y_train)\n",
    "y_train_pred = model.predict(X_train)\n",
    "y_test_pred = model.predict(X_test)\n",
    "\n",
    "print('Train MSE:', mean_squared_error(y_train, y_train_pred))\n",
    "print('Test MSE:', mean_squared_error(y_test, y_test_pred))"
   ]
  },
  {
   "cell_type": "code",
   "execution_count": 39,
   "id": "0887f6fe",
   "metadata": {},
   "outputs": [],
   "source": [
    "features = ['CENSUSAREA', 'pop_density','hispanic', 'labor_armed',\n",
    "       'labor_employed', 'labor_unemployed',  'income_poverty', 'native_yes', \n",
    "       'houses_tot', 'income_10', 'income_10-15', 'income_15-25', 'income_25',\n",
    "       'marital_single', 'marital_married', 'marital_sepdiv', 'marital_widow', 'edu_low_age_18', 'edu_low_age_45', 'income_percapita',\n",
    "       'edu_low_age_65', 'edu_mid_age_18', 'edu_mid_age_45', 'edu_mid_age_65',\n",
    "       'edu_high_age_18', 'edu_high_age_45', 'edu_high_age_65', 'race_wht_male', 'race_wht_female', \n",
    "       'race_blk_male', 'race_blk_female', \n",
    "       'race_other_male', 'race_other_female']"
   ]
  },
  {
   "cell_type": "code",
   "execution_count": 40,
   "id": "a6046ff0",
   "metadata": {},
   "outputs": [
    {
     "name": "stdout",
     "output_type": "stream",
     "text": [
      "Train MSE: 77254770.8960043\n",
      "Test MSE: 184194305.86047572\n"
     ]
    }
   ],
   "source": [
    "from sklearn.preprocessing import StandardScaler\n",
    "\n",
    "X_train = df_train[features]\n",
    "X_test = df_test[features]\n",
    "\n",
    "scaler = StandardScaler()\n",
    "X_train_scaled = scaler.fit_transform(X_train)\n",
    "X_test_scaled = scaler.transform(X_test)\n",
    "\n",
    "model2 = LinearRegression()\n",
    "model2.fit(X_train_scaled, y_train)\n",
    "y_train_pred2 = model2.predict(X_train_scaled)\n",
    "y_test_pred2 = model2.predict(X_test_scaled)\n",
    "print('Train MSE:', mean_squared_error(y_train, y_train_pred2))\n",
    "print('Test MSE:', mean_squared_error(y_test, y_test_pred2))"
   ]
  },
  {
   "cell_type": "code",
   "execution_count": 41,
   "id": "5c9d2de2",
   "metadata": {},
   "outputs": [
    {
     "name": "stdout",
     "output_type": "stream",
     "text": [
      "Binary Cross Entropy Train Loss: 5.724898799730992\n",
      "Binary Cross Entropy Test Loss: 4.0151655095410606\n"
     ]
    }
   ],
   "source": [
    "# logistic regression model to predict 'winner'\n",
    "\n",
    "from sklearn.linear_model import LogisticRegression\n",
    "from sklearn.metrics import log_loss, accuracy_score\n",
    "\n",
    "X_train = df_train[features]\n",
    "X_test = df_test[features]\n",
    "\n",
    "scaler = StandardScaler()\n",
    "X_train_scaled = scaler.fit_transform(X_train)\n",
    "X_test_scaled = scaler.transform(X_test)\n",
    "\n",
    "y_train = df_train['winner']\n",
    "y_test = df_test['winner']\n",
    "\n",
    "model3 = LogisticRegression()\n",
    "model3.fit(X_train_scaled, y_train)\n",
    "y_train_pred3 = model3.predict(X_train_scaled)\n",
    "y_test_pred3 = model3.predict(X_test_scaled)\n",
    "print('Binary Cross Entropy Train Loss:', log_loss(y_train, y_train_pred3))\n",
    "print('Binary Cross Entropy Test Loss:', log_loss(y_test, y_test_pred3))"
   ]
  },
  {
   "cell_type": "code",
   "execution_count": 47,
   "id": "187c4447",
   "metadata": {},
   "outputs": [
    {
     "data": {
      "image/png": "[encoded data removed]",
      "text/plain": [
       "<Figure size 400x300 with 1 Axes>"
      ]
     },
     "metadata": {},
     "output_type": "display_data"
    }
   ],
   "source": [
    "#visualize the confusion matrix\n",
    "from sklearn.metrics import confusion_matrix\n",
    "\n",
    "cm = confusion_matrix(y_test, y_test_pred3, normalize='all')\n",
    "\n",
    "fig, ax = plt.subplots(figsize=(4,3))\n",
    "sns.heatmap(cm, annot=True, fmt='.2f', cmap='Blues', cbar=False, ax=ax)\n",
    "ax.set_xlabel('Predicted')\n",
    "ax.set_ylabel('Actual')\n",
    "ax.set_title('Confusion Matrix')\n",
    "plt.show()"
   ]
  },
  {
   "cell_type": "code",
   "execution_count": 48,
   "id": "fdac6030",
   "metadata": {},
   "outputs": [
    {
     "data": {
      "text/plain": [
       "winner\n",
       "0    0.781391\n",
       "1    0.218609\n",
       "Name: proportion, dtype: float64"
      ]
     },
     "execution_count": 48,
     "metadata": {},
     "output_type": "execute_result"
    }
   ],
   "source": [
    "df_train['winner'].value_counts(normalize=True)"
   ]
  },
  {
   "cell_type": "code",
   "execution_count": 55,
   "id": "6f344349",
   "metadata": {},
   "outputs": [
    {
     "name": "stdout",
     "output_type": "stream",
     "text": [
      "torch.Size([9318, 33]) torch.Size([9318])\n",
      "torch.Size([3106, 33]) torch.Size([3106])\n"
     ]
    }
   ],
   "source": [
    "import torch\n",
    "import torch.nn as nn\n",
    "import torch.optim as optim\n",
    "import torch.nn.functional as F\n",
    "\n",
    "# Define the MLP model with one hidden layer\n",
    "class MLP(nn.Module):\n",
    "    def __init__(self, input_dim):\n",
    "        super(MLP, self).__init__()\n",
    "        # Hidden layer with 20 neurons\n",
    "        self.hidden = nn.Linear(input_dim, 20)\n",
    "        # Output layer: single neuron for binary classification\n",
    "        self.output = nn.Linear(20, 1)\n",
    "\n",
    "    def forward(self, x):\n",
    "        # Apply ReLU activation to the hidden layer output\n",
    "        x = F.relu(self.hidden(x))\n",
    "        # Sigmoid activation for binary probability output\n",
    "        x = torch.sigmoid(self.output(x))\n",
    "        return x\n",
    "\n",
    "# Training loop example\n",
    "def train_model(model, \n",
    "                X_train, \n",
    "                y_train,optimizer, \n",
    "                criterion=nn.BCELoss(), \n",
    "                num_epochs=100):\n",
    "    model.train() #set it in training mode\n",
    "    for epoch in range(num_epochs):\n",
    "        optimizer.zero_grad()\n",
    "        # Forward pass: compute predicted outputs by passing inputs to the model\n",
    "        outputs = model(X_train)\n",
    "        # Compute loss. Note: squeeze output when using BCELoss.\n",
    "        loss = criterion(outputs.squeeze(), y_train.float())\n",
    "        # Backward pass: compute gradient of the loss with respect to model parameters\n",
    "        loss.backward()\n",
    "        # Perform a single optimization step (parameter update)\n",
    "        optimizer.step()\n",
    "\n",
    "        # Print loss every 10 epochs\n",
    "        if (epoch + 1) % 10 == 0:\n",
    "            print(f'Epoch [{epoch + 1}/{num_epochs}], Loss: {loss.item():.4f}')\n",
    "\n",
    "# --- Example Usage ---\n",
    "\n",
    "import numpy as np\n",
    "\n",
    "\n",
    "\n",
    "# Convert numpy arrays to torch tensors\n",
    "X_train = torch.tensor(X_train_scaled, dtype=torch.float32)\n",
    "y_train = torch.tensor(y_train_np, dtype=torch.float32)\n",
    "X_test = torch.tensor(X_test_scaled, dtype=torch.float32)\n",
    "y_test = torch.tensor(y_test_np, dtype=torch.float32)\n",
    "\n",
    "# check the shape of the tensors\n",
    "print(X_train.shape, y_train.shape)\n",
    "print(X_test.shape, y_test.shape)"
   ]
  },
  {
   "cell_type": "code",
   "execution_count": 57,
   "id": "202409e3",
   "metadata": {},
   "outputs": [],
   "source": [
    "# Create the model, define the loss function and the optimizer\n",
    "model = MLP(33)  # 33 input features\n",
    "criterion = nn.BCELoss()  # Binary Cross Entropy loss for binary classification\n",
    "optimizer = optim.Adam(model.parameters(), lr=0.001)"
   ]
  },
  {
   "cell_type": "code",
   "execution_count": 59,
   "id": "e873ff0b",
   "metadata": {},
   "outputs": [
    {
     "name": "stdout",
     "output_type": "stream",
     "text": [
      "Epoch [10/100], Loss: 0.6332\n",
      "Epoch [20/100], Loss: 0.6142\n",
      "Epoch [30/100], Loss: 0.5965\n",
      "Epoch [40/100], Loss: 0.5774\n",
      "Epoch [50/100], Loss: 0.5575\n",
      "Epoch [60/100], Loss: 0.5375\n",
      "Epoch [70/100], Loss: 0.5185\n",
      "Epoch [80/100], Loss: 0.5015\n",
      "Epoch [90/100], Loss: 0.4877\n",
      "Epoch [100/100], Loss: 0.4778\n"
     ]
    }
   ],
   "source": [
    "# Train the model\n",
    "train_model(model, X_train, y_train, optimizer, criterion, num_epochs=100)"
   ]
  }
 ],
 "metadata": {
  "kernelspec": {
   "display_name": "math392",
   "language": "python",
   "name": "python3"
  },
  "language_info": {
   "codemirror_mode": {
    "name": "ipython",
    "version": 3
   },
   "file_extension": ".py",
   "mimetype": "text/x-python",
   "name": "python",
   "nbconvert_exporter": "python",
   "pygments_lexer": "ipython3",
   "version": "3.11.11"
  }
 },
 "nbformat": 4,
 "nbformat_minor": 5
}
