{
 "cells": [
  {
   "cell_type": "markdown",
   "metadata": {},
   "source": [
    "# Curve fitting\n",
    "In this notebook:\n",
    "- We discuss Lagrange's interpolation theorem on finding polynomials that interpolate a set of points in the plane.\n",
    "- We discuss polynomial regression, which is a method of fitting a polynomial to a set of points in the plane.\n",
    "- We discuss the bias-variance tradeoff in regression problems, and discuss the concept of over-fitting and under-fitting. "
   ]
  },
  {
   "cell_type": "code",
   "execution_count": 52,
   "metadata": {},
   "outputs": [],
   "source": [
    "import numpy as np\n",
    "import pandas as pd\n",
    "from itertools import combinations\n",
    "\n",
    "def build_interpolants(X, Y):\n",
    "    \"\"\"\n",
    "    Given two Series X and Y (each of length n), return a dictionary mapping\n",
    "    each subset of points to the coefficients of the unique interpolating\n",
    "    polynomial (degree m-1) through those points.\n",
    "    \n",
    "    Raises a ValueError if any two x-values are identical.\n",
    "    \n",
    "    Parameters:\n",
    "      X, Y: pandas.Series (floats), both of length n\n",
    "            Each row corresponds to a point (x,y).\n",
    "    \n",
    "    Returns:\n",
    "      A dict: \n",
    "         Keys are tuples of indices (the chosen subset);\n",
    "         Values are lists of polynomial coefficients (highest degree first).\n",
    "    \"\"\"\n",
    "    \n",
    "    # Convert to numpy arrays for faster indexing\n",
    "    X_arr = X.to_numpy()\n",
    "    Y_arr = Y.to_numpy()\n",
    "    n = len(X_arr)\n",
    "    \n",
    "    # 1. Check for duplicate x-values\n",
    "    if len(set(X_arr)) < n:\n",
    "        raise ValueError(\"Duplicate x-values detected. Interpolation not possible.\")\n",
    "    \n",
    "    # 2. Build a dictionary of interpolants\n",
    "    interpolants = {}\n",
    "    \n",
    "    # 3. For each subset size m\n",
    "    for m in range(1, n + 1):\n",
    "        # 4. For each m-element subset\n",
    "        for subset in combinations(range(n), m):\n",
    "            xs = X_arr[list(subset)]\n",
    "            ys = Y_arr[list(subset)]\n",
    "            \n",
    "            # 5. Compute coefficients of the degree (m-1) polynomial, round to 6 decimals\n",
    "            coeffs = np.polyfit(xs, ys, m - 1)\n",
    "            coeffs = np.round(coeffs, 6)\n",
    "            # 6. Store them in the dictionary with tuple(subset) as the key\n",
    "            interpolants[tuple(subset)] = list(coeffs)\n",
    "    \n",
    "    # 7. Return the dictionary\n",
    "    return interpolants"
   ]
  },
  {
   "cell_type": "code",
   "execution_count": 66,
   "metadata": {},
   "outputs": [],
   "source": [
    "def random_poly(degree):\n",
    "    \"\"\"Generate a random monic polynomial of given degree, with integer coefficients between -10 and 10.\n",
    "    \"\"\"\n",
    "    coeffs = np.random.randint(-10, 11, size=degree+1)\n",
    "    coeffs[0] = 1  # Ensure the leading coefficient is 1\n",
    "    return np.poly1d(coeffs)\n",
    "\n",
    "def random_points(n,f):\n",
    "    \"\"\"Generate n random x-values uniformly from [0,1) and compute corresponding y-values using the polynomial f. Return two Series of length n containing the x and y values.\n",
    "    \"\"\"\n",
    "    X = np.random.rand(n)\n",
    "    return pd.Series(X), pd.Series(f(X))\n",
    "\n",
    "# generate a random test case\n",
    "np.random.seed(42)\n",
    "n = 5\n",
    "f = random_poly(n-1)\n",
    "X = pd.Series(np.random.rand(n))\n",
    "Y = pd.Series(f(X))\n",
    "result_dict = build_interpolants(X, Y)"
   ]
  },
  {
   "cell_type": "code",
   "execution_count": 54,
   "metadata": {},
   "outputs": [
    {
     "name": "stdout",
     "output_type": "stream",
     "text": [
      "m = 1\n",
      "(0,) [np.float64(0.493002)]\n",
      "(1,) [np.float64(-2.86786)]\n",
      "(2,) [np.float64(-2.867907)]\n",
      "(3,) [np.float64(-2.98473)]\n",
      "(4,) [np.float64(6.412661)]\n",
      "m = 2\n",
      "(0, 1) [np.float64(7.59277), np.float64(-4.052474)]\n",
      "(0, 2) [np.float64(7.592461), np.float64(-4.052289)]\n",
      "(0, 3) [np.float64(6.433397), np.float64(-3.358405)]\n",
      "(0, 4) [np.float64(22.128103), np.float64(-12.754174)]\n",
      "(1, 2) [np.float64(1.920368), np.float64(-3.167473)]\n",
      "(1, 3) [np.float64(1.193342), np.float64(-3.054044)]\n",
      "(1, 4) [np.float64(13.068257), np.float64(-4.906752)]\n",
      "(2, 3) [np.float64(1.193163), np.float64(-3.054033)]\n",
      "(2, 4) [np.float64(13.067879), np.float64(-4.906424)]\n",
      "(3, 4) [np.float64(11.629103), np.float64(-3.66019)]\n",
      "m = 3\n",
      "(0, 1, 2) [np.float64(12.81424), np.float64(-2.077844), np.float64(-2.8556)]\n",
      "(0, 1, 3) [np.float64(11.83819), np.float64(-1.341241), np.float64(-2.946765)]\n",
      "(0, 1, 4) [np.float64(20.46776), np.float64(-7.85378), np.float64(-2.140747)]\n",
      "(0, 2, 3) [np.float64(11.83795), np.float64(-1.341084), np.float64(-2.946773)]\n",
      "(0, 2, 4) [np.float64(20.4675), np.float64(-7.853399), np.float64(-2.140881)]\n",
      "(0, 3, 4) [np.float64(19.421918), np.float64(-6.321794), np.float64(-2.683061)]\n",
      "(1, 2, 3) [np.float64(7.425382), np.float64(-0.396449), np.float64(-2.986754)]\n",
      "(1, 2, 4) [np.float64(15.697237), np.float64(-2.977377), np.float64(-2.785433)]\n",
      "(1, 3, 4) [np.float64(14.694995), np.float64(-1.95289), np.float64(-2.920876)]\n",
      "(2, 3, 4) [np.float64(14.694748), np.float64(-1.952661), np.float64(-2.920888)]\n",
      "m = 4\n",
      "(0, 1, 2, 3) [np.float64(9.968755), np.float64(3.735978), np.float64(0.026833), np.float64(-3.000846)]\n",
      "(0, 1, 2, 4) [np.float64(10.776848), np.float64(3.000071), np.float64(0.197444), np.float64(-3.01262)]\n",
      "(0, 1, 3, 4) [np.float64(10.678937), np.float64(3.15877), np.float64(0.124296), np.float64(-3.004699)]\n",
      "(0, 2, 3, 4) [np.float64(10.678913), np.float64(3.158807), np.float64(0.124281), np.float64(-3.004698)]\n",
      "(1, 2, 3, 4) [np.float64(10.236273), np.float64(3.63697), np.float64(0.038192), np.float64(-3.001224)]\n",
      "m = 5\n",
      "(0, 1, 2, 3, 4) [np.float64(1.0), np.float64(9.0), np.float64(4.0), np.float64(0.0), np.float64(-3.0)]\n"
     ]
    }
   ],
   "source": [
    "for m in range(1, n + 1):\n",
    "    print(f\"m = {m}\")\n",
    "    # for each subset of size m, print the coefficients\n",
    "    for subset in combinations(range(len(X)), m):\n",
    "        print(subset, result_dict[subset])"
   ]
  },
  {
   "cell_type": "code",
   "execution_count": 56,
   "metadata": {},
   "outputs": [],
   "source": [
    "# check whether the coefficients for m=1 match Y\n",
    "for i in range(n):\n",
    "    assert np.isclose(result_dict[(i,)][0], Y[i]), f\"Failed for subset {(i,)}\""
   ]
  },
  {
   "cell_type": "code",
   "execution_count": 55,
   "metadata": {},
   "outputs": [
    {
     "ename": "AssertionError",
     "evalue": "Failed for subset (0,)",
     "output_type": "error",
     "traceback": [
      "\u001b[0;31m---------------------------------------------------------------------------\u001b[0m",
      "\u001b[0;31mAssertionError\u001b[0m                            Traceback (most recent call last)",
      "Cell \u001b[0;32mIn[55], line 3\u001b[0m\n\u001b[1;32m      1\u001b[0m \u001b[38;5;66;03m# check whether the coefficients for m=1 match Y\u001b[39;00m\n\u001b[1;32m      2\u001b[0m \u001b[38;5;28;01mfor\u001b[39;00m i \u001b[38;5;129;01min\u001b[39;00m \u001b[38;5;28mrange\u001b[39m(n):\n\u001b[0;32m----> 3\u001b[0m     \u001b[38;5;28;01massert\u001b[39;00m (result_dict[(i,)][\u001b[38;5;241m0\u001b[39m] \u001b[38;5;241m==\u001b[39m Y[i]), \u001b[38;5;124mf\u001b[39m\u001b[38;5;124m\"\u001b[39m\u001b[38;5;124mFailed for subset \u001b[39m\u001b[38;5;132;01m{\u001b[39;00m(i,)\u001b[38;5;132;01m}\u001b[39;00m\u001b[38;5;124m\"\u001b[39m\n",
      "\u001b[0;31mAssertionError\u001b[0m: Failed for subset (0,)"
     ]
    }
   ],
   "source": [
    "# check whether the coefficients for m=1 match Y\n",
    "for i in range(n):\n",
    "    assert (result_dict[(i,)][0] == Y[i]), f\"Failed for subset {(i,)}\""
   ]
  },
  {
   "cell_type": "code",
   "execution_count": 57,
   "metadata": {},
   "outputs": [],
   "source": [
    "# check whether the coefficients for m=5 match the original polynomial\n",
    "assert np.all(np.isclose(result_dict[tuple(range(n))], f)), \"Failed for subset of all points\""
   ]
  },
  {
   "cell_type": "code",
   "execution_count": 58,
   "metadata": {},
   "outputs": [
    {
     "data": {
      "text/plain": [
       "[np.float64(1.0),\n",
       " np.float64(9.0),\n",
       " np.float64(4.0),\n",
       " np.float64(0.0),\n",
       " np.float64(-3.0)]"
      ]
     },
     "execution_count": 58,
     "metadata": {},
     "output_type": "execute_result"
    }
   ],
   "source": [
    "result_dict[tuple(range(n))]"
   ]
  },
  {
   "cell_type": "code",
   "execution_count": 63,
   "metadata": {},
   "outputs": [
    {
     "name": "stdout",
     "output_type": "stream",
     "text": [
      "-3.3386923953271364e-07\n",
      "2.1774736147506246e-07\n",
      "-4.6278055920723205e-07\n",
      "1.808186138596568e-07\n",
      "2.643047523065434e-07\n"
     ]
    }
   ],
   "source": [
    "for i in range(n):\n",
    "    print(result_dict[(i,)][0] - Y[i])"
   ]
  },
  {
   "cell_type": "code",
   "execution_count": 68,
   "metadata": {},
   "outputs": [
    {
     "data": {
      "text/html": [
       "<pre style=\"white-space:pre;overflow-x:auto;line-height:normal;font-family:Menlo,'DejaVu Sans Mono',consolas,'Courier New',monospace\">Manim Community <span style=\"color: #008000; text-decoration-color: #008000\">v0.19.0</span>\n",
       "\n",
       "</pre>\n"
      ],
      "text/plain": [
       "Manim Community \u001b[32mv0.\u001b[0m\u001b[32m19.0\u001b[0m\n",
       "\n"
      ]
     },
     "metadata": {},
     "output_type": "display_data"
    },
    {
     "name": "stderr",
     "output_type": "stream",
     "text": [
      "                                                                                               \r"
     ]
    },
    {
     "data": {
      "text/html": [
       "<video src=\"media/jupyter/InterpolationAnimation@2025-02-11@01-15-29.mp4\" controls autoplay loop style=\"max-width: 60%;\"  >\n",
       "      Your browser does not support the <code>video</code> element.\n",
       "    </video>"
      ],
      "text/plain": [
       "<IPython.core.display.Video object>"
      ]
     },
     "metadata": {},
     "output_type": "display_data"
    }
   ],
   "source": [
    "from manim import *\n",
    "import numpy as np\n",
    "import pandas as pd\n",
    "from itertools import combinations\n",
    "\n",
    "class InterpolationAnimation(Scene):\n",
    "    def construct(self):\n",
    "        # 1. Parameter validation\n",
    "        n = 5  # Example value, modify as needed\n",
    "        if not isinstance(n, int) or n <= 0:\n",
    "            raise ValueError(\"n must be a positive integer\")\n",
    "\n",
    "        # 2. Generate random polynomial\n",
    "        f = random_poly(n-1)\n",
    "        \n",
    "        # 3. Generate random points\n",
    "        X, Y = random_points(n, f)\n",
    "        \n",
    "        # 4. Create and fade in axes\n",
    "        axes = Axes(\n",
    "            x_range=[-1,2],\n",
    "            y_range=[-10, 10],\n",
    "            axis_config={\"color\": BLUE},\n",
    "        ).add_coordinates()\n",
    "        \n",
    "        self.play(FadeIn(axes))\n",
    "        \n",
    "        # 5. Create and fade in points\n",
    "        dots = VGroup(*[\n",
    "            Dot(axes.c2p(x, y), color=RED)\n",
    "            for x, y in zip(X, Y)\n",
    "        ])\n",
    "        self.play(FadeIn(dots))\n",
    "        \n",
    "        # 6. Create degree equation\n",
    "        degree_text = MathTex(\"\\\\text{degree} =\").to_corner(UR)\n",
    "        self.play(Write(degree_text))\n",
    "        \n",
    "        # 7. Get interpolation dictionary\n",
    "        interp_dict = build_interpolants(X, Y)\n",
    "        \n",
    "        # 8-12. Main animation loop\n",
    "        for m in range(1, n+1):\n",
    "            # Update degree number\n",
    "            degree_num = MathTex(str(m)).next_to(degree_text, RIGHT)\n",
    "            self.play(Write(degree_num))\n",
    "            \n",
    "            # Get all m-element subsets\n",
    "            subsets = list(combinations(range(n), m))\n",
    "            time_per_poly = 3 / len(subsets)  # Total 3 seconds per m\n",
    "            \n",
    "            # Animate each polynomial for this m\n",
    "            for subset in subsets:\n",
    "                coeffs = interp_dict[tuple(subset)]\n",
    "                p = np.poly1d(coeffs)\n",
    "                \n",
    "                # Create graph\n",
    "                x_vals = np.linspace(-5, 5, 100)\n",
    "                y_vals = p(x_vals)\n",
    "                graph = axes.plot(\n",
    "                    lambda x: p(x),\n",
    "                    x_range=[-5, 5],\n",
    "                    color=YELLOW\n",
    "                )\n",
    "                \n",
    "                # Highlight selected points\n",
    "                selected_dots = VGroup(*[\n",
    "                    dots[i].copy().set_color(YELLOW)\n",
    "                    for i in subset\n",
    "                ])\n",
    "                \n",
    "                # Animate polynomial and point highlighting\n",
    "                self.play(\n",
    "                    Create(graph),\n",
    "                    Transform(dots, selected_dots),\n",
    "                    run_time=time_per_poly\n",
    "                )\n",
    "                \n",
    "                # Remove polynomial\n",
    "                self.remove(graph)\n",
    "                \n",
    "            # Reset points to original color\n",
    "            self.play(\n",
    "                dots.animate.set_color(RED)\n",
    "            )\n",
    "            \n",
    "            # Pause for 2 seconds\n",
    "            self.wait(2)\n",
    "            \n",
    "            # Remove degree number for next iteration\n",
    "            self.remove(degree_num)\n",
    "\n",
    "        # Final pause\n",
    "        self.wait(1)\n",
    "\n",
    "# To run the animation, use the following command in the terminal:\n",
    "%manim -ql -v WARNING InterpolationAnimation"
   ]
  },
  {
   "cell_type": "code",
   "execution_count": null,
   "metadata": {},
   "outputs": [
    {
     "data": {
      "text/html": [
       "<pre style=\"white-space:pre;overflow-x:auto;line-height:normal;font-family:Menlo,'DejaVu Sans Mono',consolas,'Courier New',monospace\">Manim Community <span style=\"color: #008000; text-decoration-color: #008000\">v0.19.0</span>\n",
       "\n",
       "</pre>\n"
      ],
      "text/plain": [
       "Manim Community \u001b[32mv0.\u001b[0m\u001b[32m19.0\u001b[0m\n",
       "\n"
      ]
     },
     "metadata": {},
     "output_type": "display_data"
    },
    {
     "name": "stderr",
     "output_type": "stream",
     "text": [
      "                                                                                               \r"
     ]
    },
    {
     "data": {
      "text/html": [
       "<video src=\"media/jupyter/InterpolationAnimation@2025-02-11@01-13-28.mp4\" controls autoplay loop style=\"max-width: 60%;\"  >\n",
       "      Your browser does not support the <code>video</code> element.\n",
       "    </video>"
      ],
      "text/plain": [
       "<IPython.core.display.Video object>"
      ]
     },
     "metadata": {},
     "output_type": "display_data"
    }
   ],
   "source": []
  }
 ],
 "metadata": {
  "kernelspec": {
   "display_name": "math392",
   "language": "python",
   "name": "python3"
  },
  "language_info": {
   "codemirror_mode": {
    "name": "ipython",
    "version": 3
   },
   "file_extension": ".py",
   "mimetype": "text/x-python",
   "name": "python",
   "nbconvert_exporter": "python",
   "pygments_lexer": "ipython3",
   "version": "3.11.8"
  }
 },
 "nbformat": 4,
 "nbformat_minor": 2
}
