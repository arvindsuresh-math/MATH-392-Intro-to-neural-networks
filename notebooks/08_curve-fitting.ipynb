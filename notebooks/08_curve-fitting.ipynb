{
 "cells": [
  {
   "cell_type": "markdown",
   "metadata": {},
   "source": [
    "# Curve fitting\n",
    "In this notebook:\n",
    "- We discuss Lagrange's interpolation theorem on finding polynomials that interpolate a set of points in the plane.\n",
    "- We discuss polynomial regression, which is a method of fitting a polynomial to a set of points in the plane.\n",
    "- We discuss the bias-variance tradeoff in regression problems, and discuss the concept of over-fitting and under-fitting. "
   ]
  },
  {
   "cell_type": "markdown",
   "metadata": {},
   "source": [
    "### Introduction\n",
    "Suppose we have a regression problem with one variable $X$ and one target $Y$, both continuous variables. Assume that there are $m$ instances $(x_i,y_i)$, $i=1,\\ldots,m$, of the variables. \n",
    "Recall that in our parametric ML framework, we assume the following: There exists a class of functions $\\{f_{\\mathbf{w}}\\}$ (called a *model*), parameterized by a vector of parameters $\\mathbf{w} \\in \\mathbb{R}^n$, such that for some particular choice of $(\\mathbf{w})$, the relationship between $X$ and $Y$ can be modeled as\n",
    "\\begin{equation*}\n",
    "    Y = f_{\\mathbf{w}}(X) + \\epsilon,\n",
    "\\end{equation*}\n",
    "where $\\epsilon$ is a random variable representing noise in the data.\n",
    "\n",
    "For example, in the case of simple linear regression, the parameters are a pair $\\mathbf{w} = (w_0,w_1) \\in \\mathbb{R}^2$, and the model is $f_{\\mathbf{w}}(x) = w_0 + w_1x$. The particular choice of $\\mathbf{w}$ giving the best model (according to some choice of loss function) is the \"line of best fit\". \n",
    "\n",
    "It is possible to also use higher order polynomials to model the relationship between $X$ and $Y$. For example, we could use a quadratic model $f_{\\mathbf{w}}(x) = w_0 + w_1x + w_2x^2$, or a cubic model $f_{\\mathbf{w}}(x) = w_0 + w_1x + w_2x^2 + w_3x^3$, and so on. Such a model is then called a **polynomial regression** model. Before we discuss this in detail, we first discuss the concept of interpolation and compare it to regression."
   ]
  },
  {
   "cell_type": "markdown",
   "metadata": {},
   "source": [
    "### Interpolation\n",
    "As above, let's suppose we have a collection of data points $(x_i,y_i) \\in \\mathbb{R}^2$, $i=1,\\ldots,m$. The goal of *interpolation* is to find a function $f(x)$ that passes through all the points *exactly* (without any error or noise term). In other words, we want to find a function $f(x)$ such that $f(x_i) = y_i$ for all $i=1,\\ldots,m$. Of course, this is doomed to fail if the same $x$-value occurs more than once with different associated $y$-values. For simplicity, let's suppose for now that all $x_i$ are distinct.\n",
    "\n",
    "There are many ways to interpolate a set of points, corresponding to the choice of the class of functions used. For this to make sense (i.e. be guaranteed to work), we need a class of functions that is \"rich enough\" to interpolate any set of points. Here are three commonly used classes with this \"universal interpolator\" property:\n",
    "- Polynomials\n",
    "- Piece-wise linear functions\n",
    "- Splines (piece-wise polynomials)"
   ]
  },
  {
   "cell_type": "markdown",
   "metadata": {},
   "source": [
    "### Polynomial interpolation\n",
    "Of the three classes, the most natural (perhaps, because they are smooth?) are polynomials. We recall here that for a polynomial $f(x) = \\sum_{i=0}^n a_ix^i$, with $a_n \\neq 0$, the **degree** (or **order**) of $f(x)$ is the largest non-zero power of $x$ which appears, namely, $n$. Thus degree $0$ means a constant function, degree $1$ means a linear function, degree $2$ means a quadratic function, and so on.\n",
    "\n",
    "Now, suppose we have a degree $n$ polynomial\n",
    "\\begin{equation*}\n",
    "    f_{\\mathbf{w}}(x) = w_0 + w_1x + w_2x^2 + \\dotsb + w_nx^n.\n",
    "\\end{equation*}\n",
    "Given a data point $(x_i,y_i)$, asking for this polynomial to pass through this data point means we must have\n",
    "\\begin{equation*}\n",
    "    y_i = f_{\\mathbf{w}}(x_i) = w_0 + w_1x_i + w_2x_i^2 + \\dotsb + w_nx_i^n.\n",
    "\\end{equation*}\n",
    "Now, recall that the main principle/take-away from linear algebra is that whenever you see a sum of products, you should immediately try to express it as a dot product. In this case, we can re-write the above equation as\n",
    "\\begin{equation*}\n",
    "    y_i = \\begin{bmatrix} \\; 1 & x_i & \\dotsb & x_i^n \\; \\end{bmatrix} \\begin{bmatrix} w_0 \\\\ w_1 \\\\ \\vdots \\\\ w_n \\end{bmatrix} = \\mathbf{r}_i^T\\mathbf{w}.\n",
    "\\end{equation*}\n",
    "Thus, the polynomial interpolation problem can be re-stated as follows: Given a set of data points $(x_i,y_i)$, $i=1,\\ldots,m$, find a vector $\\mathbf{w} \\in \\mathbb{R}^{n+1}$ such that\n",
    "\\begin{equation*}\n",
    "    \\begin{bmatrix}\n",
    "        1 & x_1 & \\dotsb & x_1^n \\\\\n",
    "        \\vdots & \\vdots & \\ddots & \\vdots \\\\\n",
    "        1 & x_m & \\dotsb & x_m^n\n",
    "    \\end{bmatrix} \\begin{bmatrix} w_0 \\\\ w_1 \\\\ \\vdots \\\\ w_n \\end{bmatrix} =  \\begin{bmatrix} y_1 \\\\ \\vdots \\\\ y_m \\end{bmatrix}.\n",
    "\\end{equation*}\n",
    "Thus, solving this equation amounts to solving a system of $m$ linear equations in $n+1$ unknowns. This leads to 3 cases:\n",
    "1. If $m < n+1$, then the system is said to be *under-determined*, and there are infinitely many solutions. (In fact this is not super obvious, and it requires us to know that the rows of the matrix are linearly independent.)\n",
    "2. If $m > n+1$, then the system is said to be *over-determined*, and there are no solutions (in general). In this case, we can try to find the \"closest approximation\" to a solution, which is the idea behind regression!\n",
    "3. If $m=n+1$, then there always exists (provided all $x_i$'s are distinct) a *unique* solution. Writing this out in terms of the polynomial, this is known as: \n",
    "\n",
    "**Lagrange's interpolation theorem**: \n",
    "*Given a set of $m$ points $(x_i,y_i)$, $i=1,\\dotsc,m$, with all $x_i$'s distinct, there exists a **unique** polynomial of degree at most $m-1$ that passes through all the points.*\n",
    "\n",
    "In your HW 2, you will walk through a guided proof of this beautiful theorem. \n",
    "\n",
    "Below, let's see how to implement polynomial interpolation in Python using `polyfit` method from `numpy`."
   ]
  },
  {
   "cell_type": "code",
   "execution_count": 19,
   "metadata": {},
   "outputs": [
    {
     "name": "stdout",
     "output_type": "stream",
     "text": [
      "           9             8             7             6             5\n",
      "2.722e-19 x - 1.243e-18 x - 1.386e-17 x + 5.281e-17 x + 2.209e-16 x\n",
      "              4     3             2\n",
      " - 4.881e-16 x + 1 x + 1.221e-15 x - 1 x - 1\n"
     ]
    },
    {
     "data": {
      "image/png": "[encoded data removed]",
      "text/plain": [
       "<Figure size 300x300 with 1 Axes>"
      ]
     },
     "metadata": {},
     "output_type": "display_data"
    }
   ],
   "source": [
    "import numpy as np\n",
    "import seaborn as sns\n",
    "import matplotlib.pyplot as plt\n",
    "\n",
    "# 1. Create a 1D array of numbers from 0 to 9\n",
    "xs = np.arange(-5,6)\n",
    "\n",
    "# 2. Create an array of ys by applying f(x) = x^2 - 4x - 10 to xs\n",
    "ys = xs**3 - xs - 1\n",
    "\n",
    "# 3. Compute an interpolant using polyfit\n",
    "coeffs = np.polyfit(xs, ys, deg=9)\n",
    "\n",
    "# 4. Make polynomial object\n",
    "poly = np.poly1d(coeffs)\n",
    "\n",
    "# 5. Print the polynomial\n",
    "print(poly)\n",
    "\n",
    "# 6. Plot the points and the polynomial\n",
    "plt.figure(figsize=(3,3))\n",
    "sns.scatterplot(x=xs, y=ys, color='red')\n",
    "sns.lineplot(x=xs, y=poly(xs))\n",
    "plt.show()\n"
   ]
  },
  {
   "cell_type": "markdown",
   "metadata": {},
   "source": [
    "As we can see above, we did not get back the polynomial $x^3 - x -1$ that we originally used to generate the data. However, we came exceedingly close (because all the other coefficients are almost equal to zero). To rectify this issue, let's write a custom function to perform polynomial interpolation and round the coefficients to `round` decimal places."
   ]
  },
  {
   "cell_type": "code",
   "execution_count": 20,
   "metadata": {},
   "outputs": [
    {
     "name": "stdout",
     "output_type": "stream",
     "text": [
      "   3\n",
      "1 x - 1 x - 1\n"
     ]
    }
   ],
   "source": [
    "def rounded_polyfit(x, y, deg, round_to=6):\n",
    "    \"\"\"\n",
    "    Fit a polynomial to the data and round the coefficients to a specified number of decimal places (default = 6). Returns a polynomial object.\n",
    "    \"\"\"\n",
    "    coeffs = np.polyfit(x, y, deg=deg)\n",
    "    rounded_coeffs = np.round(coeffs, round_to)\n",
    "    return np.poly1d(rounded_coeffs)\n",
    "\n",
    "# 7. Compute an interpolant using rounded_polyfit\n",
    "rounded_poly = rounded_polyfit(xs, ys, deg=9)\n",
    "\n",
    "# 8. Print the polynomial\n",
    "print(rounded_poly)"
   ]
  },
  {
   "cell_type": "markdown",
   "metadata": {},
   "source": [
    "### Polynomial regression\n",
    "In polynomial regression, we fit a polynomial to a set of points $(x_i,y_i)$, $i=1,\\ldots,m$, by minimizing the sum of squared errors. In other words, we choose a degree $n$ and find the polynomial $f_{\\mathbf{w}}(x)$ of degree $n$ that minimizes the MSE loss function. Thus, our model parameters are the coefficients of the polynomial:\n",
    "\\begin{equation*}\n",
    "    \\mathbf{w} = \\begin{bmatrix} \\; w_0 & w_1 & \\dotsb & w_n \\; \\end{bmatrix}^T \\in \\mathbb{R}^{n+1}.\n",
    "\\end{equation*}\n",
    "The loss function is therefore defined by\n",
    "\\begin{align*}\n",
    "    J(\\mathbf{w}; \\mathbf{x},\\mathbf{y}) & = \\frac{1}{m} \\sum_{i=1}^m \\left( y_i - f_{\\mathbf{w}}(x_i) \\right)^2 \\\\\n",
    "    & = \\frac{1}{m} \\sum_{i=1}^m \\left( y_i - \\sum_{j=0}^n w_jx_i^j \\right)^2.\n",
    "\\end{align*}\n",
    "Above, we've included the columns $\\mathbf{x}$ and $\\mathbf{y}$ of the labelled dataset to emphasize that the loss function depends on the given data.\n",
    "\n",
    "Then, fitting the polynomial to the data amounts to finding the optimal parameters $\\hat{\\mathbf{w}} \\in \\mathbb{R}^{n+1}$ that minimize the loss function on the data:\n",
    "\\begin{equation*}\n",
    "    \\hat{\\mathbf{w}} = \\argmin_{\\mathbf{w} \\in \\mathbb{R}^{n+1}} J(\\mathbf{w};\\mathbf{x},\\mathbf{y}).\n",
    "\\end{equation*}\n"
   ]
  },
  {
   "cell_type": "markdown",
   "metadata": {},
   "source": [
    "### Linearity of polynomial regression\n",
    "It is important to note that polynomial regression is a linear regression problem (preceded by some data manipulation). This is because the model is linear in the parameters $\\mathbf{w}$, even though it is non-linear in the input variable $x$. Thus, one can think of a degree $n$ polynomial regression model as consisting of two steps:\n",
    "1. Use the single feature column $\\mathbf{x}$ to create $n+1$ feature columns $\\mathbf{1}, \\mathbf{x}, \\mathbf{x}^2, \\dotsc, \\mathbf{x}^n$, where\n",
    "\\begin{equation*}\n",
    "    \\mathbf{x}^j = \\begin{bmatrix} \\; x_1^j & \\dotsb & x_m^j \\; \\end{bmatrix}^T \\in \\mathbb{R}^m.\n",
    "\\end{equation*}\n",
    "These columns comprise an augmented design matrix $\\mathbf{X} \\in \\mathbb{R}^{m \\times (n+1)}$. \n",
    "2. Perform multiple linear regression on the labelled dataset $(\\mathbf{X},\\mathbf{y})$ to find the optimal parameters $\\hat{\\mathbf{w}}$ as usual. \n",
    "\n",
    "Let's demonstrate this below by writing a custom polynomial regression class which uses `LinearRegression` from `sklearn` to perform the regression after creating the augmented design matrix."
   ]
  },
  {
   "cell_type": "code",
   "execution_count": null,
   "metadata": {},
   "outputs": [],
   "source": [
    "from sklearn.linear_model import LinearRegression\n",
    "class MyPolynomialRegression:\n",
    "    def __init__(self, deg=1):\n",
    "        self.deg = deg\n",
    "        self.poly = None\n",
    "\n",
    "    def fit(self, x, y):\n",
    "        # create augmented x matrix with powers of x up to deg\n",
    "        X_train = np.vander(x, self.deg+1, increasing=True)\n",
    "\n",
    "        # create linear regression object\n",
    "        model = LinearRegression()\n",
    "\n",
    "        # fit the model\n",
    "        model.fit(X_train, y)\n",
    "\n",
    "        # store the model\n",
    "        self.poly = model\n",
    "    \n",
    "    def predict(self, x):\n",
    "        # create new augmented x matrix for prediction\n",
    "        X_pred = np.vander(x, self.deg+1, increasing=True)\n",
    "        return self.poly.predict(X_pred)\n",
    "    \n",
    "\n",
    "\n",
    "# use a degree 8 polynomial to generate 100 random points in the range -5 to 5\n",
    "np.random.seed(0)\n",
    "x = np.random.uniform(-5, 5, 100)\n",
    "y = x**8 - x**7 - x**5 - x**3 - 1 + np.random.normal(0, 1, 100)\n",
    "\n",
    "# for degrees 1,..., 10, fit a polynomial to the data using MyPolynomialRegression and np.polyfit. Store the polys in separate dictionaries\n",
    "polys_mypolyreg = {}\n",
    "polys_polyfit = {}\n",
    "\n",
    "for deg in range(1, 11):\n",
    "    # create MyPolynomialRegression object\n",
    "    model = MyPolynomialRegression(deg=deg)\n",
    "\n",
    "    # fit the model\n",
    "    model.fit(x, y)\n",
    "\n",
    "    # store the model\n",
    "    polys_mypolyreg[deg] = model\n",
    "\n",
    "    # fit a polynomial using np.polyfit\n",
    "    coeffs = np.polyfit(x, y, deg=deg)\n",
    "    \n",
    "    # store the polynomial object\n",
    "    polys_polyfit[deg] = np.poly1d(coeffs)\n"
   ]
  },
  {
   "cell_type": "code",
   "execution_count": 21,
   "metadata": {},
   "outputs": [
    {
     "data": {
      "image/png": "[encoded data removed]",
      "text/plain": [
       "<Figure size 640x480 with 1 Axes>"
      ]
     },
     "metadata": {},
     "output_type": "display_data"
    },
    {
     "name": "stdout",
     "output_type": "stream",
     "text": [
      "Coefficients: [ 0.         -0.70142857  0.87857143]\n",
      "Intercept: 1.9800000000000022\n"
     ]
    }
   ],
   "source": [
    "from sklearn.preprocessing import PolynomialFeatures\n",
    "from sklearn.linear_model import LinearRegression\n",
    "from sklearn.pipeline import make_pipeline\n",
    "import numpy as np\n",
    "import matplotlib.pyplot as plt\n",
    "\n",
    "# Example data\n",
    "X = np.array([1, 2, 3, 4, 5]).reshape(-1, 1)  # reshape for sklearn\n",
    "y = np.array([2.1, 4.2, 7.8, 13.1, 20.5])\n",
    "\n",
    "# Create polynomial regression model\n",
    "# degree=n for nth degree polynomial\n",
    "model = make_pipeline(\n",
    "    PolynomialFeatures(degree=2),  # transforms X to polynomial features\n",
    "    LinearRegression()             # performs the regression\n",
    ")\n",
    "\n",
    "# Fit the model\n",
    "model.fit(X, y)\n",
    "\n",
    "# Make predictions\n",
    "X_test = np.linspace(X.min(), X.max(), 100).reshape(-1, 1)\n",
    "y_pred = model.predict(X_test)\n",
    "\n",
    "# Plot results\n",
    "plt.scatter(X, y, color='blue', label='Data points')\n",
    "plt.plot(X_test, y_pred, color='red', label='Polynomial fit')\n",
    "plt.legend()\n",
    "plt.show()\n",
    "\n",
    "# Get coefficients\n",
    "coefficients = model.named_steps['linearregression'].coef_\n",
    "intercept = model.named_steps['linearregression'].intercept_\n",
    "print(f\"Coefficients: {coefficients}\")\n",
    "print(f\"Intercept: {intercept}\")"
   ]
  },
  {
   "cell_type": "markdown",
   "metadata": {},
   "source": [
    "### Lagrange's interpolation theorem\n",
    "Closely related to regression is the concept of **interpolation**, which is the process of finding a function that passes through a set of points. That is, interpolation is the process of finding a function $f$ such that $f(x_i) = y_i$ for all $i=1,\\ldots,m$, with no error term $\\epsilon$. \n",
    "\n",
    "Of course, this is doomed to fail if the same $x$-value occurs more than once with different associated $y$-values. For simplicity, let's suppose for now that all $x_i$ are distinct.\n",
    "\n",
    "Then, an immediate question that arises is: given the data points $(x_i,y_i) \\in \\mathbb{R}^2$, $i=1,\\ldots,m$, can we always find a function (smooth, let's say) that passes through all the points? A positive (and in fact, very precise) answer is furnished by **Lagrange's interpolation theorem**, which says the following: *There exists a **unique** polynomial of degree at most $m-1$ that passes through all the points $(x_i,y_i)$, $i=1,\\ldots,m$.*\n",
    "\n"
   ]
  },
  {
   "cell_type": "code",
   "execution_count": null,
   "metadata": {},
   "outputs": [],
   "source": []
  },
  {
   "cell_type": "code",
   "execution_count": 52,
   "metadata": {},
   "outputs": [],
   "source": [
    "import numpy as np\n",
    "import pandas as pd\n",
    "from itertools import combinations\n",
    "\n",
    "def build_interpolants(X, Y):\n",
    "    \"\"\"\n",
    "    Given two Series X and Y (each of length n), return a dictionary mapping\n",
    "    each subset of points to the coefficients of the unique interpolating\n",
    "    polynomial (degree m-1) through those points.\n",
    "    \n",
    "    Raises a ValueError if any two x-values are identical.\n",
    "    \n",
    "    Parameters:\n",
    "      X, Y: pandas.Series (floats), both of length n\n",
    "            Each row corresponds to a point (x,y).\n",
    "    \n",
    "    Returns:\n",
    "      A dict: \n",
    "         Keys are tuples of indices (the chosen subset);\n",
    "         Values are lists of polynomial coefficients (highest degree first).\n",
    "    \"\"\"\n",
    "    \n",
    "    # Convert to numpy arrays for faster indexing\n",
    "    X_arr = X.to_numpy()\n",
    "    Y_arr = Y.to_numpy()\n",
    "    n = len(X_arr)\n",
    "    \n",
    "    # 1. Check for duplicate x-values\n",
    "    if len(set(X_arr)) < n:\n",
    "        raise ValueError(\"Duplicate x-values detected. Interpolation not possible.\")\n",
    "    \n",
    "    # 2. Build a dictionary of interpolants\n",
    "    interpolants = {}\n",
    "    \n",
    "    # 3. For each subset size m\n",
    "    for m in range(1, n + 1):\n",
    "        # 4. For each m-element subset\n",
    "        for subset in combinations(range(n), m):\n",
    "            xs = X_arr[list(subset)]\n",
    "            ys = Y_arr[list(subset)]\n",
    "            \n",
    "            # 5. Compute coefficients of the degree (m-1) polynomial, round to 6 decimals\n",
    "            coeffs = np.polyfit(xs, ys, m - 1)\n",
    "            coeffs = np.round(coeffs, 6)\n",
    "            # 6. Store them in the dictionary with tuple(subset) as the key\n",
    "            interpolants[tuple(subset)] = list(coeffs)\n",
    "    \n",
    "    # 7. Return the dictionary\n",
    "    return interpolants"
   ]
  },
  {
   "cell_type": "code",
   "execution_count": 66,
   "metadata": {},
   "outputs": [],
   "source": [
    "def random_poly(degree):\n",
    "    \"\"\"Generate a random monic polynomial of given degree, with integer coefficients between -10 and 10.\n",
    "    \"\"\"\n",
    "    coeffs = np.random.randint(-10, 11, size=degree+1)\n",
    "    coeffs[0] = 1  # Ensure the leading coefficient is 1\n",
    "    return np.poly1d(coeffs)\n",
    "\n",
    "def random_points(n,f):\n",
    "    \"\"\"Generate n random x-values uniformly from [0,1) and compute corresponding y-values using the polynomial f. Return two Series of length n containing the x and y values.\n",
    "    \"\"\"\n",
    "    X = np.random.rand(n)\n",
    "    return pd.Series(X), pd.Series(f(X))\n",
    "\n",
    "# generate a random test case\n",
    "np.random.seed(42)\n",
    "n = 5\n",
    "f = random_poly(n-1)\n",
    "X = pd.Series(np.random.rand(n))\n",
    "Y = pd.Series(f(X))\n",
    "result_dict = build_interpolants(X, Y)"
   ]
  },
  {
   "cell_type": "code",
   "execution_count": 54,
   "metadata": {},
   "outputs": [
    {
     "name": "stdout",
     "output_type": "stream",
     "text": [
      "m = 1\n",
      "(0,) [np.float64(0.493002)]\n",
      "(1,) [np.float64(-2.86786)]\n",
      "(2,) [np.float64(-2.867907)]\n",
      "(3,) [np.float64(-2.98473)]\n",
      "(4,) [np.float64(6.412661)]\n",
      "m = 2\n",
      "(0, 1) [np.float64(7.59277), np.float64(-4.052474)]\n",
      "(0, 2) [np.float64(7.592461), np.float64(-4.052289)]\n",
      "(0, 3) [np.float64(6.433397), np.float64(-3.358405)]\n",
      "(0, 4) [np.float64(22.128103), np.float64(-12.754174)]\n",
      "(1, 2) [np.float64(1.920368), np.float64(-3.167473)]\n",
      "(1, 3) [np.float64(1.193342), np.float64(-3.054044)]\n",
      "(1, 4) [np.float64(13.068257), np.float64(-4.906752)]\n",
      "(2, 3) [np.float64(1.193163), np.float64(-3.054033)]\n",
      "(2, 4) [np.float64(13.067879), np.float64(-4.906424)]\n",
      "(3, 4) [np.float64(11.629103), np.float64(-3.66019)]\n",
      "m = 3\n",
      "(0, 1, 2) [np.float64(12.81424), np.float64(-2.077844), np.float64(-2.8556)]\n",
      "(0, 1, 3) [np.float64(11.83819), np.float64(-1.341241), np.float64(-2.946765)]\n",
      "(0, 1, 4) [np.float64(20.46776), np.float64(-7.85378), np.float64(-2.140747)]\n",
      "(0, 2, 3) [np.float64(11.83795), np.float64(-1.341084), np.float64(-2.946773)]\n",
      "(0, 2, 4) [np.float64(20.4675), np.float64(-7.853399), np.float64(-2.140881)]\n",
      "(0, 3, 4) [np.float64(19.421918), np.float64(-6.321794), np.float64(-2.683061)]\n",
      "(1, 2, 3) [np.float64(7.425382), np.float64(-0.396449), np.float64(-2.986754)]\n",
      "(1, 2, 4) [np.float64(15.697237), np.float64(-2.977377), np.float64(-2.785433)]\n",
      "(1, 3, 4) [np.float64(14.694995), np.float64(-1.95289), np.float64(-2.920876)]\n",
      "(2, 3, 4) [np.float64(14.694748), np.float64(-1.952661), np.float64(-2.920888)]\n",
      "m = 4\n",
      "(0, 1, 2, 3) [np.float64(9.968755), np.float64(3.735978), np.float64(0.026833), np.float64(-3.000846)]\n",
      "(0, 1, 2, 4) [np.float64(10.776848), np.float64(3.000071), np.float64(0.197444), np.float64(-3.01262)]\n",
      "(0, 1, 3, 4) [np.float64(10.678937), np.float64(3.15877), np.float64(0.124296), np.float64(-3.004699)]\n",
      "(0, 2, 3, 4) [np.float64(10.678913), np.float64(3.158807), np.float64(0.124281), np.float64(-3.004698)]\n",
      "(1, 2, 3, 4) [np.float64(10.236273), np.float64(3.63697), np.float64(0.038192), np.float64(-3.001224)]\n",
      "m = 5\n",
      "(0, 1, 2, 3, 4) [np.float64(1.0), np.float64(9.0), np.float64(4.0), np.float64(0.0), np.float64(-3.0)]\n"
     ]
    }
   ],
   "source": [
    "for m in range(1, n + 1):\n",
    "    print(f\"m = {m}\")\n",
    "    # for each subset of size m, print the coefficients\n",
    "    for subset in combinations(range(len(X)), m):\n",
    "        print(subset, result_dict[subset])"
   ]
  },
  {
   "cell_type": "code",
   "execution_count": 56,
   "metadata": {},
   "outputs": [],
   "source": [
    "# check whether the coefficients for m=1 match Y\n",
    "for i in range(n):\n",
    "    assert np.isclose(result_dict[(i,)][0], Y[i]), f\"Failed for subset {(i,)}\""
   ]
  },
  {
   "cell_type": "code",
   "execution_count": 55,
   "metadata": {},
   "outputs": [
    {
     "ename": "AssertionError",
     "evalue": "Failed for subset (0,)",
     "output_type": "error",
     "traceback": [
      "\u001b[0;31m---------------------------------------------------------------------------\u001b[0m",
      "\u001b[0;31mAssertionError\u001b[0m                            Traceback (most recent call last)",
      "Cell \u001b[0;32mIn[55], line 3\u001b[0m\n\u001b[1;32m      1\u001b[0m \u001b[38;5;66;03m# check whether the coefficients for m=1 match Y\u001b[39;00m\n\u001b[1;32m      2\u001b[0m \u001b[38;5;28;01mfor\u001b[39;00m i \u001b[38;5;129;01min\u001b[39;00m \u001b[38;5;28mrange\u001b[39m(n):\n\u001b[0;32m----> 3\u001b[0m     \u001b[38;5;28;01massert\u001b[39;00m (result_dict[(i,)][\u001b[38;5;241m0\u001b[39m] \u001b[38;5;241m==\u001b[39m Y[i]), \u001b[38;5;124mf\u001b[39m\u001b[38;5;124m\"\u001b[39m\u001b[38;5;124mFailed for subset \u001b[39m\u001b[38;5;132;01m{\u001b[39;00m(i,)\u001b[38;5;132;01m}\u001b[39;00m\u001b[38;5;124m\"\u001b[39m\n",
      "\u001b[0;31mAssertionError\u001b[0m: Failed for subset (0,)"
     ]
    }
   ],
   "source": [
    "# check whether the coefficients for m=1 match Y\n",
    "for i in range(n):\n",
    "    assert (result_dict[(i,)][0] == Y[i]), f\"Failed for subset {(i,)}\""
   ]
  },
  {
   "cell_type": "code",
   "execution_count": 57,
   "metadata": {},
   "outputs": [],
   "source": [
    "# check whether the coefficients for m=5 match the original polynomial\n",
    "assert np.all(np.isclose(result_dict[tuple(range(n))], f)), \"Failed for subset of all points\""
   ]
  },
  {
   "cell_type": "code",
   "execution_count": 58,
   "metadata": {},
   "outputs": [
    {
     "data": {
      "text/plain": [
       "[np.float64(1.0),\n",
       " np.float64(9.0),\n",
       " np.float64(4.0),\n",
       " np.float64(0.0),\n",
       " np.float64(-3.0)]"
      ]
     },
     "execution_count": 58,
     "metadata": {},
     "output_type": "execute_result"
    }
   ],
   "source": [
    "result_dict[tuple(range(n))]"
   ]
  },
  {
   "cell_type": "code",
   "execution_count": 63,
   "metadata": {},
   "outputs": [
    {
     "name": "stdout",
     "output_type": "stream",
     "text": [
      "-3.3386923953271364e-07\n",
      "2.1774736147506246e-07\n",
      "-4.6278055920723205e-07\n",
      "1.808186138596568e-07\n",
      "2.643047523065434e-07\n"
     ]
    }
   ],
   "source": [
    "for i in range(n):\n",
    "    print(result_dict[(i,)][0] - Y[i])"
   ]
  },
  {
   "cell_type": "code",
   "execution_count": 68,
   "metadata": {},
   "outputs": [
    {
     "data": {
      "text/html": [
       "<pre style=\"white-space:pre;overflow-x:auto;line-height:normal;font-family:Menlo,'DejaVu Sans Mono',consolas,'Courier New',monospace\">Manim Community <span style=\"color: #008000; text-decoration-color: #008000\">v0.19.0</span>\n",
       "\n",
       "</pre>\n"
      ],
      "text/plain": [
       "Manim Community \u001b[32mv0.\u001b[0m\u001b[32m19.0\u001b[0m\n",
       "\n"
      ]
     },
     "metadata": {},
     "output_type": "display_data"
    },
    {
     "name": "stderr",
     "output_type": "stream",
     "text": [
      "                                                                                               \r"
     ]
    },
    {
     "data": {
      "text/html": [
       "<video src=\"media/jupyter/InterpolationAnimation@2025-02-11@01-15-29.mp4\" controls autoplay loop style=\"max-width: 60%;\"  >\n",
       "      Your browser does not support the <code>video</code> element.\n",
       "    </video>"
      ],
      "text/plain": [
       "<IPython.core.display.Video object>"
      ]
     },
     "metadata": {},
     "output_type": "display_data"
    }
   ],
   "source": [
    "from manim import *\n",
    "import numpy as np\n",
    "import pandas as pd\n",
    "from itertools import combinations\n",
    "\n",
    "class InterpolationAnimation(Scene):\n",
    "    def construct(self):\n",
    "        # 1. Parameter validation\n",
    "        n = 5  # Example value, modify as needed\n",
    "        if not isinstance(n, int) or n <= 0:\n",
    "            raise ValueError(\"n must be a positive integer\")\n",
    "\n",
    "        # 2. Generate random polynomial\n",
    "        f = random_poly(n-1)\n",
    "        \n",
    "        # 3. Generate random points\n",
    "        X, Y = random_points(n, f)\n",
    "        \n",
    "        # 4. Create and fade in axes\n",
    "        axes = Axes(\n",
    "            x_range=[-1,2],\n",
    "            y_range=[-10, 10],\n",
    "            axis_config={\"color\": BLUE},\n",
    "        ).add_coordinates()\n",
    "        \n",
    "        self.play(FadeIn(axes))\n",
    "        \n",
    "        # 5. Create and fade in points\n",
    "        dots = VGroup(*[\n",
    "            Dot(axes.c2p(x, y), color=RED)\n",
    "            for x, y in zip(X, Y)\n",
    "        ])\n",
    "        self.play(FadeIn(dots))\n",
    "        \n",
    "        # 6. Create degree equation\n",
    "        degree_text = MathTex(\"\\\\text{degree} =\").to_corner(UR)\n",
    "        self.play(Write(degree_text))\n",
    "        \n",
    "        # 7. Get interpolation dictionary\n",
    "        interp_dict = build_interpolants(X, Y)\n",
    "        \n",
    "        # 8-12. Main animation loop\n",
    "        for m in range(1, n+1):\n",
    "            # Update degree number\n",
    "            degree_num = MathTex(str(m)).next_to(degree_text, RIGHT)\n",
    "            self.play(Write(degree_num))\n",
    "            \n",
    "            # Get all m-element subsets\n",
    "            subsets = list(combinations(range(n), m))\n",
    "            time_per_poly = 3 / len(subsets)  # Total 3 seconds per m\n",
    "            \n",
    "            # Animate each polynomial for this m\n",
    "            for subset in subsets:\n",
    "                coeffs = interp_dict[tuple(subset)]\n",
    "                p = np.poly1d(coeffs)\n",
    "                \n",
    "                # Create graph\n",
    "                x_vals = np.linspace(-5, 5, 100)\n",
    "                y_vals = p(x_vals)\n",
    "                graph = axes.plot(\n",
    "                    lambda x: p(x),\n",
    "                    x_range=[-5, 5],\n",
    "                    color=YELLOW\n",
    "                )\n",
    "                \n",
    "                # Highlight selected points\n",
    "                selected_dots = VGroup(*[\n",
    "                    dots[i].copy().set_color(YELLOW)\n",
    "                    for i in subset\n",
    "                ])\n",
    "                \n",
    "                # Animate polynomial and point highlighting\n",
    "                self.play(\n",
    "                    Create(graph),\n",
    "                    Transform(dots, selected_dots),\n",
    "                    run_time=time_per_poly\n",
    "                )\n",
    "                \n",
    "                # Remove polynomial\n",
    "                self.remove(graph)\n",
    "                \n",
    "            # Reset points to original color\n",
    "            self.play(\n",
    "                dots.animate.set_color(RED)\n",
    "            )\n",
    "            \n",
    "            # Pause for 2 seconds\n",
    "            self.wait(2)\n",
    "            \n",
    "            # Remove degree number for next iteration\n",
    "            self.remove(degree_num)\n",
    "\n",
    "        # Final pause\n",
    "        self.wait(1)\n",
    "\n",
    "# To run the animation, use the following command in the terminal:\n",
    "%manim -ql -v WARNING InterpolationAnimation"
   ]
  }
 ],
 "metadata": {
  "kernelspec": {
   "display_name": "math392",
   "language": "python",
   "name": "python3"
  },
  "language_info": {
   "codemirror_mode": {
    "name": "ipython",
    "version": 3
   },
   "file_extension": ".py",
   "mimetype": "text/x-python",
   "name": "python",
   "nbconvert_exporter": "python",
   "pygments_lexer": "ipython3",
   "version": "3.11.11"
  }
 },
 "nbformat": 4,
 "nbformat_minor": 2
}
