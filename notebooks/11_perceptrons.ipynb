{
 "cells": [
  {
   "cell_type": "markdown",
   "metadata": {},
   "source": [
    "# Perceptrons and Logistic regression\n",
    "Last time, we saw a bunch of (fairly complicated) probabilistic classifiers, all of which used Bayes Theorems + certain assumptions to classify data by estimating posterior probabilities. This class, we'll see a different approach to classification, which is based on the idea of learning a decision boundary that separates the classes. \n",
    "\n",
    "### Setup\n",
    "As usual, we are given a labelled dataset with the following form:\n",
    "- There are $m$ instances in the dataset. \n",
    "- There are $n$ features $X_i$, each corresponding to a column vector $\\mathbf{x}_i \\in \\mathbb{R}^m$. \n",
    "- There is a single binary target $Y$ which takes the value $0$ or $1$ for each instance. The target is represented by a column vector $\\mathbf{y} \\in \\{0,1\\}^m$.\n",
    "\n",
    "In this notebook, we restrict ourselves to the case of binary classification for simplicity, and we will generalize (logistic regression) to the multi-class case later, when we get a deeper look at information theory."
   ]
  },
  {
   "cell_type": "markdown",
   "metadata": {},
   "source": [
    "## Perceptrons\n",
    "These are (perhaps) the simplest binary classifiers, and they also happen to be the building blocks of neural networks. \n",
    "\n",
    "### Biological inspiration\n",
    "Consider how the brain works:\n",
    "- The brain is made up of billions of cells called **neurons**.\n",
    "- Neurons are connected to each other through **synapses**.\n",
    "- Each neuron receives signals from other neurons through these synapses.\n",
    "- Each connection has a different strength (or “weight”), which determines how much influence one neuron (the input) has over another (the output).\n",
    "- When a neuron receives enough input from other neurons, it “fires” or \"activates\" and sends a signal to other neurons.\n",
    "- The \"enough input\" is determined by a threshold specific to the neuron, which is a fixed value that the input must exceed in order for the neuron to fire.\n",
    "\n",
    "### McCulloch-Pitts model\n",
    "The starting point for creating a mathematical abstraction of this process is to view the neurons task as one of *binary classification*: the neuron receives a collection of inputs, and it has to decide whether to fire or not.\n",
    "\n",
    "Warren McCulloch and Walter Pitts were the first to propose a mathematical model of a neuron in 1943 (as such, they are credited with being the inventors of the concept of an artificial neural network). They were both trained in mathematics and logic, and they were interested in the question of how the brain could perform logical operations. They proposed a model of a neuron that was based on the idea of a binary threshold unit, which is a simple mathematical function that takes a collection of inputs and produces a binary output (either 0 or 1). Each neuron was in a state of $0$ (inactive) or $1$ (active), and the neuron would change its state based on the inputs it received. \n",
    "\n",
    "In their model, the neurons were arranged into layers, with each layer corresponding to a time-step in the processing of information. Thus, a neuron at time $t$ would receive inputs from neurons at time $t-1$, and it would produce an output that would be sent to neurons at time $t+1$, and so on. This modelled the flow of information as a directed graph, and they proved (in some precise sense) that if the graph was acyclic, then the network of neurons could perform any logical operation. I refer you to the wikipedia article and associated links for more information: https://en.wikipedia.org/wiki/Neural_network#McCulloch%E2%80%93Pitts_neuron\n",
    "\n",
    "### Rosenblatt's perceptron\n",
    "In 1958, at the Cornell Aeronautical Laboratory, Frank Rosenblatt implemented (or simulated) a working model of the McCulloch-Pitts neuron, which he called the **perceptron**. He was a psychologist and computer scientist, and he was interested in the question of how the brain could learn from experience. He proposed a model of a perceptron that was based on the idea of a learning algorithm, which is a set of rules that can be used to update the weights of the connections between neurons in order to improve the performance of the network. This process is now recognized as a simplified/discretized form of **gradient descent**. \n",
    "\n",
    "Check out the wikipedia article for more information, and some pictures of a room-sized perceptron: https://en.wikipedia.org/wiki/Perceptron"
   ]
  },
  {
   "cell_type": "markdown",
   "metadata": {},
   "source": [
    "### Formal definition of a perceptron\n",
    "In the language of modern ML, a perceptron is a **binary classifier** that is built as follows:\n",
    "- Each neuron receives a collection of inputs $\\mathbf{x} = (x_1, \\ldots, x_n) \\in \\mathbb{R}^n$ (the signals).\n",
    "- Each input has a weight $w_i \\in \\mathbb{R}$ (the strength of the connection).\n",
    "- The neuron computes a weighted sum of the inputs: $z = \\sum_{i=1}^n w_i x_i$.\n",
    "- The neuron has it's own threshold $t \\in \\mathbb{R}$ (the neuron-specific threshold).\n",
    "- The neuron fires if $z \\geq t$, and does not fire otherwise.\n",
    "- Thus, the output of a neuron can be expressed as binary output: $y = 1$ if $z \\geq t$, and $y = 0$ otherwise.\n",
    "\n",
    "Observe that if we set $b = -t$, then the above process can be summarized as a function $P_{\\mathbf{w},b}: \\mathbb{R}^n \\to \\{0,1\\}$ that is a composition:\n",
    "\\begin{equation*}\n",
    "    \\mathbb{R}^n \\xrightarrow{F_{\\mathbf{w},b}} \\mathbb{R} \\xrightarrow{H} \\{0,1\\},\n",
    "\\end{equation*}\n",
    "in which the first function $F_{\\mathbf{w},b}$ is linear, and the second function $H$ is the **Heaviside step function** defined by\n",
    "\\begin{align*}\n",
    "    H(z) = \\begin{cases}\n",
    "        1 & \\textup{if } z \\geq 0,\\\\\n",
    "        0 & \\textup{if } z < 0.\n",
    "    \\end{cases}\n",
    "\\end{align*}\n",
    "Thus, the function $P_{\\mathbf{w},b}$ can be written directly as\n",
    "\\begin{equation*}\n",
    "    P_{\\mathbf{w},b}(\\mathbf{x}) = H(F_{\\mathbf{w},b}(\\mathbf{x})) = \\begin{cases}\n",
    "        1 & \\textup{if } \\mathbf{w}^T\\mathbf{x} + b \\geq 0,\\\\\n",
    "        0 & \\textup{if } \\mathbf{w}^T\\mathbf{x} + b < 0.\n",
    "    \\end{cases}\n",
    "\\end{equation*}"
   ]
  },
  {
   "cell_type": "markdown",
   "metadata": {},
   "source": [
    "### Hyperplanes\n",
    "The formula for the perceptron can be understood in geometric terms. To understand this, let's recall some concepts from linear algebra. \n",
    "- A **subspace** of $\\mathbb{R}^n$ is a collection of vectors that is closed under taking linear combinations. Equivalently, a subspace is a set of the form $\\textup{span}(\\mathbf{v}_1, \\ldots, \\mathbf{v}_k)$ for some vectors $\\mathbf{v}_1, \\ldots, \\mathbf{v}_k \\in \\mathbb{R}^n$.\n",
    "- An **affine subset** of $\\mathbb{R}^n$ is a subset that looks and smells like a subspace $U$, except that it is translated by some fixed vector $\\mathbf{b} \\in \\mathbb{R}^n$. Thus, an affine subset is a set of the form $$\\mathbf{b} + U = \\{\\mathbf{b} + \\mathbf{u} : \\mathbf{u} \\in U\\}.$$\n",
    "- The **dimension** of a subspace is the smallest number of vectors need to generate it. Thus, a line through the origin is a one-dimensional subspace, since it can be generated by a single vector (any non-zero vector on the line will do). A plane $U$ through the origin is a two-dimensional subspace, since it can be generated by two vectors, but not one-- to construct such generators, first take any non-zero $\\mathbf{u} \\in U$, and then take any $\\mathbf{v} \\in U$ which does not lie in $\\textup{span}(\\mathbf{u})$, which is the line generated by $\\mathbf{u}$. Then, $U = \\textup{span}(\\mathbf{u}, \\mathbf{v})$.\n",
    "- The **co-dimension** of a subspace $U$ of $\\mathbb{R}^n$ is the difference between the dimension of $\\mathbb{R}^n$ and the dimension of $U$. Thus, the co-dimension of a line through the origin is $n-1$, and the co-dimension of a plane through the origin is $n-2$, and so on.\n",
    "- Similarly, the **co-dimension** of an affine subset $\\mathbf{b} + U$ is the co-dimension of $U$.\n",
    "- A **hyperplane** in $\\mathbb{R}^n$ is an affine subset of co-dimension $1$. Thus, a hyperplane is a set of the form $\\mathbf{b} + U$ where $U$ is a subspace of co-dimension $1$. For example, the hyperplanes in $\\mathbb{R}^2$ are lines, and the hyperplanes in $\\mathbb{R}^3$ are planes, and hyperplanes in $\\mathbb{R}^4$ look like copies of $\\mathbb{R}^3$, and so on."
   ]
  },
  {
   "cell_type": "markdown",
   "metadata": {},
   "source": [
    "### Defining hyperplanes with dot products\n",
    "Fix a vector $\\mathbf{w} \\in \\mathbb{R}^n$. Recall that the **orthogonal subspace** to $\\mathbf{w}$ is the subspace of vectors $\\mathbf{x} \\in \\mathbb{R}^n$ such that $\\mathbf{w}^T\\mathbf{x} = 0$. This is a subspace of co-dimension $1$. Thinking in terms of equations, if we write $\\mathbf{w} = (w_1, \\ldots, w_n)$ and $\\mathbf{x} = (x_1, \\ldots, x_n)$, then we have\n",
    "\\begin{equation*}\n",
    "    \\mathbf{w}^T\\mathbf{x} = w_1x_1 + \\dotsb + w_nx_n.\n",
    "\\end{equation*}\n",
    "Thus, the orthogonal subspace to $\\mathbf{w}$ is simply the set of solutions to the single linear equation\n",
    "\\begin{equation*}\n",
    "    w_1x_1 + \\dotsb + w_nx_n = 0.\n",
    "\\end{equation*}\n",
    "Similarly, if we fix a scalar $b \\in \\mathbb{R}$, then the set of vectors $\\mathbf{x}$ that  defined by $\\mathbf{w}^T \\mathbf{x} = b$ is the affine subset defined by the single linear equation\n",
    "\\begin{equation*}\n",
    "    w_1x_1 + \\dotsb + w_nx_n = b.\n",
    "\\end{equation*}\n",
    "This is a hyperplane in $\\mathbb{R}^n$! \n",
    "\n",
    "It is a fact that *all* hyperplanes arise in this way, i.e. any hyperplane can be described as the set of $\\mathbf{x} \\in \\mathbb{R}^n$ such that $\\mathbf{w}^T\\mathbf{x} = b$ for some $\\mathbf{w} \\in \\mathbb{R}^n$ and $b \\in \\mathbb{R}$.\n",
    "\n",
    "**Example**: In $\\mathbb{R}^n$, we have the *standard basis vectors* (also sometimes called *coordinate vectors*) $e_1,\\dotsc,e_n$, such that any point $(x_1,\\dotsc,x_n)$ in $\\mathbb{R}^n$ can be written as \n",
    "\\begin{equation*}\n",
    "    \\mathbf{x} = x_1e_1 + \\dotsb + x_ne_n \\in \\mathbb{R}^n.\n",
    "\\end{equation*}\n",
    "For each $j=1,\\dotsc,n$, the orthogonal subspace to $\\mathbf{e}_j$ (call it $U_j$) can be written in two ways:\n",
    "- We have\n",
    "\\begin{align*}\n",
    "    U_j & = \\{ \\mathbf{x} \\in \\mathbb{R}^n \\mid \\mathbf{x}\\cdot \\mathbf{e}_j = 0\\} \\\\\n",
    "    & = \\{ \\mathbf{x} \\in \\mathbb{R}^n \\mid x_j = 0\\}.\n",
    "\\end{align*}\n",
    "- We have \n",
    "\\begin{align*}\n",
    "    U_j & = \\textup{span}(e_1,\\dotsc,e_{j-1},e_{j+1},\\dotsc,e_n)\\\\\n",
    "    & = \\left\\{ \\sum_{i=1}^{j-1} x_{i} \\mathbf{e}_{i} + \\sum_{i=j+1}^n x_{i} \\mathbf{e}_{i} \\mid x_1,\\dotsc,x_{j-1},x_{j+1},\\dotsc,x_n \\in \\mathbb{R} \\right\\}.\n",
    "\\end{align*}\n",
    "The first description of $U_j$ is **implicit**: to check whether a vector $\\mathbf{x}$ is in $U_j$, we need to check whether the equations in the definition are satisfied.\n",
    "On the other hand, the second description of $U_j$ is **explicit** or **parametric**: it allows us to generate all vectors in $U_j$ by varying the parameters $x_1,\\dotsc,x_{j-1},x_{j+1},\\dotsc,x_n$ (which you can't do if you just have the equations)."
   ]
  },
  {
   "cell_type": "code",
   "execution_count": 237,
   "metadata": {},
   "outputs": [],
   "source": [
    "import numpy as np\n",
    "import matplotlib.pyplot as plt\n",
    "from ipywidgets import interact, FloatSlider\n",
    "from ipywidgets import fixed\n",
    "\n",
    "def perceptron_visualizer(r, theta, b, X=None, y=None):\n",
    "    \"\"\"\n",
    "    Interactive visualization using polar coordinates.\n",
    "    \n",
    "    Parameters:\n",
    "        r (float): The magnitude of the vector w.\n",
    "        theta (float): Angle (in degrees) for w with respect to the positive X-axis.\n",
    "        b (float): Displacement magnitude. The vector w is shifted by -b along its own direction.\n",
    "        X (array-like, optional): A collection (n x 2) of data points to be plotted.\n",
    "        y (array-like, optional): An array of labels (0 or 1) for the points in X.  \n",
    "                                   Points with label 0 are drawn in 'darkred', label 1 in 'steelblue'.\n",
    "    \n",
    "    Functionality:\n",
    "      1. Converts polar coordinates (r, theta) to a Cartesian vector w = (u, v).\n",
    "      2. Computes the unit vector and then the displacement starting point P = w - b*(unit vector).\n",
    "      3. Plots one arrow starting at P with displacement w (a shifted copy of w).\n",
    "      4. Fixes the plot's domain ([-10, 10] in both axes) so that only the vector and lines move.\n",
    "      5. Plots the dashed hyperplane through the origin orthogonal to w.\n",
    "      6. Shifts that hyperplane to pass through P and draws it as a solid black line.\n",
    "      7. Using a meshgrid, shades the region on one side of the hyperplane in 'darkred' \n",
    "         (the same side where the shifted vector lies) and the opposite half in 'steelblue'\n",
    "         (both with alpha=0.3).\n",
    "      8. If provided, plots the points in X colored by their labels.\n",
    "    \"\"\"\n",
    "    # Convert theta (deg) to radians.\n",
    "    theta_rad = np.deg2rad(theta)\n",
    "    # Convert polar coordinates to Cartesian: w = (u, v)\n",
    "    u = r * np.cos(theta_rad)\n",
    "    v = r * np.sin(theta_rad)\n",
    "    \n",
    "    # Check for zero vector.\n",
    "    if u == 0 and v == 0:\n",
    "        raise ValueError(\"r cannot be 0 (w would be the zero vector).\")\n",
    "    \n",
    "    w = np.array([u, v])\n",
    "    norm_w = np.sqrt(u**2 + v**2)\n",
    "    unit_w = w / norm_w\n",
    "    \n",
    "    # Compute the shifted starting point, P = - b * (unit vector).\n",
    "    P = - b * unit_w\n",
    "    \n",
    "    # Set up a fixed plot.\n",
    "    fig, ax = plt.subplots(figsize=(5,5))\n",
    "    ax.set_aspect('equal')\n",
    "    ax.grid(True)\n",
    "    ax.set_xlim(-10, 10)\n",
    "    ax.set_ylim(-10, 10)\n",
    "    \n",
    "    # Plot the shifted vector: an arrow starting at P with displacement w.\n",
    "    ax.arrow(P[0], P[1], w[0], w[1], head_width=0.3, head_length=0.4,\n",
    "             fc='red', ec='red', length_includes_head=True,\n",
    "             label=\"Shifted vector (w starting at P)\")\n",
    "    \n",
    "    # Compute the direction orthogonal to w: (-v, u).\n",
    "    orth_dir = np.array([-v, u])\n",
    "    \n",
    "    # Generate points for the orthogonal line through the origin.\n",
    "    t_vals = np.linspace(-10, 10, 200)\n",
    "    line_orth = np.outer(t_vals, orth_dir)  # Points along the dashed line (through origin)\n",
    "    ax.plot(line_orth[:, 0], line_orth[:, 1], 'k--', label=\"Orthogonal line: uX+vY=0\", linewidth=1.5)\n",
    "    \n",
    "    # Shift the orthogonal line by P so that it passes through P.\n",
    "    line_shift = line_orth + P\n",
    "    ax.plot(line_shift[:, 0], line_shift[:, 1], 'k-', label=\"Shifted line: uX+vY+b=0\", linewidth=2)\n",
    "    \n",
    "    # If data points were provided, plot them.\n",
    "    if X is not None and y is not None:\n",
    "        X = np.array(X)\n",
    "        y = np.array(y)\n",
    "        # Plot points with label 0 in darkred and label 1 in steelblue.\n",
    "        ax.scatter(X[y==0, 0], X[y==0, 1], color='darkred', edgecolor='k', s=50, label=\"Class 0\")\n",
    "        ax.scatter(X[y==1, 0], X[y==1, 1], color='steelblue', edgecolor='k', s=50, label=\"Class 1\")\n",
    "    \n",
    "    ax.set_xlabel(\"X\")\n",
    "    ax.set_ylabel(\"Y\")\n",
    "    ax.set_title(\"Perceptron visualizer\")\n",
    "    ax.legend()\n",
    "    plt.show()"
   ]
  },
  {
   "cell_type": "code",
   "execution_count": 238,
   "metadata": {},
   "outputs": [
    {
     "data": {
      "application/vnd.jupyter.widget-view+json": {
       "model_id": "756b0f02dffb4edd8bf27160dc747eb1",
       "version_major": 2,
       "version_minor": 0
      },
      "text/plain": [
       "interactive(children=(FloatSlider(value=1.0, description='r', max=10.0, min=0.1), FloatSlider(value=45.0, desc…"
      ]
     },
     "metadata": {},
     "output_type": "display_data"
    },
    {
     "data": {
      "text/plain": [
       "<function __main__.perceptron_visualizer(r, theta, b, X=None, y=None)>"
      ]
     },
     "execution_count": 238,
     "metadata": {},
     "output_type": "execute_result"
    }
   ],
   "source": [
    "\n",
    "X = None\n",
    "Y = None\n",
    "interact(perceptron_visualizer,\n",
    "         r=FloatSlider(min=0.1, max=10, step=0.1, value=1, description='r'),\n",
    "         theta=FloatSlider(min=0, max=360, step=1, value=45, description='θ (deg)'),\n",
    "         b=FloatSlider(min=-10, max=10, step=0.5, value=0, description='b'),\n",
    "         X=fixed(X),\n",
    "         y=fixed(y))"
   ]
  },
  {
   "cell_type": "code",
   "execution_count": 239,
   "metadata": {},
   "outputs": [
    {
     "data": {
      "image/png": "[encoded data removed]",
      "text/plain": [
       "<Figure size 500x500 with 1 Axes>"
      ]
     },
     "metadata": {},
     "output_type": "display_data"
    }
   ],
   "source": [
    "from sklearn.datasets import make_blobs\n",
    "\n",
    "#visualize two blobs of two classes\n",
    "X, y = make_blobs(n_samples=100, centers=2, n_features=2, center_box=(-2, 2))\n",
    "\n",
    "#plot two blobs, label the classes and the axes\n",
    "plt.figure(figsize=(5,5))\n",
    "plt.scatter(X[y==0, 0], X[y==0, 1], color='darkred', edgecolor='k', s=50, label=\"Class 0\")\n",
    "plt.scatter(X[y==1, 0], X[y==1, 1], color='steelblue', edgecolor='k', s=50, label=\"Class 1\")\n",
    "plt.xlabel(\"X\")\n",
    "plt.ylabel(\"Y\")\n",
    "plt.title(\"Two blobs of two classes\")\n",
    "plt.legend()\n",
    "plt.show()"
   ]
  },
  {
   "cell_type": "code",
   "execution_count": 240,
   "metadata": {},
   "outputs": [
    {
     "data": {
      "application/vnd.jupyter.widget-view+json": {
       "model_id": "0c967bb24fe94612bafea31b76f25679",
       "version_major": 2,
       "version_minor": 0
      },
      "text/plain": [
       "interactive(children=(FloatSlider(value=1.0, description='r', max=10.0, min=0.1), FloatSlider(value=45.0, desc…"
      ]
     },
     "metadata": {},
     "output_type": "display_data"
    },
    {
     "data": {
      "text/plain": [
       "<function __main__.perceptron_visualizer(r, theta, b, X=None, y=None)>"
      ]
     },
     "execution_count": 240,
     "metadata": {},
     "output_type": "execute_result"
    }
   ],
   "source": [
    "from sklearn.datasets import make_blobs\n",
    "\n",
    "# generate blobs with coordinates between -10 and 10\n",
    "X, y = make_blobs(n_samples=50, n_features=2, centers=2, cluster_std=2)\n",
    "X = X * 9 / np.max(np.abs(X))\n",
    "\n",
    "interact(perceptron_visualizer,\n",
    "         r=FloatSlider(min=0.1, max=10, step=0.1, value=1, description='r'),\n",
    "         theta=FloatSlider(min=0, max=360, step=1, value=45, description='θ (deg)'),\n",
    "         b=FloatSlider(min=-10, max=10, step=0.5, value=0, description='b'),\n",
    "         X=fixed(X),\n",
    "         y=fixed(y))"
   ]
  },
  {
   "cell_type": "markdown",
   "metadata": {},
   "source": [
    "### Linearity of the perceptron\n",
    "The perceptron is a linear classifier, which means that it partitions the input space $\\mathbb{R}^n$ into two **half-spaces** (these are simply subsets of $\\mathbb{R}^n$ lying on either side of a separating hyperplane), and predicts $1$ on one side of the hyperplane and $0$ on the other side. This is being visualized in the above plot.\n",
    "\n",
    "We can understand this for a fixed $\\mathbf{w} \\in \\mathbb{R}^n$ and $b$ in steps, as follows:\n",
    "- Start by visualizing the orthogonal subspace to $\\mathbf{w}$, i.e. the set of $\\mathbf{x} \\in \\mathbb{R}^n$ such that $\\mathbf{w}^T\\mathbf{x} = 0$. This depends only on the direction of $\\mathbf{w}$ and not its magnitude.\n",
    "- Then, visualize the set of $\\mathbf{x} \\in \\mathbb{R}^n$ such that $\\mathbf{w}^T\\mathbf{x} + b = 0$. This is a hyperplane in $\\mathbb{R}^n$, which is obtained by **shifting** the orthogonal subspace by $-b$ along the line $\\textup{span}(\\mathbf{w})$.\n",
    "- The set of $\\mathbf{x} \\in \\mathbb{R}^n$ such that $\\mathbf{w}^T\\mathbf{x} > b$ is a half-space (the positive half). This is the set of $\\mathbf{x}$ that are \"on the same side\" of the hyperplane as $\\mathbf{w}$.\n",
    "- The set of $\\mathbf{x} \\in \\mathbb{R}^n$ such that $\\mathbf{w}^T\\mathbf{x} < b$ is a half-space (the negative half). This is the set of $\\mathbf{x}$ that are \"on the opposite side\" of the hyperplane as $\\mathbf{w}$.\n",
    "\n",
    "Putting it all together, we see that the perceptron is a linear classifier that partitions the input space into two half-spaces, and predicts $1$ for $\\mathbf{x}$ lying in the positive half-space, and $0$ for $\\mathbf{x}$ lying in the negative half-space."
   ]
  },
  {
   "cell_type": "markdown",
   "metadata": {},
   "source": [
    "### The Perceptron Learning Algorithm\n",
    "\n",
    "The Perceptron Learning Algorithm is a fundamental method for training a simple binary classifier. It is an iterative method that updates the weights of a perceptron based on errors made in classification. Below is a detailed breakdown of how it works.\n",
    "\n",
    "#### Setup and Notation\n",
    "\n",
    "We have:\n",
    "- **Input features**: $\\mathbf{x}$, where each sample $\\mathbf{x}_i$ has $n$ features.\n",
    "- **Binary labels**: $y$ ($0$ or $1$).\n",
    "- **Weights**: $\\mathbf{w}$, initialized to zeros or small random values.\n",
    "- **Bias**: $b$, initialized to zero.\n",
    "A perceptron makes predictions using a linear decision rule:\n",
    "$$\\hat{y} = H(\\mathbf{w} \\cdot \\mathbf{x} + b),$$\n",
    "where:\n",
    "- $\\mathbf{w} \\cdot \\mathbf{x}$ is the dot product of the weight vector and input features.\n",
    "- $b$ is the bias term (optional but useful).\n",
    "- $H$ is $1$ if the input is positive, $0$ otherwise.\n",
    "\n",
    "#### Learning Algorithm\n",
    "\n",
    "**Step 1: Initialize Weights and Bias**: Set all weights $\\mathbf{w}$ to zero, and also $b=0$.\n",
    "\n",
    "**Step 2: Iterate Over the Dataset**\n",
    "\n",
    "For each training sample $(\\mathbf{x}_i, y_i)$:\n",
    "- *Make prediction*: $\\hat{y}_i = H(\\mathbf{w} \\cdot \\mathbf{x}_i + b).$\n",
    "- *Update rule*: Update the weights and bias as follows:\n",
    "\\begin{align*}\n",
    "    \\mathbf{w} &\\leftarrow \\mathbf{w} + \\eta (y_i - \\hat{y}_i) \\mathbf{x}_i,\\\\\n",
    "    b &\\leftarrow b + \\eta (y_i - \\hat{y}_i),\n",
    "\\end{align*}\n",
    "where $\\eta$ is the learning rate (a small positive constant, e.g., 0.01). Note: If $y_i = \\hat{y}_i$, then the update does nothing! If $y_i \\neq \\hat{y}_i$, then the update moves the weights and bias in the direction that reduces the error.\n",
    "\n",
    "**Step 3: Repeat Until Convergence**: Continue updating until all points are correctly classified or a maximum number of iterations is reached.\n",
    "\n",
    "If the data is linearly separable (i.e. there actually does exist a hyperplane which divides the two classes), then the algorithm is guaranteed to converge to a solution!\n",
    "\n",
    "We can easily run the Perceptron algorithm using `sklearn`'s `Perceptron` class. Let's see how it works on a simple synthetic dataset."
   ]
  },
  {
   "cell_type": "code",
   "execution_count": 236,
   "metadata": {},
   "outputs": [
    {
     "name": "stdout",
     "output_type": "stream",
     "text": [
      "Weights: [0.03366824 0.00370909]\n",
      "Bias: 0.01\n",
      "Final Accuracy: 0.9\n",
      "Number of steps: 1000\n"
     ]
    },
    {
     "data": {
      "image/png": "[encoded data removed]",
      "text/plain": [
       "<Figure size 640x480 with 1 Axes>"
      ]
     },
     "metadata": {},
     "output_type": "display_data"
    }
   ],
   "source": [
    "# import libraries for data generation and visualization\n",
    "import numpy as np\n",
    "import matplotlib.pyplot as plt\n",
    "import matplotlib.animation as animation\n",
    "from sklearn.datasets import make_blobs\n",
    "\n",
    "# Create two horizontally separated blobs\n",
    "X, y = make_blobs(n_samples=50, centers=2, cluster_std=1.0, \n",
    "                  center_box=(-3.0, 3.0))\n",
    "# Move the blobs horizontally apart by adding offset to x coordinates\n",
    "X[y == 0, 0] -= 1  # Move left blob further left\n",
    "X[y == 1, 0] += 1  # Move right blob further right\n",
    "\n",
    "# import precpetron class\n",
    "from sklearn.linear_model import Perceptron\n",
    "\n",
    "# Initialize the Perceptron model\n",
    "perceptron = Perceptron(max_iter=1000, # Maximum number of iterations\n",
    "                        eta0=0.01, # Learning rate\n",
    "                        tol= None, # Tolerance for stopping criteria, i.e. if the change in loss is less than this value, training stops\n",
    "                        random_state=42, # Random seed for reproducibility\n",
    "                        early_stopping=False, # Stop once the validation score is not improving\n",
    "                        # validation_fraction=0.1, # Fraction of training data to set aside as validation set for early stopping\n",
    "                        # n_iter_no_change=50 # Maximum number of epochs with no improvement on the validation score\n",
    "                        )\n",
    "# Fit the model to the dataset\n",
    "perceptron.fit(X, y)\n",
    "# Get the weights and bias from the trained model\n",
    "weights = perceptron.coef_[0]\n",
    "bias = perceptron.intercept_[0]\n",
    "# Calculate the slope and intercept of the decision boundary\n",
    "slope = -weights[0] / weights[1]\n",
    "intercept = -bias / weights[1]\n",
    "\n",
    "# Print the weights and bias\n",
    "print(\"Weights:\", weights)\n",
    "print(\"Bias:\", bias)\n",
    "# Print the final accuracy of the model\n",
    "print(\"Final Accuracy:\", perceptron.score(X, y))\n",
    "# Print the number of steps (epochs) required for training\n",
    "print(\"Number of steps:\", perceptron.n_iter_)\n",
    "\n",
    "#visualize the decision boundary\n",
    "fig, ax = plt.subplots()\n",
    "# make axis background white\n",
    "ax.set_facecolor('white')\n",
    "plt.scatter(X[:, 0], X[:, 1], c=y, cmap='coolwarm')\n",
    "# plot the origin\n",
    "plt.plot(0, 0, 'ko')\n",
    "x_vals = np.linspace(-4, 4, 100)\n",
    "y_vals = slope * x_vals + intercept\n",
    "plt.plot(x_vals, y_vals, color='black', label='Decision Boundary')\n",
    "# plot x and y axes\n",
    "plt.axhline(0, color='black',linewidth=0.5)\n",
    "plt.axvline(0, color='black',linewidth=0.5)\n",
    "plt.title(\"Decision Boundary of Perceptron\")\n",
    "plt.xlabel(\"Feature 1\")\n",
    "plt.ylabel(\"Feature 2\")\n",
    "plt.legend()\n",
    "plt.show()"
   ]
  },
  {
   "cell_type": "markdown",
   "metadata": {},
   "source": [
    "### Softening the Perceptron\n",
    "The perceptron is a simple and elegant algorithm, but it has some limitations. The main limitation is that if the data is not **linearly separable** (i.e. there is no hyperplane separating the two classes perfectly), then the algorithm will not converge to solution (instead, it will continue until the number of iterations is reached, or the accuracy stops improving with further epochs). \n",
    "\n",
    "Note also that the perceptron is a hard classifier, since it outputs only $0$ or $1$. \n",
    "\n",
    "It is natural then to try to soften the perceptron into a soft classifier: the output should be a float between $0$ and $1$, with larger values indicating higher probability of being in class $1$, and smaller values indicating higher probability of being in class $0$. Quite intuitively/logically, the output should be exactly $0.5$ when the input is on the hyperplane, indicating that the classifier is uncertain about the class of the input along the hyperplane.\n",
    "\n",
    "In summary, we want to replace the Heaviside function $H$ with a function $\\sigma$ that satisfies the following properties (you should note that we will be applying this with $z = \\mathbf{w}^T\\mathbf{x} + b$):\n",
    "- $\\sigma(z) \\in [0,1]$ for all $z \\in \\mathbb{R}$.\n",
    "- $\\sigma(z) \\to 0$ as $z \\to -\\infty$.\n",
    "- $\\sigma(z) \\to 1$ as $z \\to \\infty$.\n",
    "- $\\sigma(0) = 0.5$.\n",
    "\n",
    "The function that satisfies these properties is the **logistic function**:\n",
    "\\begin{equation*}\n",
    "    \\sigma(z) = \\frac{1}{1 + e^{-z}}.\n",
    "\\end{equation*}\n",
    "This function is also called the **sigmoid function**. It is a smooth, continuous function that maps any real number to the interval $[0,1]$. It is also differentiable, which makes it useful for optimization algorithms like gradient descent.\n",
    "\n",
    "### Logistic Regression\n",
    "The logistic regression model for binary classification is the soft classifier that we get by replacing the Heaviside function in the perceptron with the logistic function. The model is defined as follows:\n",
    "\\begin{equation*}\n",
    "    P_{\\mathbf{w},b}(\\mathbf{x}) = \\sigma(\\mathbf{w}^T\\mathbf{x} + b) = \\frac{1}{1 + e^{-(\\mathbf{w}^T\\mathbf{x} + b)}}.\n",
    "\\end{equation*}\n",
    "The model is trained by minimizing the **log loss** (also called the **binary cross-entropy loss**), which is a sophisticated measure of the difference between the predicted probabilities and the true labels. The log loss, denoted $\\mathcal{L}$, is defined as follows:\n",
    "\\begin{equation*}\n",
    "    \\mathcal{L}(\\mathbf{w},b) = - \\frac{1}{m} \\log \\left( \\prod_{i=1}^m \\hat{y}_i^{y_i} (1 - \\hat{y}_i)^{1 - y_i} \\right),\n",
    "\\end{equation*}\n",
    "where as usual $\\hat{y}_i = P_{\\mathbf{w},b}(\\mathbf{x}_i)$, and $m$ is the number of samples in the dataset. \n",
    "\n",
    "This looks quite ridiculous and complicated. Using the magical properties of the logarithm, we can simplify this as follows:\n",
    "\\begin{align*}\n",
    "    \\mathcal{L}(\\mathbf{w},b) & = - \\frac{1}{m} \\log \\left( \\prod_{i=1}^m \\hat{y}_i^{y_i} (1 - \\hat{y}_i)^{1 - y_i} \\right)\\\\\n",
    "    & = - \\frac{1}{m} \\sum_{i=1}^m \\log \\left( \\hat{y}_i^{y_i} (1 - \\hat{y}_i)^{1 - y_i} \\right)\\\\\n",
    "    & = - \\frac{1}{m} \\sum_{i=1}^m y_i \\log(\\hat{y}_i) + (1 - y_i) \\log(1 - \\hat{y}_i).\n",
    "\\end{align*}\n",
    "We will see next time that, in fact, this loss function is the negative of the log-likelihood $P(\\vec{X} \\mid Y)$ of the logistic regression model, which is why it is called the log loss!\n"
   ]
  }
 ],
 "metadata": {
  "kernelspec": {
   "display_name": "math392",
   "language": "python",
   "name": "python3"
  },
  "language_info": {
   "codemirror_mode": {
    "name": "ipython",
    "version": 3
   },
   "file_extension": ".py",
   "mimetype": "text/x-python",
   "name": "python",
   "nbconvert_exporter": "python",
   "pygments_lexer": "ipython3",
   "version": "3.11.11"
  }
 },
 "nbformat": 4,
 "nbformat_minor": 2
}
