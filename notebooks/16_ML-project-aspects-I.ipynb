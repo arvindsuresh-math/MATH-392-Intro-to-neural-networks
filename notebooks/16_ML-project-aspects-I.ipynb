{
 "cells": [
  {
   "cell_type": "markdown",
   "metadata": {},
   "source": [
    "# ML project aspects I\n",
    "\n",
    "### Outline\n",
    "1. Bias-variance tradeoff\n",
    "2. Cross-validation\n",
    "3. Regularization"
   ]
  }
 ],
 "metadata": {
  "language_info": {
   "name": "python"
  }
 },
 "nbformat": 4,
 "nbformat_minor": 2
}
