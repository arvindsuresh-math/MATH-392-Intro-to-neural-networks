{
 "cells": [
  {
   "cell_type": "markdown",
   "id": "5310895f",
   "metadata": {},
   "source": [
    "# Backpropagation\n",
    "\n",
    "### Outline\n",
    "1. Computational Graphs\n",
    "2. Backpropagation\n",
    "3. Implementing Karpathy's `micrograd`"
   ]
  }
 ],
 "metadata": {
  "language_info": {
   "name": "python"
  }
 },
 "nbformat": 4,
 "nbformat_minor": 5
}
