{
 "cells": [
  {
   "cell_type": "markdown",
   "id": "ba6c95d2",
   "metadata": {},
   "source": [
    "# Multi-layer perceptrons\n",
    "\n",
    "### Outline\n",
    "1. The MLP architecture\n",
    "2. Overview of tensors\n",
    "3. PyTorch implementation"
   ]
  },
  {
   "cell_type": "markdown",
   "id": "f384a60a",
   "metadata": {},
   "source": [
    "## 1. Multi-layer perceptrons\n",
    "\n",
    "### Some models we've seen so far\n",
    "\n",
    "Suppose we have a regression of classification task, and a labelled dataset with $n$ continuous features. So, we have:\n",
    "\\begin{equation*}\n",
    "    \\textup{Input space} = \\mathbb{R}^{n},\n",
    "\\end{equation*}\n",
    "where each input vector is of the form $x = (x_1,\\dotsc,x_n)$.\n",
    "\n",
    "We've seen a few different parametric models. \n",
    "\n",
    "1. **Linear regression** (regression tasks):\n",
    "    - Output space: $\\mathbb{R}$\n",
    "    - Parameter space: $\\mathbb{R}^{n+1}$ (the parameters are $b\\in \\R$ (bias) and $w\\in \\R^n$ (weights)).\n",
    "    - Model: $F_w(x) = w^T x = w_0 + w_1 x_1 + \\dotsb + w_n x_n$"
   ]
  }
 ],
 "metadata": {
  "language_info": {
   "name": "python"
  }
 },
 "nbformat": 4,
 "nbformat_minor": 5
}
