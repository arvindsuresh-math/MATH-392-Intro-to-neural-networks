{
 "cells": [
  {
   "cell_type": "markdown",
   "id": "ba6c95d2",
   "metadata": {},
   "source": [
    "# Multi-layer perceptrons\n",
    "\n",
    "### Outline\n",
    "1. The MLP architecture\n",
    "2. Overview of tensors\n",
    "3. PyTorch implementation"
   ]
  }
 ],
 "metadata": {
  "language_info": {
   "name": "python"
  }
 },
 "nbformat": 4,
 "nbformat_minor": 5
}
