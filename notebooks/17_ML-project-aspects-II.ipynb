{
 "cells": [
  {
   "cell_type": "markdown",
   "id": "db176e97",
   "metadata": {},
   "source": [
    "# ML project aspects II\n",
    "\n",
    "### Outline\n",
    "1. Feature engineering\n",
    "2. Hyperparameter tuning\n",
    "3. Performance metrics"
   ]
  }
 ],
 "metadata": {
  "language_info": {
   "name": "python"
  }
 },
 "nbformat": 4,
 "nbformat_minor": 5
}
