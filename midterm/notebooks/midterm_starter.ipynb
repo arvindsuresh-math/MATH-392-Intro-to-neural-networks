{
 "cells": [
  {
   "cell_type": "code",
   "execution_count": null,
   "id": "79c70eae",
   "metadata": {},
   "outputs": [],
   "source": [
    "import pandas as pd\n",
    "import numpy as np\n",
    "import matplotlib.pyplot as plt\n",
    "import seaborn as sns"
   ]
  },
  {
   "cell_type": "code",
   "execution_count": null,
   "id": "9fcd4325",
   "metadata": {},
   "outputs": [],
   "source": [
    "df = pd.read_csv('../data/presidential_election_dataset.csv')\n",
    "df_description = pd.read_csv('../data/data_dictionary.csv')"
   ]
  },
  {
   "cell_type": "code",
   "execution_count": null,
   "id": "673fa552",
   "metadata": {},
   "outputs": [],
   "source": [
    "df_description.head()\n",
    "\n",
    "# # run the next line to see the types of columns\n",
    "df_description.groupby('category').size()"
   ]
  },
  {
   "cell_type": "code",
   "execution_count": null,
   "id": "15ea2b56",
   "metadata": {},
   "outputs": [],
   "source": [
    "# group features by category for easier access\n",
    "idx = df_description[df_description['category'] == 'id']['feature'].values.tolist()\n",
    "sex_age_edus = df_description[df_description['category'] == 'sex ~ age ~ education']['feature'].values.tolist()\n",
    "sex_age_races = df_description[df_description['category'] == 'sex ~ age ~ race']['feature'].values.tolist()\n",
    "sex_maritals = df_description[df_description['category'] == 'sex ~ marital status']['feature'].values.tolist()\n",
    "households = df_description[df_description['category'] == 'household']['feature'].values.tolist()\n",
    "labors = df_description[df_description['category'] == 'labor force']['feature'].values.tolist()\n",
    "nativities = df_description[df_description['category'] == 'nativity']['feature'].values.tolist()\n",
    "sexes = df_description[df_description['category'] == 'sex']['feature'].values.tolist()\n",
    "incomes = df_description[df_description['category'] == 'income']['feature'].values.tolist()\n",
    "targets = df_description[df_description['category'] == 'target']['feature'].values.tolist()\n",
    "\n",
    "# combine all the lists into one\n",
    "combined_list = sex_age_edus + sex_age_races + sex_maritals + targets + households + labors + nativities + sexes + incomes + idx\n",
    "\n",
    "# all other columns\n",
    "misc = list(set(df.columns) - set(combined_list))"
   ]
  },
  {
   "cell_type": "code",
   "execution_count": null,
   "id": "3c69c8a2",
   "metadata": {},
   "outputs": [],
   "source": [
    "# example of how to get statistic for chosen columns\n",
    "df[households].describe()"
   ]
  },
  {
   "cell_type": "code",
   "execution_count": null,
   "id": "04cbbafd",
   "metadata": {},
   "outputs": [],
   "source": [
    "households2 = [ 'households_income_under_10k',\n",
    " 'households_income_10k_15k',\n",
    " 'households_income_15k_25k',\n",
    " 'households_income_25k_plus'] # leaving out households_total\n",
    "\n",
    "# normalize househoulds 2 by total households\n",
    "df[households2] = df[households2].div(df['households_total'], axis=0)\n",
    "\n",
    "df[households]"
   ]
  },
  {
   "cell_type": "code",
   "execution_count": null,
   "id": "34355c47",
   "metadata": {},
   "outputs": [],
   "source": [
    "# normalize total_votes of each county by total_votes for the year\n",
    "df['county_vote_share'] = df['total_votes'] / df.groupby(['year'])['total_votes'].transform('sum')\n",
    "\n",
    "# check that the sum of county_vote_share is 1 for each year\n",
    "df.groupby(['year'])['county_vote_share'].sum()"
   ]
  },
  {
   "cell_type": "code",
   "execution_count": null,
   "id": "efec2fb4",
   "metadata": {},
   "outputs": [],
   "source": [
    "# create a population density column\n",
    "df['population_density'] = df['persons_total'] / df['land_area_sqkm']\n",
    "\n",
    "# create a persons_per_household column\n",
    "df['persons_per_household'] = df['persons_total'] / df['households_total']"
   ]
  },
  {
   "cell_type": "code",
   "execution_count": null,
   "id": "b1514a9a",
   "metadata": {},
   "outputs": [],
   "source": [
    "#normalize the democrat, republican, and other columns by total_votes\n",
    "df['democrat_prob'] = df['democrat'] / df['total_votes']\n",
    "df['republican_prob'] = df['republican'] / df['total_votes']\n",
    "df['other_prob'] = df['other'] / df['total_votes']"
   ]
  },
  {
   "cell_type": "code",
   "execution_count": null,
   "id": "d4d9874f",
   "metadata": {},
   "outputs": [],
   "source": [
    "df[['democrat_prob', 'republican_prob', 'other_prob']]"
   ]
  },
  {
   "cell_type": "code",
   "execution_count": null,
   "id": "177ae778",
   "metadata": {},
   "outputs": [],
   "source": [
    "# normalize the sexes columns by persons_total\n",
    "df[sexes] = df[sexes].div(df['persons_total'], axis=0)\n",
    "df[sexes]"
   ]
  },
  {
   "cell_type": "code",
   "execution_count": null,
   "id": "495ff790",
   "metadata": {},
   "outputs": [],
   "source": [
    "sexes = ['male','female']\n",
    "ages = ['18_24', \n",
    "        '25_34', \n",
    "        '35_44', \n",
    "        '45_64', \n",
    "        '65_plus']\n",
    "edus = ['less_than_9th', \n",
    "        'some_hs', \n",
    "        'hs_grad', \n",
    "        'some_college', \n",
    "        'associates', \n",
    "        'bachelors', \n",
    "        'graduate']\n",
    "races = ['black',\n",
    "         'white',\n",
    "         'aian',\n",
    "         'asian',\n",
    "         'nhpi',\n",
    "         'multi',\n",
    "         'other']"
   ]
  },
  {
   "cell_type": "code",
   "execution_count": null,
   "id": "0acf71db",
   "metadata": {},
   "outputs": [],
   "source": [
    "#let's compute a sex by race breakdown (age over 18) for each county by summing up the sex ~ age ~ race columns over the ages\n",
    "for sex in sexes:\n",
    "    for race in races:\n",
    "        #create the name for the new sex ~ race column\n",
    "        col_name = f'{sex}_{race}'\n",
    "\n",
    "        #get a list of columns that begin with sex and end with race\n",
    "        cols = [col for col in df.columns if col.startswith(sex) and col.endswith(race)]\n",
    "        # print(cols)\n",
    "\n",
    "        #sum the columns over the ages\n",
    "        df[col_name] = df[cols].sum(axis=1)\n",
    "\n",
    "# check that the new columns are correct\n",
    "sex_race = [col for col in df.columns if any(col == f'{sex}_{race}' for sex in sexes for race in races)]\n",
    "df[sex_race]"
   ]
  },
  {
   "cell_type": "code",
   "execution_count": null,
   "id": "e2114f33",
   "metadata": {},
   "outputs": [],
   "source": [
    "#make one dataframe for each year, put them in a dictionary with year as key\n",
    "dfs = {}\n",
    "dfs['2008'] = df[df['year'] == 2008]\n",
    "dfs['2012'] = df[df['year'] == 2012]\n",
    "dfs['2016'] = df[df['year'] == 2016]\n",
    "dfs['2020'] = df[df['year'] == 2020]"
   ]
  }
 ],
 "metadata": {
  "kernelspec": {
   "display_name": "math392",
   "language": "python",
   "name": "python3"
  },
  "language_info": {
   "codemirror_mode": {
    "name": "ipython",
    "version": 3
   },
   "file_extension": ".py",
   "mimetype": "text/x-python",
   "name": "python",
   "nbconvert_exporter": "python",
   "pygments_lexer": "ipython3",
   "version": "3.11.8"
  }
 },
 "nbformat": 4,
 "nbformat_minor": 5
}
