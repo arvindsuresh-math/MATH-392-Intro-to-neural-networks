{
 "cells": [
  {
   "cell_type": "code",
   "execution_count": 29,
   "id": "dab75135",
   "metadata": {},
   "outputs": [],
   "source": [
    "import pandas as pd\n",
    "import numpy as np\n",
    "import json\n",
    "import torch\n",
    "import torch.nn as nn\n",
    "import torch.optim as optim\n",
    "import election_project as ep\n",
    "from typing import List, Dict, Tuple, Any, Type, Union"
   ]
  },
  {
   "cell_type": "code",
   "execution_count": 27,
   "id": "1a85a937",
   "metadata": {},
   "outputs": [
    {
     "name": "stdout",
     "output_type": "stream",
     "text": [
      "Using MPS device (Apple Silicon GPU)\n"
     ]
    }
   ],
   "source": [
    "# =============================================================================\n",
    "# 1. Global Constants and Configuration\n",
    "# =============================================================================\n",
    "\n",
    "# --- File Paths ---\n",
    "DATA_DIR = \"./data\"\n",
    "MODELS_DIR = \"./models\"\n",
    "RESULTS_DIR = \"./results\"\n",
    "LOGS_DIR = \"./logs\"\n",
    "PREDS_DIR = \"./preds\"\n",
    "\n",
    "# --- Device Selection ---\n",
    "if torch.backends.mps.is_available() and torch.backends.mps.is_built():\n",
    "    DEVICE = torch.device(\"mps\")\n",
    "    print(\"Using MPS device (Apple Silicon GPU)\")\n",
    "elif torch.cuda.is_available():\n",
    "    DEVICE = torch.device(\"cuda\")\n",
    "    print(\"Using CUDA device (NVIDIA GPU)\")\n",
    "else:\n",
    "    DEVICE = torch.device(\"cpu\")\n",
    "    print(\"Using CPU device\")\n",
    "\n",
    "# --- Default Training Hyperparameters ---\n",
    "BATCH_SIZE: int = 64\n",
    "MAX_CV_EPOCHS: int = 30 # Max epochs for CV\n",
    "PATIENCE: int = 10      # Patience for early stopping during CV\n",
    "FINAL_TRAIN_EPOCHS: int = 150 # Fixed epochs for final training\n",
    "OPTIMIZER_CHOICE: Type[optim.Optimizer] = optim.AdamW # Default optimizer\n",
    "\n",
    "# --- Default Hyperparameter Grids for CV ---\n",
    "RIDGE_PARAM_GRID = [0.0001, 0.001, 0.01, 0.1, 1.0, 10.0]\n",
    "SOFTMAX_PARAM_GRID = {\n",
    "    'learning_rate': [1e-2, 1e-3, 1e-4],\n",
    "    'weight_decay': [0, 1e-5, 1e-3]\n",
    "}\n",
    "MLP1_PARAM_GRID = {\n",
    "    'n_hidden': [16, 64, 128],\n",
    "    'dropout_rate': [0.1, 0.3, 0.5],\n",
    "    'learning_rate': [1e-2, 1e-3, 1e-4]\n",
    "    # Note: weight_decay could be added here too if desired\n",
    "}\n",
    "MLP2_PARAM_GRID = {\n",
    "    'shared_hidden_size': [16, 32, 64],\n",
    "    'dropout_rate': [0.1, 0.3, 0.5],\n",
    "    'learning_rate': [1e-2, 1e-3, 1e-4]\n",
    "    # Note: weight_decay could be added here too if desired\n",
    "}\n",
    "\n",
    "# --- XGBoost Hyperparameter Grid and Constants ---\n",
    "XGB_PARAM_GRID = {\n",
    "    'learning_rate': [0.05, 0.1, 0.2],     # Step size shrinkage (eta)\n",
    "    'max_depth': [5, 7],                # Max depth of a tree\n",
    "    'subsample': [0.8, 1.0],         # Fraction of samples used per tree\n",
    "    'colsample_bytree': [0.8, 1.0],  # Fraction of features used per tree\n",
    "    'gamma': [0.1, 0.2],                # Min loss reduction for split (min_split_loss)\n",
    "    'reg_alpha': [0, 0.1, 1.0],            # L1 regularization\n",
    "    'reg_lambda': [0, 0.1, 1.0],           # L2 regularization\n",
    "    # Fixed parameters for consistency\n",
    "    'objective': ['reg:squarederror'], # Regression objective for each target\n",
    "    'n_estimators': [200],             # High initial value, CV uses early stopping\n",
    "    'random_state': [42]               # For reproducibility\n",
    "}\n",
    "\n",
    "XGB_EARLY_STOPPING_ROUNDS = 20 # Early stopping rounds for CV fits\n",
    "\n",
    "RUNG_EPOCHS = [25, 50, 75, 100, 125, 150, 175, 200] # Rung epochs for MLP models\n",
    "RUNG_PATIENCE = [15, 20, 25, 30, 35, 40, 45, 50] # Rung patience for MLP models"
   ]
  },
  {
   "cell_type": "code",
   "execution_count": 28,
   "id": "497e3789",
   "metadata": {},
   "outputs": [
    {
     "ename": "AttributeError",
     "evalue": "'DataHandler' object has no attribute 'data_csv_path'",
     "output_type": "error",
     "traceback": [
      "\u001b[0;31m---------------------------------------------------------------------------\u001b[0m",
      "\u001b[0;31mAttributeError\u001b[0m                            Traceback (most recent call last)",
      "Cell \u001b[0;32mIn[28], line 1\u001b[0m\n\u001b[0;32m----> 1\u001b[0m dh \u001b[38;5;241m=\u001b[39m ep\u001b[38;5;241m.\u001b[39mDataHandler()\n",
      "File \u001b[0;32m~/Documents/MATH-392-Intro-to-neural-networks/arvind-midterm-2/election_project.py:225\u001b[0m, in \u001b[0;36m__init__\u001b[0;34m(self, test_year, features_to_drop)\u001b[0m\n\u001b[1;32m      0\u001b[0m <Error retrieving source code with stack_data see ipython/ipython#13598>\n",
      "File \u001b[0;32m~/Documents/MATH-392-Intro-to-neural-networks/arvind-midterm-2/election_project.py:225\u001b[0m, in \u001b[0;36m<listcomp>\u001b[0;34m(.0)\u001b[0m\n\u001b[1;32m      0\u001b[0m <Error retrieving source code with stack_data see ipython/ipython#13598>\n",
      "File \u001b[0;32m~/Documents/MATH-392-Intro-to-neural-networks/arvind-midterm-2/election_project.py:242\u001b[0m, in \u001b[0;36m_load_data\u001b[0;34m(self, fit_years, transform_year)\u001b[0m\n\u001b[1;32m    240\u001b[0m results_list \u001b[38;5;241m=\u001b[39m []\n\u001b[1;32m    241\u001b[0m best_score \u001b[38;5;241m=\u001b[39m \u001b[38;5;28mfloat\u001b[39m(\u001b[38;5;124m'\u001b[39m\u001b[38;5;124minf\u001b[39m\u001b[38;5;124m'\u001b[39m)\n\u001b[0;32m--> 242\u001b[0m current_best_alpha \u001b[38;5;241m=\u001b[39m \u001b[38;5;28;01mNone\u001b[39;00m\n\u001b[1;32m    244\u001b[0m \u001b[38;5;28;01mfor\u001b[39;00m alpha \u001b[38;5;129;01min\u001b[39;00m param_grid:\n\u001b[1;32m    245\u001b[0m     \u001b[38;5;28mprint\u001b[39m(\u001b[38;5;124m\"\u001b[39m\u001b[38;5;124m--------------------------------------\u001b[39m\u001b[38;5;124m\"\u001b[39m)\n",
      "\u001b[0;31mAttributeError\u001b[0m: 'DataHandler' object has no attribute 'data_csv_path'"
     ]
    }
   ],
   "source": [
    "dh = ep.DataHandler()"
   ]
  }
 ],
 "metadata": {
  "kernelspec": {
   "display_name": "math392",
   "language": "python",
   "name": "python3"
  },
  "language_info": {
   "codemirror_mode": {
    "name": "ipython",
    "version": 3
   },
   "file_extension": ".py",
   "mimetype": "text/x-python",
   "name": "python",
   "nbconvert_exporter": "python",
   "pygments_lexer": "ipython3",
   "version": "3.11.8"
  }
 },
 "nbformat": 4,
 "nbformat_minor": 5
}
