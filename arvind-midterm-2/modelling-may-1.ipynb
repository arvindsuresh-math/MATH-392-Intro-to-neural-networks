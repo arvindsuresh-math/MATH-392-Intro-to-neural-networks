{
 "cells": [
  {
   "cell_type": "code",
   "execution_count": 12,
   "id": "dab75135",
   "metadata": {},
   "outputs": [],
   "source": [
    "import pandas as pd\n",
    "import numpy as np\n",
    "import json\n",
    "import torch\n",
    "import torch.nn as nn\n",
    "import torch.optim as optim\n",
    "from typing import List, Dict, Tuple, Any, Type, Union"
   ]
  },
  {
   "cell_type": "code",
   "execution_count": 13,
   "id": "4981d41d",
   "metadata": {},
   "outputs": [],
   "source": [
    "import election_project as ep"
   ]
  },
  {
   "cell_type": "code",
   "execution_count": 14,
   "id": "1a85a937",
   "metadata": {},
   "outputs": [],
   "source": [
    "# --- Default Training Hyperparameters ---\n",
    "BATCH_SIZE: int = 64\n",
    "MAX_CV_EPOCHS: int = 30 # Max epochs for CV\n",
    "PATIENCE: int = 10      # Patience for early stopping during CV\n",
    "FINAL_TRAIN_EPOCHS: int = 150 # Fixed epochs for final training\n",
    "OPTIMIZER_CHOICE: Type[optim.Optimizer] = optim.AdamW # Default optimizer\n",
    "\n",
    "# --- Default Hyperparameter Grids for CV ---\n",
    "RIDGE_PARAM_GRID = [0.0001, 0.001, 0.01, 0.1, 1.0, 10.0]\n",
    "SOFTMAX_PARAM_GRID = {\n",
    "    'learning_rate': [1e-2, 1e-3, 1e-4],\n",
    "    'weight_decay': [0, 1e-5, 1e-3]\n",
    "}\n",
    "MLP1_PARAM_GRID = {\n",
    "    'n_hidden': [16, 64, 128],\n",
    "    'dropout_rate': [0.1, 0.3, 0.5],\n",
    "    'learning_rate': [1e-2, 1e-3, 1e-4]\n",
    "    # Note: weight_decay could be added here too if desired\n",
    "}\n",
    "MLP2_PARAM_GRID = {\n",
    "    'shared_hidden_size': [16, 32, 64],\n",
    "    'dropout_rate': [0.1, 0.3, 0.5],\n",
    "    'learning_rate': [1e-2, 1e-3, 1e-4]\n",
    "    # Note: weight_decay could be added here too if desired\n",
    "}\n",
    "\n",
    "# --- XGBoost Hyperparameter Grid and Constants ---\n",
    "XGB_PARAM_GRID = {\n",
    "    'learning_rate': [0.05, 0.1, 0.2],     # Step size shrinkage (eta)\n",
    "    'max_depth': [5, 7],                # Max depth of a tree\n",
    "    'subsample': [0.8, 1.0],         # Fraction of samples used per tree\n",
    "    'colsample_bytree': [0.8, 1.0],  # Fraction of features used per tree\n",
    "    'gamma': [0.1, 0.2],                # Min loss reduction for split (min_split_loss)\n",
    "    'reg_alpha': [0, 0.1, 1.0],            # L1 regularization\n",
    "    'reg_lambda': [0, 0.1, 1.0],           # L2 regularization\n",
    "    # Fixed parameters for consistency\n",
    "    'objective': ['reg:squarederror'], # Regression objective for each target\n",
    "    'n_estimators': [200],             # High initial value, CV uses early stopping\n",
    "    'random_state': [42]               # For reproducibility\n",
    "}\n",
    "\n",
    "XGB_EARLY_STOPPING_ROUNDS = 20 # Early stopping rounds for CV fits\n",
    "\n",
    "RUNG_EPOCHS = [25, 50, 75, 100, 125, 150, 175, 200] # Rung epochs for MLP models\n",
    "RUNG_PATIENCE = [15, 20, 25, 30, 35, 40, 45, 50] # Rung patience for MLP models"
   ]
  },
  {
   "cell_type": "code",
   "execution_count": 15,
   "id": "497e3789",
   "metadata": {},
   "outputs": [
    {
     "ename": "NameError",
     "evalue": "name 'BATCH_SIZE' is not defined",
     "output_type": "error",
     "traceback": [
      "\u001b[0;31m---------------------------------------------------------------------------\u001b[0m",
      "\u001b[0;31mNameError\u001b[0m                                 Traceback (most recent call last)",
      "Cell \u001b[0;32mIn[15], line 1\u001b[0m\n\u001b[0;32m----> 1\u001b[0m dh \u001b[38;5;241m=\u001b[39m ep\u001b[38;5;241m.\u001b[39mDataHandler()\n",
      "File \u001b[0;32m~/Documents/MATH-392-Intro-to-neural-networks/arvind-midterm-2/election_project.py:182\u001b[0m, in \u001b[0;36mDataHandler.__init__\u001b[0;34m(self, test_year, features_to_drop)\u001b[0m\n\u001b[1;32m    180\u001b[0m \u001b[38;5;28mself\u001b[39m\u001b[38;5;241m.\u001b[39mfinal_data \u001b[38;5;241m=\u001b[39m \u001b[38;5;28mself\u001b[39m\u001b[38;5;241m.\u001b[39m_load_data(\u001b[38;5;28mself\u001b[39m\u001b[38;5;241m.\u001b[39mtrain_years, \u001b[38;5;28mself\u001b[39m\u001b[38;5;241m.\u001b[39mtest_year)\n\u001b[1;32m    181\u001b[0m \u001b[38;5;66;03m# create DataLoaders for cross-validation and final training\u001b[39;00m\n\u001b[0;32m--> 182\u001b[0m \u001b[38;5;28mself\u001b[39m\u001b[38;5;241m.\u001b[39mcv_dataloaders \u001b[38;5;241m=\u001b[39m [\u001b[38;5;28mself\u001b[39m\u001b[38;5;241m.\u001b[39m_create_dataloaders(train_data, val_data) \u001b[38;5;28;01mfor\u001b[39;00m train_data, val_data \u001b[38;5;129;01min\u001b[39;00m \u001b[38;5;28mself\u001b[39m\u001b[38;5;241m.\u001b[39mcv_data]\n\u001b[1;32m    183\u001b[0m \u001b[38;5;28mself\u001b[39m\u001b[38;5;241m.\u001b[39mfinal_dataloaders \u001b[38;5;241m=\u001b[39m \u001b[38;5;28mself\u001b[39m\u001b[38;5;241m.\u001b[39m_create_dataloaders(\u001b[38;5;28mself\u001b[39m\u001b[38;5;241m.\u001b[39mfinal_data[\u001b[38;5;241m0\u001b[39m], \u001b[38;5;28mself\u001b[39m\u001b[38;5;241m.\u001b[39mfinal_data[\u001b[38;5;241m1\u001b[39m])\n\u001b[1;32m    185\u001b[0m \u001b[38;5;28mprint\u001b[39m(\u001b[38;5;124mf\u001b[39m\u001b[38;5;124m\"\u001b[39m\u001b[38;5;124mDataHandler initialized:\u001b[39m\u001b[38;5;124m\"\u001b[39m)\n",
      "File \u001b[0;32m~/Documents/MATH-392-Intro-to-neural-networks/arvind-midterm-2/election_project.py:182\u001b[0m, in \u001b[0;36m<listcomp>\u001b[0;34m(.0)\u001b[0m\n\u001b[1;32m    180\u001b[0m \u001b[38;5;28mself\u001b[39m\u001b[38;5;241m.\u001b[39mfinal_data \u001b[38;5;241m=\u001b[39m \u001b[38;5;28mself\u001b[39m\u001b[38;5;241m.\u001b[39m_load_data(\u001b[38;5;28mself\u001b[39m\u001b[38;5;241m.\u001b[39mtrain_years, \u001b[38;5;28mself\u001b[39m\u001b[38;5;241m.\u001b[39mtest_year)\n\u001b[1;32m    181\u001b[0m \u001b[38;5;66;03m# create DataLoaders for cross-validation and final training\u001b[39;00m\n\u001b[0;32m--> 182\u001b[0m \u001b[38;5;28mself\u001b[39m\u001b[38;5;241m.\u001b[39mcv_dataloaders \u001b[38;5;241m=\u001b[39m [\u001b[38;5;28mself\u001b[39m\u001b[38;5;241m.\u001b[39m_create_dataloaders(train_data, val_data) \u001b[38;5;28;01mfor\u001b[39;00m train_data, val_data \u001b[38;5;129;01min\u001b[39;00m \u001b[38;5;28mself\u001b[39m\u001b[38;5;241m.\u001b[39mcv_data]\n\u001b[1;32m    183\u001b[0m \u001b[38;5;28mself\u001b[39m\u001b[38;5;241m.\u001b[39mfinal_dataloaders \u001b[38;5;241m=\u001b[39m \u001b[38;5;28mself\u001b[39m\u001b[38;5;241m.\u001b[39m_create_dataloaders(\u001b[38;5;28mself\u001b[39m\u001b[38;5;241m.\u001b[39mfinal_data[\u001b[38;5;241m0\u001b[39m], \u001b[38;5;28mself\u001b[39m\u001b[38;5;241m.\u001b[39mfinal_data[\u001b[38;5;241m1\u001b[39m])\n\u001b[1;32m    185\u001b[0m \u001b[38;5;28mprint\u001b[39m(\u001b[38;5;124mf\u001b[39m\u001b[38;5;124m\"\u001b[39m\u001b[38;5;124mDataHandler initialized:\u001b[39m\u001b[38;5;124m\"\u001b[39m)\n",
      "File \u001b[0;32m~/Documents/MATH-392-Intro-to-neural-networks/arvind-midterm-2/election_project.py:246\u001b[0m, in \u001b[0;36mDataHandler._create_dataloaders\u001b[0;34m(self, train_data, val_data)\u001b[0m\n\u001b[1;32m    240\u001b[0m val_dataset \u001b[38;5;241m=\u001b[39m \u001b[38;5;28mself\u001b[39m\u001b[38;5;241m.\u001b[39m_create_dataset(val_data)\n\u001b[1;32m    242\u001b[0m \u001b[38;5;66;03m# Note: Global seed setting should happen in the main notebook/script ONCE.\u001b[39;00m\n\u001b[1;32m    243\u001b[0m \u001b[38;5;66;03m# torch.manual_seed(42) # Removed from here\u001b[39;00m\n\u001b[1;32m    245\u001b[0m train_loader \u001b[38;5;241m=\u001b[39m DataLoader(train_dataset,\n\u001b[0;32m--> 246\u001b[0m                           batch_size\u001b[38;5;241m=\u001b[39mBATCH_SIZE,\n\u001b[1;32m    247\u001b[0m                           shuffle\u001b[38;5;241m=\u001b[39m\u001b[38;5;28;01mTrue\u001b[39;00m,\n\u001b[1;32m    248\u001b[0m                           num_workers\u001b[38;5;241m=\u001b[39m\u001b[38;5;241m0\u001b[39m) \u001b[38;5;66;03m# Set num_workers if needed\u001b[39;00m\n\u001b[1;32m    249\u001b[0m val_loader \u001b[38;5;241m=\u001b[39m DataLoader(val_dataset,\n\u001b[1;32m    250\u001b[0m                         batch_size\u001b[38;5;241m=\u001b[39mBATCH_SIZE,\n\u001b[1;32m    251\u001b[0m                         shuffle\u001b[38;5;241m=\u001b[39m\u001b[38;5;28;01mFalse\u001b[39;00m,\n\u001b[1;32m    252\u001b[0m                         num_workers\u001b[38;5;241m=\u001b[39m\u001b[38;5;241m0\u001b[39m)\n\u001b[1;32m    254\u001b[0m \u001b[38;5;28;01mreturn\u001b[39;00m train_loader, val_loader\n",
      "\u001b[0;31mNameError\u001b[0m: name 'BATCH_SIZE' is not defined"
     ]
    }
   ],
   "source": [
    "dh = ep.DataHandler()"
   ]
  }
 ],
 "metadata": {
  "kernelspec": {
   "display_name": "math392",
   "language": "python",
   "name": "python3"
  },
  "language_info": {
   "codemirror_mode": {
    "name": "ipython",
    "version": 3
   },
   "file_extension": ".py",
   "mimetype": "text/x-python",
   "name": "python",
   "nbconvert_exporter": "python",
   "pygments_lexer": "ipython3",
   "version": "3.11.8"
  }
 },
 "nbformat": 4,
 "nbformat_minor": 5
}
